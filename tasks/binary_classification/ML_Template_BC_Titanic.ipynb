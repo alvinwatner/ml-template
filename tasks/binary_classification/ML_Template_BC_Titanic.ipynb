{
  "nbformat": 4,
  "nbformat_minor": 0,
  "metadata": {
    "colab": {
      "name": "ML_Template_BC_Titanic.ipynb",
      "provenance": [],
      "collapsed_sections": [],
      "toc_visible": true
    },
    "kernelspec": {
      "name": "python3",
      "display_name": "Python 3"
    },
    "language_info": {
      "name": "python"
    },
    "widgets": {
      "application/vnd.jupyter.widget-state+json": {
        "b33e3f1c11fe4d90bc44d31a90d30e8d": {
          "model_module": "@jupyter-widgets/controls",
          "model_name": "HBoxModel",
          "model_module_version": "1.5.0",
          "state": {
            "_dom_classes": [],
            "_model_module": "@jupyter-widgets/controls",
            "_model_module_version": "1.5.0",
            "_model_name": "HBoxModel",
            "_view_count": null,
            "_view_module": "@jupyter-widgets/controls",
            "_view_module_version": "1.5.0",
            "_view_name": "HBoxView",
            "box_style": "",
            "children": [
              "IPY_MODEL_290ff6af07db48518a050bc6f463db83",
              "IPY_MODEL_f5a9180872be47b3b0d9e65128aa5da7",
              "IPY_MODEL_8f6d284c30894f19bbc8f363358b0a95"
            ],
            "layout": "IPY_MODEL_61cb28fb64234cdba257b642d2a5cac9"
          }
        },
        "290ff6af07db48518a050bc6f463db83": {
          "model_module": "@jupyter-widgets/controls",
          "model_name": "HTMLModel",
          "model_module_version": "1.5.0",
          "state": {
            "_dom_classes": [],
            "_model_module": "@jupyter-widgets/controls",
            "_model_module_version": "1.5.0",
            "_model_name": "HTMLModel",
            "_view_count": null,
            "_view_module": "@jupyter-widgets/controls",
            "_view_module_version": "1.5.0",
            "_view_name": "HTMLView",
            "description": "",
            "description_tooltip": null,
            "layout": "IPY_MODEL_92b7af49ebf6465e8db577fe46705812",
            "placeholder": "​",
            "style": "IPY_MODEL_115833a5499746eaaecd846c16f60cae",
            "value": "100%"
          }
        },
        "f5a9180872be47b3b0d9e65128aa5da7": {
          "model_module": "@jupyter-widgets/controls",
          "model_name": "FloatProgressModel",
          "model_module_version": "1.5.0",
          "state": {
            "_dom_classes": [],
            "_model_module": "@jupyter-widgets/controls",
            "_model_module_version": "1.5.0",
            "_model_name": "FloatProgressModel",
            "_view_count": null,
            "_view_module": "@jupyter-widgets/controls",
            "_view_module_version": "1.5.0",
            "_view_name": "ProgressView",
            "bar_style": "success",
            "description": "",
            "description_tooltip": null,
            "layout": "IPY_MODEL_e51474ff959e406d9716afa072eed70e",
            "max": 10,
            "min": 0,
            "orientation": "horizontal",
            "style": "IPY_MODEL_e1cfafd4e4ec4f549b25dc90bf358d11",
            "value": 10
          }
        },
        "8f6d284c30894f19bbc8f363358b0a95": {
          "model_module": "@jupyter-widgets/controls",
          "model_name": "HTMLModel",
          "model_module_version": "1.5.0",
          "state": {
            "_dom_classes": [],
            "_model_module": "@jupyter-widgets/controls",
            "_model_module_version": "1.5.0",
            "_model_name": "HTMLModel",
            "_view_count": null,
            "_view_module": "@jupyter-widgets/controls",
            "_view_module_version": "1.5.0",
            "_view_name": "HTMLView",
            "description": "",
            "description_tooltip": null,
            "layout": "IPY_MODEL_e9f7048eb2a34801ac7983e603b5c892",
            "placeholder": "​",
            "style": "IPY_MODEL_eb94aca3691041ffb27c6b15763fa401",
            "value": " 10/10 [00:00&lt;00:00,  4.52it/s]"
          }
        },
        "61cb28fb64234cdba257b642d2a5cac9": {
          "model_module": "@jupyter-widgets/base",
          "model_name": "LayoutModel",
          "model_module_version": "1.2.0",
          "state": {
            "_model_module": "@jupyter-widgets/base",
            "_model_module_version": "1.2.0",
            "_model_name": "LayoutModel",
            "_view_count": null,
            "_view_module": "@jupyter-widgets/base",
            "_view_module_version": "1.2.0",
            "_view_name": "LayoutView",
            "align_content": null,
            "align_items": null,
            "align_self": null,
            "border": null,
            "bottom": null,
            "display": null,
            "flex": null,
            "flex_flow": null,
            "grid_area": null,
            "grid_auto_columns": null,
            "grid_auto_flow": null,
            "grid_auto_rows": null,
            "grid_column": null,
            "grid_gap": null,
            "grid_row": null,
            "grid_template_areas": null,
            "grid_template_columns": null,
            "grid_template_rows": null,
            "height": null,
            "justify_content": null,
            "justify_items": null,
            "left": null,
            "margin": null,
            "max_height": null,
            "max_width": null,
            "min_height": null,
            "min_width": null,
            "object_fit": null,
            "object_position": null,
            "order": null,
            "overflow": null,
            "overflow_x": null,
            "overflow_y": null,
            "padding": null,
            "right": null,
            "top": null,
            "visibility": null,
            "width": null
          }
        },
        "92b7af49ebf6465e8db577fe46705812": {
          "model_module": "@jupyter-widgets/base",
          "model_name": "LayoutModel",
          "model_module_version": "1.2.0",
          "state": {
            "_model_module": "@jupyter-widgets/base",
            "_model_module_version": "1.2.0",
            "_model_name": "LayoutModel",
            "_view_count": null,
            "_view_module": "@jupyter-widgets/base",
            "_view_module_version": "1.2.0",
            "_view_name": "LayoutView",
            "align_content": null,
            "align_items": null,
            "align_self": null,
            "border": null,
            "bottom": null,
            "display": null,
            "flex": null,
            "flex_flow": null,
            "grid_area": null,
            "grid_auto_columns": null,
            "grid_auto_flow": null,
            "grid_auto_rows": null,
            "grid_column": null,
            "grid_gap": null,
            "grid_row": null,
            "grid_template_areas": null,
            "grid_template_columns": null,
            "grid_template_rows": null,
            "height": null,
            "justify_content": null,
            "justify_items": null,
            "left": null,
            "margin": null,
            "max_height": null,
            "max_width": null,
            "min_height": null,
            "min_width": null,
            "object_fit": null,
            "object_position": null,
            "order": null,
            "overflow": null,
            "overflow_x": null,
            "overflow_y": null,
            "padding": null,
            "right": null,
            "top": null,
            "visibility": null,
            "width": null
          }
        },
        "115833a5499746eaaecd846c16f60cae": {
          "model_module": "@jupyter-widgets/controls",
          "model_name": "DescriptionStyleModel",
          "model_module_version": "1.5.0",
          "state": {
            "_model_module": "@jupyter-widgets/controls",
            "_model_module_version": "1.5.0",
            "_model_name": "DescriptionStyleModel",
            "_view_count": null,
            "_view_module": "@jupyter-widgets/base",
            "_view_module_version": "1.2.0",
            "_view_name": "StyleView",
            "description_width": ""
          }
        },
        "e51474ff959e406d9716afa072eed70e": {
          "model_module": "@jupyter-widgets/base",
          "model_name": "LayoutModel",
          "model_module_version": "1.2.0",
          "state": {
            "_model_module": "@jupyter-widgets/base",
            "_model_module_version": "1.2.0",
            "_model_name": "LayoutModel",
            "_view_count": null,
            "_view_module": "@jupyter-widgets/base",
            "_view_module_version": "1.2.0",
            "_view_name": "LayoutView",
            "align_content": null,
            "align_items": null,
            "align_self": null,
            "border": null,
            "bottom": null,
            "display": null,
            "flex": null,
            "flex_flow": null,
            "grid_area": null,
            "grid_auto_columns": null,
            "grid_auto_flow": null,
            "grid_auto_rows": null,
            "grid_column": null,
            "grid_gap": null,
            "grid_row": null,
            "grid_template_areas": null,
            "grid_template_columns": null,
            "grid_template_rows": null,
            "height": null,
            "justify_content": null,
            "justify_items": null,
            "left": null,
            "margin": null,
            "max_height": null,
            "max_width": null,
            "min_height": null,
            "min_width": null,
            "object_fit": null,
            "object_position": null,
            "order": null,
            "overflow": null,
            "overflow_x": null,
            "overflow_y": null,
            "padding": null,
            "right": null,
            "top": null,
            "visibility": null,
            "width": null
          }
        },
        "e1cfafd4e4ec4f549b25dc90bf358d11": {
          "model_module": "@jupyter-widgets/controls",
          "model_name": "ProgressStyleModel",
          "model_module_version": "1.5.0",
          "state": {
            "_model_module": "@jupyter-widgets/controls",
            "_model_module_version": "1.5.0",
            "_model_name": "ProgressStyleModel",
            "_view_count": null,
            "_view_module": "@jupyter-widgets/base",
            "_view_module_version": "1.2.0",
            "_view_name": "StyleView",
            "bar_color": null,
            "description_width": ""
          }
        },
        "e9f7048eb2a34801ac7983e603b5c892": {
          "model_module": "@jupyter-widgets/base",
          "model_name": "LayoutModel",
          "model_module_version": "1.2.0",
          "state": {
            "_model_module": "@jupyter-widgets/base",
            "_model_module_version": "1.2.0",
            "_model_name": "LayoutModel",
            "_view_count": null,
            "_view_module": "@jupyter-widgets/base",
            "_view_module_version": "1.2.0",
            "_view_name": "LayoutView",
            "align_content": null,
            "align_items": null,
            "align_self": null,
            "border": null,
            "bottom": null,
            "display": null,
            "flex": null,
            "flex_flow": null,
            "grid_area": null,
            "grid_auto_columns": null,
            "grid_auto_flow": null,
            "grid_auto_rows": null,
            "grid_column": null,
            "grid_gap": null,
            "grid_row": null,
            "grid_template_areas": null,
            "grid_template_columns": null,
            "grid_template_rows": null,
            "height": null,
            "justify_content": null,
            "justify_items": null,
            "left": null,
            "margin": null,
            "max_height": null,
            "max_width": null,
            "min_height": null,
            "min_width": null,
            "object_fit": null,
            "object_position": null,
            "order": null,
            "overflow": null,
            "overflow_x": null,
            "overflow_y": null,
            "padding": null,
            "right": null,
            "top": null,
            "visibility": null,
            "width": null
          }
        },
        "eb94aca3691041ffb27c6b15763fa401": {
          "model_module": "@jupyter-widgets/controls",
          "model_name": "DescriptionStyleModel",
          "model_module_version": "1.5.0",
          "state": {
            "_model_module": "@jupyter-widgets/controls",
            "_model_module_version": "1.5.0",
            "_model_name": "DescriptionStyleModel",
            "_view_count": null,
            "_view_module": "@jupyter-widgets/base",
            "_view_module_version": "1.2.0",
            "_view_name": "StyleView",
            "description_width": ""
          }
        },
        "c7f8d6312ce3404a9d2f3f945b21cfeb": {
          "model_module": "@jupyter-widgets/controls",
          "model_name": "HBoxModel",
          "model_module_version": "1.5.0",
          "state": {
            "_dom_classes": [],
            "_model_module": "@jupyter-widgets/controls",
            "_model_module_version": "1.5.0",
            "_model_name": "HBoxModel",
            "_view_count": null,
            "_view_module": "@jupyter-widgets/controls",
            "_view_module_version": "1.5.0",
            "_view_name": "HBoxView",
            "box_style": "",
            "children": [
              "IPY_MODEL_def692b184de40d49cd6d04cdad2b085",
              "IPY_MODEL_01c9532576c446fab71236a4e41d5acd",
              "IPY_MODEL_012548afbb5f4fa39255d384b74d3800"
            ],
            "layout": "IPY_MODEL_b7c9c7a249674108b415cf4ffde7d9a8"
          }
        },
        "def692b184de40d49cd6d04cdad2b085": {
          "model_module": "@jupyter-widgets/controls",
          "model_name": "HTMLModel",
          "model_module_version": "1.5.0",
          "state": {
            "_dom_classes": [],
            "_model_module": "@jupyter-widgets/controls",
            "_model_module_version": "1.5.0",
            "_model_name": "HTMLModel",
            "_view_count": null,
            "_view_module": "@jupyter-widgets/controls",
            "_view_module_version": "1.5.0",
            "_view_name": "HTMLView",
            "description": "",
            "description_tooltip": null,
            "layout": "IPY_MODEL_de13c17ccc294ae6a080fc3ddf81cabe",
            "placeholder": "​",
            "style": "IPY_MODEL_0e72b714771b48b891c8b9564c434195",
            "value": "100%"
          }
        },
        "01c9532576c446fab71236a4e41d5acd": {
          "model_module": "@jupyter-widgets/controls",
          "model_name": "FloatProgressModel",
          "model_module_version": "1.5.0",
          "state": {
            "_dom_classes": [],
            "_model_module": "@jupyter-widgets/controls",
            "_model_module_version": "1.5.0",
            "_model_name": "FloatProgressModel",
            "_view_count": null,
            "_view_module": "@jupyter-widgets/controls",
            "_view_module_version": "1.5.0",
            "_view_name": "ProgressView",
            "bar_style": "success",
            "description": "",
            "description_tooltip": null,
            "layout": "IPY_MODEL_05f8797fe0004f259b72235d8441c3a2",
            "max": 10,
            "min": 0,
            "orientation": "horizontal",
            "style": "IPY_MODEL_55968739c31b4ef79e396d042ca09cd0",
            "value": 10
          }
        },
        "012548afbb5f4fa39255d384b74d3800": {
          "model_module": "@jupyter-widgets/controls",
          "model_name": "HTMLModel",
          "model_module_version": "1.5.0",
          "state": {
            "_dom_classes": [],
            "_model_module": "@jupyter-widgets/controls",
            "_model_module_version": "1.5.0",
            "_model_name": "HTMLModel",
            "_view_count": null,
            "_view_module": "@jupyter-widgets/controls",
            "_view_module_version": "1.5.0",
            "_view_name": "HTMLView",
            "description": "",
            "description_tooltip": null,
            "layout": "IPY_MODEL_130b8197280a47029bf3d8a143c5ca6d",
            "placeholder": "​",
            "style": "IPY_MODEL_b56a86bdbdf448eeb270ae72f28f9730",
            "value": " 10/10 [00:00&lt;00:00,  5.16it/s]"
          }
        },
        "b7c9c7a249674108b415cf4ffde7d9a8": {
          "model_module": "@jupyter-widgets/base",
          "model_name": "LayoutModel",
          "model_module_version": "1.2.0",
          "state": {
            "_model_module": "@jupyter-widgets/base",
            "_model_module_version": "1.2.0",
            "_model_name": "LayoutModel",
            "_view_count": null,
            "_view_module": "@jupyter-widgets/base",
            "_view_module_version": "1.2.0",
            "_view_name": "LayoutView",
            "align_content": null,
            "align_items": null,
            "align_self": null,
            "border": null,
            "bottom": null,
            "display": null,
            "flex": null,
            "flex_flow": null,
            "grid_area": null,
            "grid_auto_columns": null,
            "grid_auto_flow": null,
            "grid_auto_rows": null,
            "grid_column": null,
            "grid_gap": null,
            "grid_row": null,
            "grid_template_areas": null,
            "grid_template_columns": null,
            "grid_template_rows": null,
            "height": null,
            "justify_content": null,
            "justify_items": null,
            "left": null,
            "margin": null,
            "max_height": null,
            "max_width": null,
            "min_height": null,
            "min_width": null,
            "object_fit": null,
            "object_position": null,
            "order": null,
            "overflow": null,
            "overflow_x": null,
            "overflow_y": null,
            "padding": null,
            "right": null,
            "top": null,
            "visibility": null,
            "width": null
          }
        },
        "de13c17ccc294ae6a080fc3ddf81cabe": {
          "model_module": "@jupyter-widgets/base",
          "model_name": "LayoutModel",
          "model_module_version": "1.2.0",
          "state": {
            "_model_module": "@jupyter-widgets/base",
            "_model_module_version": "1.2.0",
            "_model_name": "LayoutModel",
            "_view_count": null,
            "_view_module": "@jupyter-widgets/base",
            "_view_module_version": "1.2.0",
            "_view_name": "LayoutView",
            "align_content": null,
            "align_items": null,
            "align_self": null,
            "border": null,
            "bottom": null,
            "display": null,
            "flex": null,
            "flex_flow": null,
            "grid_area": null,
            "grid_auto_columns": null,
            "grid_auto_flow": null,
            "grid_auto_rows": null,
            "grid_column": null,
            "grid_gap": null,
            "grid_row": null,
            "grid_template_areas": null,
            "grid_template_columns": null,
            "grid_template_rows": null,
            "height": null,
            "justify_content": null,
            "justify_items": null,
            "left": null,
            "margin": null,
            "max_height": null,
            "max_width": null,
            "min_height": null,
            "min_width": null,
            "object_fit": null,
            "object_position": null,
            "order": null,
            "overflow": null,
            "overflow_x": null,
            "overflow_y": null,
            "padding": null,
            "right": null,
            "top": null,
            "visibility": null,
            "width": null
          }
        },
        "0e72b714771b48b891c8b9564c434195": {
          "model_module": "@jupyter-widgets/controls",
          "model_name": "DescriptionStyleModel",
          "model_module_version": "1.5.0",
          "state": {
            "_model_module": "@jupyter-widgets/controls",
            "_model_module_version": "1.5.0",
            "_model_name": "DescriptionStyleModel",
            "_view_count": null,
            "_view_module": "@jupyter-widgets/base",
            "_view_module_version": "1.2.0",
            "_view_name": "StyleView",
            "description_width": ""
          }
        },
        "05f8797fe0004f259b72235d8441c3a2": {
          "model_module": "@jupyter-widgets/base",
          "model_name": "LayoutModel",
          "model_module_version": "1.2.0",
          "state": {
            "_model_module": "@jupyter-widgets/base",
            "_model_module_version": "1.2.0",
            "_model_name": "LayoutModel",
            "_view_count": null,
            "_view_module": "@jupyter-widgets/base",
            "_view_module_version": "1.2.0",
            "_view_name": "LayoutView",
            "align_content": null,
            "align_items": null,
            "align_self": null,
            "border": null,
            "bottom": null,
            "display": null,
            "flex": null,
            "flex_flow": null,
            "grid_area": null,
            "grid_auto_columns": null,
            "grid_auto_flow": null,
            "grid_auto_rows": null,
            "grid_column": null,
            "grid_gap": null,
            "grid_row": null,
            "grid_template_areas": null,
            "grid_template_columns": null,
            "grid_template_rows": null,
            "height": null,
            "justify_content": null,
            "justify_items": null,
            "left": null,
            "margin": null,
            "max_height": null,
            "max_width": null,
            "min_height": null,
            "min_width": null,
            "object_fit": null,
            "object_position": null,
            "order": null,
            "overflow": null,
            "overflow_x": null,
            "overflow_y": null,
            "padding": null,
            "right": null,
            "top": null,
            "visibility": null,
            "width": null
          }
        },
        "55968739c31b4ef79e396d042ca09cd0": {
          "model_module": "@jupyter-widgets/controls",
          "model_name": "ProgressStyleModel",
          "model_module_version": "1.5.0",
          "state": {
            "_model_module": "@jupyter-widgets/controls",
            "_model_module_version": "1.5.0",
            "_model_name": "ProgressStyleModel",
            "_view_count": null,
            "_view_module": "@jupyter-widgets/base",
            "_view_module_version": "1.2.0",
            "_view_name": "StyleView",
            "bar_color": null,
            "description_width": ""
          }
        },
        "130b8197280a47029bf3d8a143c5ca6d": {
          "model_module": "@jupyter-widgets/base",
          "model_name": "LayoutModel",
          "model_module_version": "1.2.0",
          "state": {
            "_model_module": "@jupyter-widgets/base",
            "_model_module_version": "1.2.0",
            "_model_name": "LayoutModel",
            "_view_count": null,
            "_view_module": "@jupyter-widgets/base",
            "_view_module_version": "1.2.0",
            "_view_name": "LayoutView",
            "align_content": null,
            "align_items": null,
            "align_self": null,
            "border": null,
            "bottom": null,
            "display": null,
            "flex": null,
            "flex_flow": null,
            "grid_area": null,
            "grid_auto_columns": null,
            "grid_auto_flow": null,
            "grid_auto_rows": null,
            "grid_column": null,
            "grid_gap": null,
            "grid_row": null,
            "grid_template_areas": null,
            "grid_template_columns": null,
            "grid_template_rows": null,
            "height": null,
            "justify_content": null,
            "justify_items": null,
            "left": null,
            "margin": null,
            "max_height": null,
            "max_width": null,
            "min_height": null,
            "min_width": null,
            "object_fit": null,
            "object_position": null,
            "order": null,
            "overflow": null,
            "overflow_x": null,
            "overflow_y": null,
            "padding": null,
            "right": null,
            "top": null,
            "visibility": null,
            "width": null
          }
        },
        "b56a86bdbdf448eeb270ae72f28f9730": {
          "model_module": "@jupyter-widgets/controls",
          "model_name": "DescriptionStyleModel",
          "model_module_version": "1.5.0",
          "state": {
            "_model_module": "@jupyter-widgets/controls",
            "_model_module_version": "1.5.0",
            "_model_name": "DescriptionStyleModel",
            "_view_count": null,
            "_view_module": "@jupyter-widgets/base",
            "_view_module_version": "1.2.0",
            "_view_name": "StyleView",
            "description_width": ""
          }
        },
        "39f63919fd5b446a9bd639b332d370b7": {
          "model_module": "@jupyter-widgets/controls",
          "model_name": "HBoxModel",
          "model_module_version": "1.5.0",
          "state": {
            "_dom_classes": [],
            "_model_module": "@jupyter-widgets/controls",
            "_model_module_version": "1.5.0",
            "_model_name": "HBoxModel",
            "_view_count": null,
            "_view_module": "@jupyter-widgets/controls",
            "_view_module_version": "1.5.0",
            "_view_name": "HBoxView",
            "box_style": "",
            "children": [
              "IPY_MODEL_e564f32f36f24930a068ff3cb8d5c090",
              "IPY_MODEL_5810b338592a4dbf984ab31dc3911c85",
              "IPY_MODEL_f304cd86d17d489f8826d67f38e37997"
            ],
            "layout": "IPY_MODEL_a117fd3306464a3890a2f1d9679bb513"
          }
        },
        "e564f32f36f24930a068ff3cb8d5c090": {
          "model_module": "@jupyter-widgets/controls",
          "model_name": "HTMLModel",
          "model_module_version": "1.5.0",
          "state": {
            "_dom_classes": [],
            "_model_module": "@jupyter-widgets/controls",
            "_model_module_version": "1.5.0",
            "_model_name": "HTMLModel",
            "_view_count": null,
            "_view_module": "@jupyter-widgets/controls",
            "_view_module_version": "1.5.0",
            "_view_name": "HTMLView",
            "description": "",
            "description_tooltip": null,
            "layout": "IPY_MODEL_964427d0e5c64f6f96a74a021eb1c622",
            "placeholder": "​",
            "style": "IPY_MODEL_74f6e06d10624d1bb317480855d9468b",
            "value": "100%"
          }
        },
        "5810b338592a4dbf984ab31dc3911c85": {
          "model_module": "@jupyter-widgets/controls",
          "model_name": "FloatProgressModel",
          "model_module_version": "1.5.0",
          "state": {
            "_dom_classes": [],
            "_model_module": "@jupyter-widgets/controls",
            "_model_module_version": "1.5.0",
            "_model_name": "FloatProgressModel",
            "_view_count": null,
            "_view_module": "@jupyter-widgets/controls",
            "_view_module_version": "1.5.0",
            "_view_name": "ProgressView",
            "bar_style": "success",
            "description": "",
            "description_tooltip": null,
            "layout": "IPY_MODEL_732485d7cbc34d7da590eba2efdcfad1",
            "max": 9,
            "min": 0,
            "orientation": "horizontal",
            "style": "IPY_MODEL_7b4b13ab7c6a402b8dcabfa16ebe83a9",
            "value": 9
          }
        },
        "f304cd86d17d489f8826d67f38e37997": {
          "model_module": "@jupyter-widgets/controls",
          "model_name": "HTMLModel",
          "model_module_version": "1.5.0",
          "state": {
            "_dom_classes": [],
            "_model_module": "@jupyter-widgets/controls",
            "_model_module_version": "1.5.0",
            "_model_name": "HTMLModel",
            "_view_count": null,
            "_view_module": "@jupyter-widgets/controls",
            "_view_module_version": "1.5.0",
            "_view_name": "HTMLView",
            "description": "",
            "description_tooltip": null,
            "layout": "IPY_MODEL_e23a399dad444cf79a99921fa01e767d",
            "placeholder": "​",
            "style": "IPY_MODEL_ec0cf4eebab341be9f63f00a6e64a790",
            "value": " 9/9 [00:00&lt;00:00,  6.00it/s]"
          }
        },
        "a117fd3306464a3890a2f1d9679bb513": {
          "model_module": "@jupyter-widgets/base",
          "model_name": "LayoutModel",
          "model_module_version": "1.2.0",
          "state": {
            "_model_module": "@jupyter-widgets/base",
            "_model_module_version": "1.2.0",
            "_model_name": "LayoutModel",
            "_view_count": null,
            "_view_module": "@jupyter-widgets/base",
            "_view_module_version": "1.2.0",
            "_view_name": "LayoutView",
            "align_content": null,
            "align_items": null,
            "align_self": null,
            "border": null,
            "bottom": null,
            "display": null,
            "flex": null,
            "flex_flow": null,
            "grid_area": null,
            "grid_auto_columns": null,
            "grid_auto_flow": null,
            "grid_auto_rows": null,
            "grid_column": null,
            "grid_gap": null,
            "grid_row": null,
            "grid_template_areas": null,
            "grid_template_columns": null,
            "grid_template_rows": null,
            "height": null,
            "justify_content": null,
            "justify_items": null,
            "left": null,
            "margin": null,
            "max_height": null,
            "max_width": null,
            "min_height": null,
            "min_width": null,
            "object_fit": null,
            "object_position": null,
            "order": null,
            "overflow": null,
            "overflow_x": null,
            "overflow_y": null,
            "padding": null,
            "right": null,
            "top": null,
            "visibility": null,
            "width": null
          }
        },
        "964427d0e5c64f6f96a74a021eb1c622": {
          "model_module": "@jupyter-widgets/base",
          "model_name": "LayoutModel",
          "model_module_version": "1.2.0",
          "state": {
            "_model_module": "@jupyter-widgets/base",
            "_model_module_version": "1.2.0",
            "_model_name": "LayoutModel",
            "_view_count": null,
            "_view_module": "@jupyter-widgets/base",
            "_view_module_version": "1.2.0",
            "_view_name": "LayoutView",
            "align_content": null,
            "align_items": null,
            "align_self": null,
            "border": null,
            "bottom": null,
            "display": null,
            "flex": null,
            "flex_flow": null,
            "grid_area": null,
            "grid_auto_columns": null,
            "grid_auto_flow": null,
            "grid_auto_rows": null,
            "grid_column": null,
            "grid_gap": null,
            "grid_row": null,
            "grid_template_areas": null,
            "grid_template_columns": null,
            "grid_template_rows": null,
            "height": null,
            "justify_content": null,
            "justify_items": null,
            "left": null,
            "margin": null,
            "max_height": null,
            "max_width": null,
            "min_height": null,
            "min_width": null,
            "object_fit": null,
            "object_position": null,
            "order": null,
            "overflow": null,
            "overflow_x": null,
            "overflow_y": null,
            "padding": null,
            "right": null,
            "top": null,
            "visibility": null,
            "width": null
          }
        },
        "74f6e06d10624d1bb317480855d9468b": {
          "model_module": "@jupyter-widgets/controls",
          "model_name": "DescriptionStyleModel",
          "model_module_version": "1.5.0",
          "state": {
            "_model_module": "@jupyter-widgets/controls",
            "_model_module_version": "1.5.0",
            "_model_name": "DescriptionStyleModel",
            "_view_count": null,
            "_view_module": "@jupyter-widgets/base",
            "_view_module_version": "1.2.0",
            "_view_name": "StyleView",
            "description_width": ""
          }
        },
        "732485d7cbc34d7da590eba2efdcfad1": {
          "model_module": "@jupyter-widgets/base",
          "model_name": "LayoutModel",
          "model_module_version": "1.2.0",
          "state": {
            "_model_module": "@jupyter-widgets/base",
            "_model_module_version": "1.2.0",
            "_model_name": "LayoutModel",
            "_view_count": null,
            "_view_module": "@jupyter-widgets/base",
            "_view_module_version": "1.2.0",
            "_view_name": "LayoutView",
            "align_content": null,
            "align_items": null,
            "align_self": null,
            "border": null,
            "bottom": null,
            "display": null,
            "flex": null,
            "flex_flow": null,
            "grid_area": null,
            "grid_auto_columns": null,
            "grid_auto_flow": null,
            "grid_auto_rows": null,
            "grid_column": null,
            "grid_gap": null,
            "grid_row": null,
            "grid_template_areas": null,
            "grid_template_columns": null,
            "grid_template_rows": null,
            "height": null,
            "justify_content": null,
            "justify_items": null,
            "left": null,
            "margin": null,
            "max_height": null,
            "max_width": null,
            "min_height": null,
            "min_width": null,
            "object_fit": null,
            "object_position": null,
            "order": null,
            "overflow": null,
            "overflow_x": null,
            "overflow_y": null,
            "padding": null,
            "right": null,
            "top": null,
            "visibility": null,
            "width": null
          }
        },
        "7b4b13ab7c6a402b8dcabfa16ebe83a9": {
          "model_module": "@jupyter-widgets/controls",
          "model_name": "ProgressStyleModel",
          "model_module_version": "1.5.0",
          "state": {
            "_model_module": "@jupyter-widgets/controls",
            "_model_module_version": "1.5.0",
            "_model_name": "ProgressStyleModel",
            "_view_count": null,
            "_view_module": "@jupyter-widgets/base",
            "_view_module_version": "1.2.0",
            "_view_name": "StyleView",
            "bar_color": null,
            "description_width": ""
          }
        },
        "e23a399dad444cf79a99921fa01e767d": {
          "model_module": "@jupyter-widgets/base",
          "model_name": "LayoutModel",
          "model_module_version": "1.2.0",
          "state": {
            "_model_module": "@jupyter-widgets/base",
            "_model_module_version": "1.2.0",
            "_model_name": "LayoutModel",
            "_view_count": null,
            "_view_module": "@jupyter-widgets/base",
            "_view_module_version": "1.2.0",
            "_view_name": "LayoutView",
            "align_content": null,
            "align_items": null,
            "align_self": null,
            "border": null,
            "bottom": null,
            "display": null,
            "flex": null,
            "flex_flow": null,
            "grid_area": null,
            "grid_auto_columns": null,
            "grid_auto_flow": null,
            "grid_auto_rows": null,
            "grid_column": null,
            "grid_gap": null,
            "grid_row": null,
            "grid_template_areas": null,
            "grid_template_columns": null,
            "grid_template_rows": null,
            "height": null,
            "justify_content": null,
            "justify_items": null,
            "left": null,
            "margin": null,
            "max_height": null,
            "max_width": null,
            "min_height": null,
            "min_width": null,
            "object_fit": null,
            "object_position": null,
            "order": null,
            "overflow": null,
            "overflow_x": null,
            "overflow_y": null,
            "padding": null,
            "right": null,
            "top": null,
            "visibility": null,
            "width": null
          }
        },
        "ec0cf4eebab341be9f63f00a6e64a790": {
          "model_module": "@jupyter-widgets/controls",
          "model_name": "DescriptionStyleModel",
          "model_module_version": "1.5.0",
          "state": {
            "_model_module": "@jupyter-widgets/controls",
            "_model_module_version": "1.5.0",
            "_model_name": "DescriptionStyleModel",
            "_view_count": null,
            "_view_module": "@jupyter-widgets/base",
            "_view_module_version": "1.2.0",
            "_view_name": "StyleView",
            "description_width": ""
          }
        }
      }
    }
  },
  "cells": [
    {
      "cell_type": "markdown",
      "source": [
        "# Introduction\n",
        "\n",
        "The application of Machine Learning (ML) to tabular data is one of the most popular tasks in the ML community because many areas (e.g., finance, medical) commonly use tabular data to store a set of information. The process of building an ML model for tabular data is often messy and less organized. This may intimidate newcomers in the ML community as the entire workflow seems to be vague and less-intuitive. Nevertheless, there are simply just 2 things that must be understood in order to build a good ML model for tabular data.:\n",
        "\n",
        "1. How to perform a specific step? \n",
        "2. Which step should be performed first? \n",
        "\n",
        "The first one focuses on various techniques to achieve a specific step (for example, how to handle skewed features with log transformation), while the second refers to the entire workflow of building an ML model for a specific dataset. The second point is crucial as performing the wrong workflow is prone to serious issues (e.g., information leakage or degraded performance). However, the existing learning resources out there often show different workflows when applied to different tasks or a specific dataset, while mainly just repeating a similar pattern. Therefore, in this project, I attempt to establish the **same workflow** in a **jupyter notebook** that can be used to solve various predictive tasks, including classification and regression. I also demonstrate that the notebook I created is capable of achieving decent metric scores across different datasets.\n",
        "\n",
        "\n",
        "\n",
        "\n",
        "\n",
        "\n",
        "\n",
        "\n",
        "---\n",
        "\n",
        "\n",
        ">  Enjoy your journey. Explore sufficiently, stop when you are tired. Do not aim for a perfect model, decent one is enough.\n",
        "\n",
        "\n",
        "---\n",
        "\n",
        "Click on the `Table of contents` ![menu_icon_resized.png](data:image/png;base64,iVBORw0KGgoAAAANSUhEUgAAABQAAAAUCAMAAAC6V+0/AAAABGdBTUEAALGPC/xhBQAAACBjSFJNAAB6JgAAgIQAAPoAAACA6AAAdTAAAOpgAAA6mAAAF3CculE8AAACAVBMVEUAAAAdHRsdHRsdHRsdHRsdHRsdHRsdHRsdHRsdHRsdHRsdHRsdHRsdHRsdHRsdHRsdHRsdHRsdHRsdHRsdHRsdHRsdHRsdHRsdHRsdHRsdHRsdHRsdHRsdHRsdHRsdHRsdHRsdHRsdHRsdHRsdHRsdHRsdHRsdHRsdHRsdHRsdHRsdHRsdHRsdHRsdHRsdHRsdHRsdHRsdHRsdHRsdHRsdHRsdHRsdHRsdHRsdHRsdHRsdHRsdHRsdHRsdHRsdHRsdHRsdHRsdHRsdHRsdHRsdHRsdHRsdHRsdHRsdHRsdHRsdHRsdHRsdHRsdHRsdHRsdHRsdHRsdHRsdHRsdHRsdHRsdHRsdHRsdHRsdHRsdHRsdHRsdHRsdHRsdHRsdHRsdHRsdHRsdHRsdHRsdHRsdHRsdHRsdHRsdHRsdHRsdHRsdHRsdHRsdHRsdHRsdHRsdHRsdHRsdHRsdHRsdHRsdHRsdHRsdHRsdHRsdHRsdHRsdHRsdHRsdHRsdHRsdHRsdHRsdHRsdHRsdHRsdHRsdHRsdHRsdHRsdHRsdHRsdHRsdHRsdHRsdHRsdHRsdHRsdHRsdHRsdHRsdHRsdHRsdHRsdHRsdHRsdHRsdHRsdHRsdHRsdHRsdHRsdHRsdHRsdHRsdHRsdHRsdHRsdHRsdHRsdHRsdHRsdHRsdHRv///8deWRnAAAAqXRSTlMAABR5aRVxm5qampt4FFv56XHx+FssuaYzr9jX19fYtywACggJExMTExMKAAIjHQEgNjY2NjYjAj/byEzS8/Ly8vPaP1Hz4mTq8lEJS0AIRmhnZ2doSwkGBAUNDQ0NDQYpsZ4up9HQ0NDRrylc+upz8vhcF4JyGXqko6OjpIEXD2dZD2CIh4eHiGcPWPjobvD3WDPHtDy95OPj4+TGMwETEBIhISEhIRQBV7zbiQAAAAFiS0dEqr4GV74AAAAJcEhZcwAARt4AAEbeAY4mMlsAAAAHdElNRQfmBR0LCis8XKwmAAAA6UlEQVQY02NgIBowMbOwsrFzcMIAFzcPLwMfv4Cg0EpkICzCIComLiEpJS0DA7Jy8goMikrKjCqqauowoKGppc2go6unb2BoZAwDJqZm5gwWllbWNrZ29jDg4OjkzODi6ubugWKRpxeDt4+vn39AYBAMBIeEhjEwhkcwRkZFx8BAbFw8I0NCYlJySmpaOgxkZGZlM+Tk5uUXoJhZWMRQXFJaVl5RWQUD1TW1ddgDpL6hsam5pbUNBto7OrsYunt6+/pRzJwwkWHS5ClTp02fMRMGZs2eM5dh3vwFjAsXLV4CA0uXLV+B1R4AnnF6TcodkLMAAAAldEVYdGRhdGU6Y3JlYXRlADIwMjItMDUtMjlUMTE6MTA6NDMtMDQ6MDB4jzvPAAAAJXRFWHRkYXRlOm1vZGlmeQAyMDIyLTA1LTI5VDExOjEwOjQzLTA0OjAwCdKDcwAAABl0RVh0U29mdHdhcmUAd3d3Lmlua3NjYXBlLm9yZ5vuPBoAAAAASUVORK5CYII=) ![menu_icon.png](data:image/png;base64,iVBORw0KGgoAAAANSUhEUgAAABMAAAANCAQAAADhhZ2sAAAABGdBTUEAALGPC/xhBQAAACBjSFJNAAB6JgAAgIQAAPoAAACA6AAAdTAAAOpgAAA6mAAAF3CculE8AAAAAmJLR0QA/4ePzL8AAAAHdElNRQfmBQ8HJTBXLzvXAAAAx0lEQVQY04WRMWpCQRRFz8TRaFxICBauQUs3oKtJkU6IpAshTUCQVL8JE4giIliHZBvaxEKF7/w/N4WWM8l57YX7znso0163uta3goro5JqgH0lT9ZUrzdpyT5cXloxpIWIUOKMLqhwRlhpxRG6p0KCgpEYzESvxRiM6PPHBAzeJ0pJ3tJU00+BPhY3lkQ6vrMgSCgaPM7LUORC45CqxW2BnEeHsU2ISMRnd0eWZOUNaKFJr8LiTwn9f2FgcPRZ88kU7cRDP2y/9gMWAfSRh3gAAACV0RVh0ZGF0ZTpjcmVhdGUAMjAyMi0wNS0xNVQwNzozNzo0OC0wNDowMAlqe2oAAAAldEVYdGRhdGU6bW9kaWZ5ADIwMjItMDUtMTVUMDc6Mzc6NDgtMDQ6MDB4N8PWAAAAAElFTkSuQmCC) icon on the top left toolbar to view the outline of overall steps."
      ],
      "metadata": {
        "id": "auv20twlF80l"
      }
    },
    {
      "cell_type": "markdown",
      "source": [
        "TO-DO LIST\n",
        "\n",
        "---\n",
        "\n",
        "\n",
        "List of experiments :\n",
        "\n",
        "1. upsampling **[off]**\n",
        "2. one-hot `Pclass` **[off]**\n",
        "3. log transformation on `Fare` feature **[off]**\n",
        "4. impute outlier with median. **[off]**\n",
        "\n",
        "\n",
        "\n",
        "Or \n",
        "\n",
        "\n",
        "Permutation the N number of experiments\n",
        "\n",
        "==== Permutate with 2<sup>4</sup> number of permutation if possible ==== \n",
        "\n",
        "1. [on, on, on, on]\n",
        "2. [on, off, on, on]\n",
        "3. [on, on, off, on] \n",
        "\n",
        "*As the baseline is obtained, it's a good idea to plan ahead the list of experiments to improve the baseline rather than mindlessly trying different experiments over and over again. With a plan in hand, it helps us track what has been done and what hasn't.* \n",
        "\n",
        "\n"
      ],
      "metadata": {
        "id": "htpkI2SBiSHG"
      }
    },
    {
      "cell_type": "markdown",
      "source": [
        "## step 1 : install all dependencies"
      ],
      "metadata": {
        "id": "p6TsAN1MAf84"
      }
    },
    {
      "cell_type": "code",
      "source": [
        "!pip install catboost"
      ],
      "metadata": {
        "id": "hbqfx66RAfWa",
        "colab": {
          "base_uri": "https://localhost:8080/"
        },
        "outputId": "3b912382-88bf-4d5f-e4c7-bdfcaa06b812"
      },
      "execution_count": 1,
      "outputs": [
        {
          "output_type": "stream",
          "name": "stdout",
          "text": [
            "Looking in indexes: https://pypi.org/simple, https://us-python.pkg.dev/colab-wheels/public/simple/\n",
            "Collecting catboost\n",
            "  Downloading catboost-1.0.6-cp37-none-manylinux1_x86_64.whl (76.6 MB)\n",
            "\u001b[K     |████████████████████████████████| 76.6 MB 1.4 MB/s \n",
            "\u001b[?25hRequirement already satisfied: graphviz in /usr/local/lib/python3.7/dist-packages (from catboost) (0.10.1)\n",
            "Requirement already satisfied: matplotlib in /usr/local/lib/python3.7/dist-packages (from catboost) (3.2.2)\n",
            "Requirement already satisfied: six in /usr/local/lib/python3.7/dist-packages (from catboost) (1.15.0)\n",
            "Requirement already satisfied: scipy in /usr/local/lib/python3.7/dist-packages (from catboost) (1.4.1)\n",
            "Requirement already satisfied: plotly in /usr/local/lib/python3.7/dist-packages (from catboost) (5.5.0)\n",
            "Requirement already satisfied: numpy>=1.16.0 in /usr/local/lib/python3.7/dist-packages (from catboost) (1.21.6)\n",
            "Requirement already satisfied: pandas>=0.24.0 in /usr/local/lib/python3.7/dist-packages (from catboost) (1.3.5)\n",
            "Requirement already satisfied: python-dateutil>=2.7.3 in /usr/local/lib/python3.7/dist-packages (from pandas>=0.24.0->catboost) (2.8.2)\n",
            "Requirement already satisfied: pytz>=2017.3 in /usr/local/lib/python3.7/dist-packages (from pandas>=0.24.0->catboost) (2022.1)\n",
            "Requirement already satisfied: kiwisolver>=1.0.1 in /usr/local/lib/python3.7/dist-packages (from matplotlib->catboost) (1.4.3)\n",
            "Requirement already satisfied: cycler>=0.10 in /usr/local/lib/python3.7/dist-packages (from matplotlib->catboost) (0.11.0)\n",
            "Requirement already satisfied: pyparsing!=2.0.4,!=2.1.2,!=2.1.6,>=2.0.1 in /usr/local/lib/python3.7/dist-packages (from matplotlib->catboost) (3.0.9)\n",
            "Requirement already satisfied: typing-extensions in /usr/local/lib/python3.7/dist-packages (from kiwisolver>=1.0.1->matplotlib->catboost) (4.1.1)\n",
            "Requirement already satisfied: tenacity>=6.2.0 in /usr/local/lib/python3.7/dist-packages (from plotly->catboost) (8.0.1)\n",
            "Installing collected packages: catboost\n",
            "Successfully installed catboost-1.0.6\n"
          ]
        }
      ]
    },
    {
      "cell_type": "markdown",
      "source": [
        "## step 2 : import all libraries"
      ],
      "metadata": {
        "id": "B36YyYRMOT9x"
      }
    },
    {
      "cell_type": "code",
      "source": [
        "import pandas as pd\n",
        "import numpy as np \n",
        "import seaborn as sns\n",
        "import missingno\n",
        "import matplotlib.pyplot as plt\n",
        "\n",
        "from collections import Counter\n",
        "from numpy import percentile\n",
        "from typing import Dict\n",
        "\n",
        "from sklearn.preprocessing import StandardScaler, MinMaxScaler\n",
        "from sklearn.metrics import r2_score, mean_squared_error, mean_absolute_error,mean_absolute_percentage_error\n",
        "from sklearn.metrics import precision_recall_fscore_support as scorer\n",
        "from sklearn.model_selection import GridSearchCV\n",
        "from sklearn.pipeline import Pipeline\n",
        "\n",
        "import warnings\n",
        "warnings.filterwarnings('ignore')"
      ],
      "metadata": {
        "id": "4oNKgI12dYg1"
      },
      "execution_count": 2,
      "outputs": []
    },
    {
      "cell_type": "markdown",
      "source": [
        "## step 3 : store any utility function here."
      ],
      "metadata": {
        "id": "eEZYXpI7JEZw"
      }
    },
    {
      "cell_type": "code",
      "source": [
        "def extract_missing_values_col_names(df):\n",
        "  missing_val_col_names = []\n",
        "  for col in tqdm(df.columns):\n",
        "    if(df[col].isnull().any()):\n",
        "      missing_val_col_names.append(col)\n",
        "\n",
        "  return missing_val_col_names\n",
        "\n",
        "def eval_class(model, X_train, X_test, y_train, y_test, plot_auc = False):\n",
        "  train_predictions = model.predict(X_train)\n",
        "  test_predictions = model.predict(X_test)\n",
        "\n",
        "  prec_train, rec_train, f1_train, sup_train = scorer(y_train, train_predictions, average = 'macro')\n",
        "  prec_test, rec_test, f1_test, sup_test = scorer(y_test, test_predictions, average = 'macro')\n",
        "  \n",
        "  data = {'train': [prec_train, rec_train, f1_train, sup_train], \n",
        "           'test': [prec_test, rec_test, f1_test, sup_test]}\n",
        "\n",
        "  df = pd.DataFrame.from_dict(data, orient='index',\n",
        "                      columns=['precision', 'recall', 'f1', 'support'])\n",
        " \n",
        "  return df \n",
        "\n",
        "def eval_regres(model, x_train = None, \n",
        "         y_train = None, x_test = None,\n",
        "         y_test = None, mse_squared = False):\n",
        "\n",
        "    results = {'train' : [], 'test' : []}\n",
        "    r2_train = []\n",
        "    r2_test = []    \n",
        "    \n",
        "    mse_train = []\n",
        "    mse_test = []\n",
        "\n",
        "    mae_train = []\n",
        "    mae_test = []\n",
        "\n",
        "    mape_train = []\n",
        "    mape_test = []\n",
        "\n",
        "    y_pred_train = model.predict(x_train)\n",
        "    r2_train.append(r2_score(y_train, y_pred_train))\n",
        "    mse_train.append(mean_squared_error(y_train, y_pred_train, squared = mse_squared))\n",
        "    mae_train.append(mean_absolute_error(y_train, y_pred_train))\n",
        "    mape_train.append(mean_absolute_percentage_error(y_train, y_pred_train))\n",
        "\n",
        "    y_pred_test = model.predict(x_test)\n",
        "    r2_test.append(r2_score(y_test, y_pred_test))\n",
        "    mse_test.append(mean_squared_error(y_test, y_pred_test, squared = mse_squared))\n",
        "    mae_test.append(mean_absolute_error(y_test, y_pred_test))\n",
        "    mape_test.append(mean_absolute_percentage_error(y_test, y_pred_test))\n",
        "\n",
        "    results['train'].append(np.mean(r2_train))\n",
        "    results['test'].append(np.mean(r2_test))\n",
        "\n",
        "    results['train'].append(np.mean(mse_train))\n",
        "    results['test'].append(np.mean(mse_test))\n",
        "\n",
        "    results['train'].append(np.mean(mae_train))\n",
        "    results['test'].append(np.mean(mae_test))\n",
        "\n",
        "    results['train'].append(np.mean(mape_train))\n",
        "    results['test'].append(np.mean(mape_test))    \n",
        "\n",
        "    results_df = pd.DataFrame.from_dict(results, orient='index',\n",
        "                        columns=['r2', 'rmse', 'mae', 'mape'])    \n",
        "\n",
        "\n",
        "    return results_df  \n",
        "\n",
        "def extract_multicolin_features(df, threshold = 0.75, plot = False):\n",
        "  correlation_matrix = df.corr()\n",
        "\n",
        "  if plot:\n",
        "    plt.figure(figsize = (12, 10))\n",
        "    sns.heatmap(correlation_matrix, annot = True, cmap=\"Greens\")\n",
        "    plt.show()\n",
        "  \n",
        "  highly_correlated_features = []\n",
        "  \n",
        "  for col_name, each_column in correlation_matrix.items():  \n",
        "    \n",
        "    for row_name, corr_value in each_column.items():                \n",
        "      if col_name != row_name:      \n",
        "        if abs(corr_value) >= threshold:\n",
        "          highly_correlated_features.append(row_name)           \n",
        "    \n",
        "  return [*Counter(highly_correlated_features)], correlation_matrix\n",
        "\n",
        "\n",
        "def identify_or_extract_outlier_indices_with_iqr(df, drop_outliers = False, \n",
        "                                                 impute_with_median = False,\n",
        "                                                 extract_zero_outliers = False):\n",
        "  outlier_sample_indices = []\n",
        "  zero_outliers = []\n",
        "\n",
        "  for feature_idx, feature_name in enumerate(df.columns):\n",
        "    feature_distribution = df[feature_name]\n",
        "    \n",
        "    # calculate interquartile range\n",
        "    q25, q75 = percentile(feature_distribution, 25), percentile(feature_distribution, 75)  \n",
        "    iqr = q75 - q25\n",
        "    # calculate the outlier cutoff\n",
        "    cut_off = iqr * 1.5\n",
        "    lower, upper = q25 - cut_off, q75 + cut_off  \n",
        "      \n",
        "    # identify outliers\n",
        "    num_of_outlier = 0\n",
        "    for sample_idx, sample_val in enumerate(feature_distribution):\n",
        "      # if indices hasn't been added yet \n",
        "      if sample_val < lower or sample_val > upper:\n",
        "        num_of_outlier += 1\n",
        "\n",
        "        # if impute with median\n",
        "        if impute_with_median:\n",
        "          # step 1 : calculate the median of that particular feature\n",
        "          median = df[feature_name].median()\n",
        "          # step 2 : impute the outlier with the median \n",
        "          df[feature_name][sample_idx] = median\n",
        "\n",
        "        if sample_idx not in outlier_sample_indices:\n",
        "          outlier_sample_indices.append(sample_idx)\n",
        "    \n",
        "    if extract_zero_outliers:\n",
        "      if num_of_outlier == 0:        \n",
        "        zero_outliers.append(feature_name)\n",
        "    print(f\"> feature [{feature_name}] has `{num_of_outlier}` outliers\")\n",
        "  \n",
        "  print()\n",
        "  print(f\"Total outlier samples = {len(outlier_sample_indices)}\")\n",
        "\n",
        "  if drop_outliers and (impute_with_median is False):\n",
        "    df.drop(df.index[outlier_sample_indices], inplace = True)\n",
        "\n",
        "  return df, zero_outliers"
      ],
      "metadata": {
        "id": "SYyRQ278K3jJ"
      },
      "execution_count": 3,
      "outputs": []
    },
    {
      "cell_type": "markdown",
      "source": [
        "## step 4 : load the dataset"
      ],
      "metadata": {
        "id": "ZFpSlDQ0Oi7U"
      }
    },
    {
      "cell_type": "code",
      "execution_count": 22,
      "metadata": {
        "colab": {
          "base_uri": "https://localhost:8080/"
        },
        "id": "a71rZSXqwcD9",
        "outputId": "83f2c3c4-4f67-4220-ebb9-4fbaefa0b835"
      },
      "outputs": [
        {
          "output_type": "stream",
          "name": "stdout",
          "text": [
            "(891, 12)\n",
            "(418, 11)\n"
          ]
        }
      ],
      "source": [
        "train_path = '/content/train.csv'\n",
        "train_data = pd.read_csv(train_path)\n",
        "print(train_data.shape)\n",
        "\n",
        "test_path = '/content/test.csv'\n",
        "test_data = pd.read_csv(test_path)\n",
        "print(test_data.shape)"
      ]
    },
    {
      "cell_type": "markdown",
      "source": [
        "## step 5 : take a peek on the subset of data"
      ],
      "metadata": {
        "id": "RrpG1G-3Miqr"
      }
    },
    {
      "cell_type": "code",
      "source": [
        "train_data.head(5)"
      ],
      "metadata": {
        "colab": {
          "base_uri": "https://localhost:8080/",
          "height": 320
        },
        "id": "CszWyTfXMjMI",
        "outputId": "dffbd690-ba2f-4fe9-c762-e85cc8663848"
      },
      "execution_count": 23,
      "outputs": [
        {
          "output_type": "execute_result",
          "data": {
            "text/plain": [
              "   PassengerId  Survived  Pclass  \\\n",
              "0            1         0       3   \n",
              "1            2         1       1   \n",
              "2            3         1       3   \n",
              "3            4         1       1   \n",
              "4            5         0       3   \n",
              "\n",
              "                                                Name     Sex   Age  SibSp  \\\n",
              "0                            Braund, Mr. Owen Harris    male  22.0      1   \n",
              "1  Cumings, Mrs. John Bradley (Florence Briggs Th...  female  38.0      1   \n",
              "2                             Heikkinen, Miss. Laina  female  26.0      0   \n",
              "3       Futrelle, Mrs. Jacques Heath (Lily May Peel)  female  35.0      1   \n",
              "4                           Allen, Mr. William Henry    male  35.0      0   \n",
              "\n",
              "   Parch            Ticket     Fare Cabin Embarked  \n",
              "0      0         A/5 21171   7.2500   NaN        S  \n",
              "1      0          PC 17599  71.2833   C85        C  \n",
              "2      0  STON/O2. 3101282   7.9250   NaN        S  \n",
              "3      0            113803  53.1000  C123        S  \n",
              "4      0            373450   8.0500   NaN        S  "
            ],
            "text/html": [
              "\n",
              "  <div id=\"df-dfc25365-7334-4c5f-851b-2eae52c659fb\">\n",
              "    <div class=\"colab-df-container\">\n",
              "      <div>\n",
              "<style scoped>\n",
              "    .dataframe tbody tr th:only-of-type {\n",
              "        vertical-align: middle;\n",
              "    }\n",
              "\n",
              "    .dataframe tbody tr th {\n",
              "        vertical-align: top;\n",
              "    }\n",
              "\n",
              "    .dataframe thead th {\n",
              "        text-align: right;\n",
              "    }\n",
              "</style>\n",
              "<table border=\"1\" class=\"dataframe\">\n",
              "  <thead>\n",
              "    <tr style=\"text-align: right;\">\n",
              "      <th></th>\n",
              "      <th>PassengerId</th>\n",
              "      <th>Survived</th>\n",
              "      <th>Pclass</th>\n",
              "      <th>Name</th>\n",
              "      <th>Sex</th>\n",
              "      <th>Age</th>\n",
              "      <th>SibSp</th>\n",
              "      <th>Parch</th>\n",
              "      <th>Ticket</th>\n",
              "      <th>Fare</th>\n",
              "      <th>Cabin</th>\n",
              "      <th>Embarked</th>\n",
              "    </tr>\n",
              "  </thead>\n",
              "  <tbody>\n",
              "    <tr>\n",
              "      <th>0</th>\n",
              "      <td>1</td>\n",
              "      <td>0</td>\n",
              "      <td>3</td>\n",
              "      <td>Braund, Mr. Owen Harris</td>\n",
              "      <td>male</td>\n",
              "      <td>22.0</td>\n",
              "      <td>1</td>\n",
              "      <td>0</td>\n",
              "      <td>A/5 21171</td>\n",
              "      <td>7.2500</td>\n",
              "      <td>NaN</td>\n",
              "      <td>S</td>\n",
              "    </tr>\n",
              "    <tr>\n",
              "      <th>1</th>\n",
              "      <td>2</td>\n",
              "      <td>1</td>\n",
              "      <td>1</td>\n",
              "      <td>Cumings, Mrs. John Bradley (Florence Briggs Th...</td>\n",
              "      <td>female</td>\n",
              "      <td>38.0</td>\n",
              "      <td>1</td>\n",
              "      <td>0</td>\n",
              "      <td>PC 17599</td>\n",
              "      <td>71.2833</td>\n",
              "      <td>C85</td>\n",
              "      <td>C</td>\n",
              "    </tr>\n",
              "    <tr>\n",
              "      <th>2</th>\n",
              "      <td>3</td>\n",
              "      <td>1</td>\n",
              "      <td>3</td>\n",
              "      <td>Heikkinen, Miss. Laina</td>\n",
              "      <td>female</td>\n",
              "      <td>26.0</td>\n",
              "      <td>0</td>\n",
              "      <td>0</td>\n",
              "      <td>STON/O2. 3101282</td>\n",
              "      <td>7.9250</td>\n",
              "      <td>NaN</td>\n",
              "      <td>S</td>\n",
              "    </tr>\n",
              "    <tr>\n",
              "      <th>3</th>\n",
              "      <td>4</td>\n",
              "      <td>1</td>\n",
              "      <td>1</td>\n",
              "      <td>Futrelle, Mrs. Jacques Heath (Lily May Peel)</td>\n",
              "      <td>female</td>\n",
              "      <td>35.0</td>\n",
              "      <td>1</td>\n",
              "      <td>0</td>\n",
              "      <td>113803</td>\n",
              "      <td>53.1000</td>\n",
              "      <td>C123</td>\n",
              "      <td>S</td>\n",
              "    </tr>\n",
              "    <tr>\n",
              "      <th>4</th>\n",
              "      <td>5</td>\n",
              "      <td>0</td>\n",
              "      <td>3</td>\n",
              "      <td>Allen, Mr. William Henry</td>\n",
              "      <td>male</td>\n",
              "      <td>35.0</td>\n",
              "      <td>0</td>\n",
              "      <td>0</td>\n",
              "      <td>373450</td>\n",
              "      <td>8.0500</td>\n",
              "      <td>NaN</td>\n",
              "      <td>S</td>\n",
              "    </tr>\n",
              "  </tbody>\n",
              "</table>\n",
              "</div>\n",
              "      <button class=\"colab-df-convert\" onclick=\"convertToInteractive('df-dfc25365-7334-4c5f-851b-2eae52c659fb')\"\n",
              "              title=\"Convert this dataframe to an interactive table.\"\n",
              "              style=\"display:none;\">\n",
              "        \n",
              "  <svg xmlns=\"http://www.w3.org/2000/svg\" height=\"24px\"viewBox=\"0 0 24 24\"\n",
              "       width=\"24px\">\n",
              "    <path d=\"M0 0h24v24H0V0z\" fill=\"none\"/>\n",
              "    <path d=\"M18.56 5.44l.94 2.06.94-2.06 2.06-.94-2.06-.94-.94-2.06-.94 2.06-2.06.94zm-11 1L8.5 8.5l.94-2.06 2.06-.94-2.06-.94L8.5 2.5l-.94 2.06-2.06.94zm10 10l.94 2.06.94-2.06 2.06-.94-2.06-.94-.94-2.06-.94 2.06-2.06.94z\"/><path d=\"M17.41 7.96l-1.37-1.37c-.4-.4-.92-.59-1.43-.59-.52 0-1.04.2-1.43.59L10.3 9.45l-7.72 7.72c-.78.78-.78 2.05 0 2.83L4 21.41c.39.39.9.59 1.41.59.51 0 1.02-.2 1.41-.59l7.78-7.78 2.81-2.81c.8-.78.8-2.07 0-2.86zM5.41 20L4 18.59l7.72-7.72 1.47 1.35L5.41 20z\"/>\n",
              "  </svg>\n",
              "      </button>\n",
              "      \n",
              "  <style>\n",
              "    .colab-df-container {\n",
              "      display:flex;\n",
              "      flex-wrap:wrap;\n",
              "      gap: 12px;\n",
              "    }\n",
              "\n",
              "    .colab-df-convert {\n",
              "      background-color: #E8F0FE;\n",
              "      border: none;\n",
              "      border-radius: 50%;\n",
              "      cursor: pointer;\n",
              "      display: none;\n",
              "      fill: #1967D2;\n",
              "      height: 32px;\n",
              "      padding: 0 0 0 0;\n",
              "      width: 32px;\n",
              "    }\n",
              "\n",
              "    .colab-df-convert:hover {\n",
              "      background-color: #E2EBFA;\n",
              "      box-shadow: 0px 1px 2px rgba(60, 64, 67, 0.3), 0px 1px 3px 1px rgba(60, 64, 67, 0.15);\n",
              "      fill: #174EA6;\n",
              "    }\n",
              "\n",
              "    [theme=dark] .colab-df-convert {\n",
              "      background-color: #3B4455;\n",
              "      fill: #D2E3FC;\n",
              "    }\n",
              "\n",
              "    [theme=dark] .colab-df-convert:hover {\n",
              "      background-color: #434B5C;\n",
              "      box-shadow: 0px 1px 3px 1px rgba(0, 0, 0, 0.15);\n",
              "      filter: drop-shadow(0px 1px 2px rgba(0, 0, 0, 0.3));\n",
              "      fill: #FFFFFF;\n",
              "    }\n",
              "  </style>\n",
              "\n",
              "      <script>\n",
              "        const buttonEl =\n",
              "          document.querySelector('#df-dfc25365-7334-4c5f-851b-2eae52c659fb button.colab-df-convert');\n",
              "        buttonEl.style.display =\n",
              "          google.colab.kernel.accessAllowed ? 'block' : 'none';\n",
              "\n",
              "        async function convertToInteractive(key) {\n",
              "          const element = document.querySelector('#df-dfc25365-7334-4c5f-851b-2eae52c659fb');\n",
              "          const dataTable =\n",
              "            await google.colab.kernel.invokeFunction('convertToInteractive',\n",
              "                                                     [key], {});\n",
              "          if (!dataTable) return;\n",
              "\n",
              "          const docLinkHtml = 'Like what you see? Visit the ' +\n",
              "            '<a target=\"_blank\" href=https://colab.research.google.com/notebooks/data_table.ipynb>data table notebook</a>'\n",
              "            + ' to learn more about interactive tables.';\n",
              "          element.innerHTML = '';\n",
              "          dataTable['output_type'] = 'display_data';\n",
              "          await google.colab.output.renderOutput(dataTable, element);\n",
              "          const docLink = document.createElement('div');\n",
              "          docLink.innerHTML = docLinkHtml;\n",
              "          element.appendChild(docLink);\n",
              "        }\n",
              "      </script>\n",
              "    </div>\n",
              "  </div>\n",
              "  "
            ]
          },
          "metadata": {},
          "execution_count": 23
        }
      ]
    },
    {
      "cell_type": "code",
      "source": [
        "test_data.head(5)"
      ],
      "metadata": {
        "colab": {
          "base_uri": "https://localhost:8080/",
          "height": 250
        },
        "id": "r77SL3AojiUM",
        "outputId": "80827544-7db3-4a91-b74f-ad930a9ba0e7"
      },
      "execution_count": 24,
      "outputs": [
        {
          "output_type": "execute_result",
          "data": {
            "text/plain": [
              "   PassengerId  Pclass                                          Name     Sex  \\\n",
              "0          892       3                              Kelly, Mr. James    male   \n",
              "1          893       3              Wilkes, Mrs. James (Ellen Needs)  female   \n",
              "2          894       2                     Myles, Mr. Thomas Francis    male   \n",
              "3          895       3                              Wirz, Mr. Albert    male   \n",
              "4          896       3  Hirvonen, Mrs. Alexander (Helga E Lindqvist)  female   \n",
              "\n",
              "    Age  SibSp  Parch   Ticket     Fare Cabin Embarked  \n",
              "0  34.5      0      0   330911   7.8292   NaN        Q  \n",
              "1  47.0      1      0   363272   7.0000   NaN        S  \n",
              "2  62.0      0      0   240276   9.6875   NaN        Q  \n",
              "3  27.0      0      0   315154   8.6625   NaN        S  \n",
              "4  22.0      1      1  3101298  12.2875   NaN        S  "
            ],
            "text/html": [
              "\n",
              "  <div id=\"df-82890b37-1498-4cd7-8dc6-e2303714f589\">\n",
              "    <div class=\"colab-df-container\">\n",
              "      <div>\n",
              "<style scoped>\n",
              "    .dataframe tbody tr th:only-of-type {\n",
              "        vertical-align: middle;\n",
              "    }\n",
              "\n",
              "    .dataframe tbody tr th {\n",
              "        vertical-align: top;\n",
              "    }\n",
              "\n",
              "    .dataframe thead th {\n",
              "        text-align: right;\n",
              "    }\n",
              "</style>\n",
              "<table border=\"1\" class=\"dataframe\">\n",
              "  <thead>\n",
              "    <tr style=\"text-align: right;\">\n",
              "      <th></th>\n",
              "      <th>PassengerId</th>\n",
              "      <th>Pclass</th>\n",
              "      <th>Name</th>\n",
              "      <th>Sex</th>\n",
              "      <th>Age</th>\n",
              "      <th>SibSp</th>\n",
              "      <th>Parch</th>\n",
              "      <th>Ticket</th>\n",
              "      <th>Fare</th>\n",
              "      <th>Cabin</th>\n",
              "      <th>Embarked</th>\n",
              "    </tr>\n",
              "  </thead>\n",
              "  <tbody>\n",
              "    <tr>\n",
              "      <th>0</th>\n",
              "      <td>892</td>\n",
              "      <td>3</td>\n",
              "      <td>Kelly, Mr. James</td>\n",
              "      <td>male</td>\n",
              "      <td>34.5</td>\n",
              "      <td>0</td>\n",
              "      <td>0</td>\n",
              "      <td>330911</td>\n",
              "      <td>7.8292</td>\n",
              "      <td>NaN</td>\n",
              "      <td>Q</td>\n",
              "    </tr>\n",
              "    <tr>\n",
              "      <th>1</th>\n",
              "      <td>893</td>\n",
              "      <td>3</td>\n",
              "      <td>Wilkes, Mrs. James (Ellen Needs)</td>\n",
              "      <td>female</td>\n",
              "      <td>47.0</td>\n",
              "      <td>1</td>\n",
              "      <td>0</td>\n",
              "      <td>363272</td>\n",
              "      <td>7.0000</td>\n",
              "      <td>NaN</td>\n",
              "      <td>S</td>\n",
              "    </tr>\n",
              "    <tr>\n",
              "      <th>2</th>\n",
              "      <td>894</td>\n",
              "      <td>2</td>\n",
              "      <td>Myles, Mr. Thomas Francis</td>\n",
              "      <td>male</td>\n",
              "      <td>62.0</td>\n",
              "      <td>0</td>\n",
              "      <td>0</td>\n",
              "      <td>240276</td>\n",
              "      <td>9.6875</td>\n",
              "      <td>NaN</td>\n",
              "      <td>Q</td>\n",
              "    </tr>\n",
              "    <tr>\n",
              "      <th>3</th>\n",
              "      <td>895</td>\n",
              "      <td>3</td>\n",
              "      <td>Wirz, Mr. Albert</td>\n",
              "      <td>male</td>\n",
              "      <td>27.0</td>\n",
              "      <td>0</td>\n",
              "      <td>0</td>\n",
              "      <td>315154</td>\n",
              "      <td>8.6625</td>\n",
              "      <td>NaN</td>\n",
              "      <td>S</td>\n",
              "    </tr>\n",
              "    <tr>\n",
              "      <th>4</th>\n",
              "      <td>896</td>\n",
              "      <td>3</td>\n",
              "      <td>Hirvonen, Mrs. Alexander (Helga E Lindqvist)</td>\n",
              "      <td>female</td>\n",
              "      <td>22.0</td>\n",
              "      <td>1</td>\n",
              "      <td>1</td>\n",
              "      <td>3101298</td>\n",
              "      <td>12.2875</td>\n",
              "      <td>NaN</td>\n",
              "      <td>S</td>\n",
              "    </tr>\n",
              "  </tbody>\n",
              "</table>\n",
              "</div>\n",
              "      <button class=\"colab-df-convert\" onclick=\"convertToInteractive('df-82890b37-1498-4cd7-8dc6-e2303714f589')\"\n",
              "              title=\"Convert this dataframe to an interactive table.\"\n",
              "              style=\"display:none;\">\n",
              "        \n",
              "  <svg xmlns=\"http://www.w3.org/2000/svg\" height=\"24px\"viewBox=\"0 0 24 24\"\n",
              "       width=\"24px\">\n",
              "    <path d=\"M0 0h24v24H0V0z\" fill=\"none\"/>\n",
              "    <path d=\"M18.56 5.44l.94 2.06.94-2.06 2.06-.94-2.06-.94-.94-2.06-.94 2.06-2.06.94zm-11 1L8.5 8.5l.94-2.06 2.06-.94-2.06-.94L8.5 2.5l-.94 2.06-2.06.94zm10 10l.94 2.06.94-2.06 2.06-.94-2.06-.94-.94-2.06-.94 2.06-2.06.94z\"/><path d=\"M17.41 7.96l-1.37-1.37c-.4-.4-.92-.59-1.43-.59-.52 0-1.04.2-1.43.59L10.3 9.45l-7.72 7.72c-.78.78-.78 2.05 0 2.83L4 21.41c.39.39.9.59 1.41.59.51 0 1.02-.2 1.41-.59l7.78-7.78 2.81-2.81c.8-.78.8-2.07 0-2.86zM5.41 20L4 18.59l7.72-7.72 1.47 1.35L5.41 20z\"/>\n",
              "  </svg>\n",
              "      </button>\n",
              "      \n",
              "  <style>\n",
              "    .colab-df-container {\n",
              "      display:flex;\n",
              "      flex-wrap:wrap;\n",
              "      gap: 12px;\n",
              "    }\n",
              "\n",
              "    .colab-df-convert {\n",
              "      background-color: #E8F0FE;\n",
              "      border: none;\n",
              "      border-radius: 50%;\n",
              "      cursor: pointer;\n",
              "      display: none;\n",
              "      fill: #1967D2;\n",
              "      height: 32px;\n",
              "      padding: 0 0 0 0;\n",
              "      width: 32px;\n",
              "    }\n",
              "\n",
              "    .colab-df-convert:hover {\n",
              "      background-color: #E2EBFA;\n",
              "      box-shadow: 0px 1px 2px rgba(60, 64, 67, 0.3), 0px 1px 3px 1px rgba(60, 64, 67, 0.15);\n",
              "      fill: #174EA6;\n",
              "    }\n",
              "\n",
              "    [theme=dark] .colab-df-convert {\n",
              "      background-color: #3B4455;\n",
              "      fill: #D2E3FC;\n",
              "    }\n",
              "\n",
              "    [theme=dark] .colab-df-convert:hover {\n",
              "      background-color: #434B5C;\n",
              "      box-shadow: 0px 1px 3px 1px rgba(0, 0, 0, 0.15);\n",
              "      filter: drop-shadow(0px 1px 2px rgba(0, 0, 0, 0.3));\n",
              "      fill: #FFFFFF;\n",
              "    }\n",
              "  </style>\n",
              "\n",
              "      <script>\n",
              "        const buttonEl =\n",
              "          document.querySelector('#df-82890b37-1498-4cd7-8dc6-e2303714f589 button.colab-df-convert');\n",
              "        buttonEl.style.display =\n",
              "          google.colab.kernel.accessAllowed ? 'block' : 'none';\n",
              "\n",
              "        async function convertToInteractive(key) {\n",
              "          const element = document.querySelector('#df-82890b37-1498-4cd7-8dc6-e2303714f589');\n",
              "          const dataTable =\n",
              "            await google.colab.kernel.invokeFunction('convertToInteractive',\n",
              "                                                     [key], {});\n",
              "          if (!dataTable) return;\n",
              "\n",
              "          const docLinkHtml = 'Like what you see? Visit the ' +\n",
              "            '<a target=\"_blank\" href=https://colab.research.google.com/notebooks/data_table.ipynb>data table notebook</a>'\n",
              "            + ' to learn more about interactive tables.';\n",
              "          element.innerHTML = '';\n",
              "          dataTable['output_type'] = 'display_data';\n",
              "          await google.colab.output.renderOutput(dataTable, element);\n",
              "          const docLink = document.createElement('div');\n",
              "          docLink.innerHTML = docLinkHtml;\n",
              "          element.appendChild(docLink);\n",
              "        }\n",
              "      </script>\n",
              "    </div>\n",
              "  </div>\n",
              "  "
            ]
          },
          "metadata": {},
          "execution_count": 24
        }
      ]
    },
    {
      "cell_type": "markdown",
      "source": [
        "## step 6 : drop useless features\n",
        "\n",
        "What is considered as useless features?\n",
        "\n",
        "> Well, there are no exact rules for a feature to be determined as useless. One way to identify useless features could be by reading through the \"features description\" (if provided) and compare the relevancy with the changes in target variable. This is done by simply using our common sense, nothing fancy. For example, in the case of Titanic ML competition, the features such as \"passenger name\" and \"ticket number\" might not be relevant to determine whether the passengers will survive or not from the Titanic shipwreck. Hence, we drop these features.\n"
      ],
      "metadata": {
        "id": "pAN7pXg4UvvF"
      }
    },
    {
      "cell_type": "code",
      "source": [
        "train_data.drop(['PassengerId', 'Name', 'Ticket', 'Cabin'], axis = 1, inplace = True)\n",
        "test_data.drop(['PassengerId', 'Name', 'Ticket', 'Cabin'], axis = 1, inplace = True)"
      ],
      "metadata": {
        "id": "x6lwRlVkU32l"
      },
      "execution_count": 25,
      "outputs": []
    },
    {
      "cell_type": "markdown",
      "source": [
        "## step 7 : show data description"
      ],
      "metadata": {
        "id": "VW1ZiG8W1P9x"
      }
    },
    {
      "cell_type": "code",
      "source": [
        "train_data.describe()"
      ],
      "metadata": {
        "colab": {
          "base_uri": "https://localhost:8080/",
          "height": 300
        },
        "id": "heseQQJ7QK7n",
        "outputId": "22079423-31eb-4669-9211-c11b957f12ef"
      },
      "execution_count": 26,
      "outputs": [
        {
          "output_type": "execute_result",
          "data": {
            "text/plain": [
              "         Survived      Pclass         Age       SibSp       Parch        Fare\n",
              "count  891.000000  891.000000  714.000000  891.000000  891.000000  891.000000\n",
              "mean     0.383838    2.308642   29.699118    0.523008    0.381594   32.204208\n",
              "std      0.486592    0.836071   14.526497    1.102743    0.806057   49.693429\n",
              "min      0.000000    1.000000    0.420000    0.000000    0.000000    0.000000\n",
              "25%      0.000000    2.000000   20.125000    0.000000    0.000000    7.910400\n",
              "50%      0.000000    3.000000   28.000000    0.000000    0.000000   14.454200\n",
              "75%      1.000000    3.000000   38.000000    1.000000    0.000000   31.000000\n",
              "max      1.000000    3.000000   80.000000    8.000000    6.000000  512.329200"
            ],
            "text/html": [
              "\n",
              "  <div id=\"df-8c33f308-e2fe-4a49-ba9b-2936e7dee72d\">\n",
              "    <div class=\"colab-df-container\">\n",
              "      <div>\n",
              "<style scoped>\n",
              "    .dataframe tbody tr th:only-of-type {\n",
              "        vertical-align: middle;\n",
              "    }\n",
              "\n",
              "    .dataframe tbody tr th {\n",
              "        vertical-align: top;\n",
              "    }\n",
              "\n",
              "    .dataframe thead th {\n",
              "        text-align: right;\n",
              "    }\n",
              "</style>\n",
              "<table border=\"1\" class=\"dataframe\">\n",
              "  <thead>\n",
              "    <tr style=\"text-align: right;\">\n",
              "      <th></th>\n",
              "      <th>Survived</th>\n",
              "      <th>Pclass</th>\n",
              "      <th>Age</th>\n",
              "      <th>SibSp</th>\n",
              "      <th>Parch</th>\n",
              "      <th>Fare</th>\n",
              "    </tr>\n",
              "  </thead>\n",
              "  <tbody>\n",
              "    <tr>\n",
              "      <th>count</th>\n",
              "      <td>891.000000</td>\n",
              "      <td>891.000000</td>\n",
              "      <td>714.000000</td>\n",
              "      <td>891.000000</td>\n",
              "      <td>891.000000</td>\n",
              "      <td>891.000000</td>\n",
              "    </tr>\n",
              "    <tr>\n",
              "      <th>mean</th>\n",
              "      <td>0.383838</td>\n",
              "      <td>2.308642</td>\n",
              "      <td>29.699118</td>\n",
              "      <td>0.523008</td>\n",
              "      <td>0.381594</td>\n",
              "      <td>32.204208</td>\n",
              "    </tr>\n",
              "    <tr>\n",
              "      <th>std</th>\n",
              "      <td>0.486592</td>\n",
              "      <td>0.836071</td>\n",
              "      <td>14.526497</td>\n",
              "      <td>1.102743</td>\n",
              "      <td>0.806057</td>\n",
              "      <td>49.693429</td>\n",
              "    </tr>\n",
              "    <tr>\n",
              "      <th>min</th>\n",
              "      <td>0.000000</td>\n",
              "      <td>1.000000</td>\n",
              "      <td>0.420000</td>\n",
              "      <td>0.000000</td>\n",
              "      <td>0.000000</td>\n",
              "      <td>0.000000</td>\n",
              "    </tr>\n",
              "    <tr>\n",
              "      <th>25%</th>\n",
              "      <td>0.000000</td>\n",
              "      <td>2.000000</td>\n",
              "      <td>20.125000</td>\n",
              "      <td>0.000000</td>\n",
              "      <td>0.000000</td>\n",
              "      <td>7.910400</td>\n",
              "    </tr>\n",
              "    <tr>\n",
              "      <th>50%</th>\n",
              "      <td>0.000000</td>\n",
              "      <td>3.000000</td>\n",
              "      <td>28.000000</td>\n",
              "      <td>0.000000</td>\n",
              "      <td>0.000000</td>\n",
              "      <td>14.454200</td>\n",
              "    </tr>\n",
              "    <tr>\n",
              "      <th>75%</th>\n",
              "      <td>1.000000</td>\n",
              "      <td>3.000000</td>\n",
              "      <td>38.000000</td>\n",
              "      <td>1.000000</td>\n",
              "      <td>0.000000</td>\n",
              "      <td>31.000000</td>\n",
              "    </tr>\n",
              "    <tr>\n",
              "      <th>max</th>\n",
              "      <td>1.000000</td>\n",
              "      <td>3.000000</td>\n",
              "      <td>80.000000</td>\n",
              "      <td>8.000000</td>\n",
              "      <td>6.000000</td>\n",
              "      <td>512.329200</td>\n",
              "    </tr>\n",
              "  </tbody>\n",
              "</table>\n",
              "</div>\n",
              "      <button class=\"colab-df-convert\" onclick=\"convertToInteractive('df-8c33f308-e2fe-4a49-ba9b-2936e7dee72d')\"\n",
              "              title=\"Convert this dataframe to an interactive table.\"\n",
              "              style=\"display:none;\">\n",
              "        \n",
              "  <svg xmlns=\"http://www.w3.org/2000/svg\" height=\"24px\"viewBox=\"0 0 24 24\"\n",
              "       width=\"24px\">\n",
              "    <path d=\"M0 0h24v24H0V0z\" fill=\"none\"/>\n",
              "    <path d=\"M18.56 5.44l.94 2.06.94-2.06 2.06-.94-2.06-.94-.94-2.06-.94 2.06-2.06.94zm-11 1L8.5 8.5l.94-2.06 2.06-.94-2.06-.94L8.5 2.5l-.94 2.06-2.06.94zm10 10l.94 2.06.94-2.06 2.06-.94-2.06-.94-.94-2.06-.94 2.06-2.06.94z\"/><path d=\"M17.41 7.96l-1.37-1.37c-.4-.4-.92-.59-1.43-.59-.52 0-1.04.2-1.43.59L10.3 9.45l-7.72 7.72c-.78.78-.78 2.05 0 2.83L4 21.41c.39.39.9.59 1.41.59.51 0 1.02-.2 1.41-.59l7.78-7.78 2.81-2.81c.8-.78.8-2.07 0-2.86zM5.41 20L4 18.59l7.72-7.72 1.47 1.35L5.41 20z\"/>\n",
              "  </svg>\n",
              "      </button>\n",
              "      \n",
              "  <style>\n",
              "    .colab-df-container {\n",
              "      display:flex;\n",
              "      flex-wrap:wrap;\n",
              "      gap: 12px;\n",
              "    }\n",
              "\n",
              "    .colab-df-convert {\n",
              "      background-color: #E8F0FE;\n",
              "      border: none;\n",
              "      border-radius: 50%;\n",
              "      cursor: pointer;\n",
              "      display: none;\n",
              "      fill: #1967D2;\n",
              "      height: 32px;\n",
              "      padding: 0 0 0 0;\n",
              "      width: 32px;\n",
              "    }\n",
              "\n",
              "    .colab-df-convert:hover {\n",
              "      background-color: #E2EBFA;\n",
              "      box-shadow: 0px 1px 2px rgba(60, 64, 67, 0.3), 0px 1px 3px 1px rgba(60, 64, 67, 0.15);\n",
              "      fill: #174EA6;\n",
              "    }\n",
              "\n",
              "    [theme=dark] .colab-df-convert {\n",
              "      background-color: #3B4455;\n",
              "      fill: #D2E3FC;\n",
              "    }\n",
              "\n",
              "    [theme=dark] .colab-df-convert:hover {\n",
              "      background-color: #434B5C;\n",
              "      box-shadow: 0px 1px 3px 1px rgba(0, 0, 0, 0.15);\n",
              "      filter: drop-shadow(0px 1px 2px rgba(0, 0, 0, 0.3));\n",
              "      fill: #FFFFFF;\n",
              "    }\n",
              "  </style>\n",
              "\n",
              "      <script>\n",
              "        const buttonEl =\n",
              "          document.querySelector('#df-8c33f308-e2fe-4a49-ba9b-2936e7dee72d button.colab-df-convert');\n",
              "        buttonEl.style.display =\n",
              "          google.colab.kernel.accessAllowed ? 'block' : 'none';\n",
              "\n",
              "        async function convertToInteractive(key) {\n",
              "          const element = document.querySelector('#df-8c33f308-e2fe-4a49-ba9b-2936e7dee72d');\n",
              "          const dataTable =\n",
              "            await google.colab.kernel.invokeFunction('convertToInteractive',\n",
              "                                                     [key], {});\n",
              "          if (!dataTable) return;\n",
              "\n",
              "          const docLinkHtml = 'Like what you see? Visit the ' +\n",
              "            '<a target=\"_blank\" href=https://colab.research.google.com/notebooks/data_table.ipynb>data table notebook</a>'\n",
              "            + ' to learn more about interactive tables.';\n",
              "          element.innerHTML = '';\n",
              "          dataTable['output_type'] = 'display_data';\n",
              "          await google.colab.output.renderOutput(dataTable, element);\n",
              "          const docLink = document.createElement('div');\n",
              "          docLink.innerHTML = docLinkHtml;\n",
              "          element.appendChild(docLink);\n",
              "        }\n",
              "      </script>\n",
              "    </div>\n",
              "  </div>\n",
              "  "
            ]
          },
          "metadata": {},
          "execution_count": 26
        }
      ]
    },
    {
      "cell_type": "markdown",
      "source": [
        "## step 8 : categorical features encoding (optional)"
      ],
      "metadata": {
        "id": "RSU8aYjpMo8H"
      }
    },
    {
      "cell_type": "markdown",
      "source": [
        "### step 8.1 : count the unique values for each categorical features\n",
        "\n",
        "This information is require to consider whether we will perform one-hot or label encoding. In the cases where we have many categorical features and most of them have a lot of unique values, it is better to perform label encoding compares to one-hot. This is because one-hot encoding increases the dimensionality of input features.\n",
        "\n"
      ],
      "metadata": {
        "id": "SK1OSMsFifxL"
      }
    },
    {
      "cell_type": "code",
      "source": [
        "categorical_features_name = ['Pclass', 'Embarked']\n",
        "for name in categorical_features_name:\n",
        "  print(f\"{name} = {len(train_data[name].unique())}\")"
      ],
      "metadata": {
        "id": "6LRiqo_difKf",
        "colab": {
          "base_uri": "https://localhost:8080/"
        },
        "outputId": "3f580419-7375-478b-f233-96c14c7b19ad"
      },
      "execution_count": 27,
      "outputs": [
        {
          "output_type": "stream",
          "name": "stdout",
          "text": [
            "Pclass = 3\n",
            "Embarked = 4\n"
          ]
        }
      ]
    },
    {
      "cell_type": "markdown",
      "source": [
        "Define the list of features that later will be transformed into one-hot and label representation"
      ],
      "metadata": {
        "id": "-0lUBiDqZcbq"
      }
    },
    {
      "cell_type": "code",
      "source": [
        "# one-hot \n",
        "one_hot_features = ['Embarked']\n",
        "\n",
        "# label\n",
        "# because Pclass has an ordinal information\n",
        "label_features = ['Pclass', 'Sex']"
      ],
      "metadata": {
        "id": "LgcUijuenwkH"
      },
      "execution_count": 28,
      "outputs": []
    },
    {
      "cell_type": "markdown",
      "source": [
        "#### option 1 : one-hot encoding"
      ],
      "metadata": {
        "id": "9K-3cqI_0uq2"
      }
    },
    {
      "cell_type": "markdown",
      "source": [
        "for train set"
      ],
      "metadata": {
        "id": "m3HzeLPBUZ3P"
      }
    },
    {
      "cell_type": "code",
      "source": [
        "for name in one_hot_features:\n",
        "  # step 1 : perform one-hot encoding\n",
        "  one_hot_encoded = pd.get_dummies(train_data[name], prefix=name)\n",
        "\n",
        "  # step 2 : concat to the dataset\n",
        "  train_data = pd.concat([train_data, one_hot_encoded], axis = 1)\n",
        "\n",
        "  # step 3 : drop the original feature (before being transformed to one-hot)\n",
        "  train_data.drop([name], axis = 1, inplace = True)\n",
        "\n",
        "\n",
        "train_data.head()"
      ],
      "metadata": {
        "id": "NaHGMlT-QhEH",
        "colab": {
          "base_uri": "https://localhost:8080/",
          "height": 206
        },
        "outputId": "c6d4753f-46a1-459a-d596-d681805998aa"
      },
      "execution_count": 29,
      "outputs": [
        {
          "output_type": "execute_result",
          "data": {
            "text/plain": [
              "   Survived  Pclass     Sex   Age  SibSp  Parch     Fare  Embarked_C  \\\n",
              "0         0       3    male  22.0      1      0   7.2500           0   \n",
              "1         1       1  female  38.0      1      0  71.2833           1   \n",
              "2         1       3  female  26.0      0      0   7.9250           0   \n",
              "3         1       1  female  35.0      1      0  53.1000           0   \n",
              "4         0       3    male  35.0      0      0   8.0500           0   \n",
              "\n",
              "   Embarked_Q  Embarked_S  \n",
              "0           0           1  \n",
              "1           0           0  \n",
              "2           0           1  \n",
              "3           0           1  \n",
              "4           0           1  "
            ],
            "text/html": [
              "\n",
              "  <div id=\"df-ec4b6adf-a7cc-45b2-91d7-d2882bc4aaef\">\n",
              "    <div class=\"colab-df-container\">\n",
              "      <div>\n",
              "<style scoped>\n",
              "    .dataframe tbody tr th:only-of-type {\n",
              "        vertical-align: middle;\n",
              "    }\n",
              "\n",
              "    .dataframe tbody tr th {\n",
              "        vertical-align: top;\n",
              "    }\n",
              "\n",
              "    .dataframe thead th {\n",
              "        text-align: right;\n",
              "    }\n",
              "</style>\n",
              "<table border=\"1\" class=\"dataframe\">\n",
              "  <thead>\n",
              "    <tr style=\"text-align: right;\">\n",
              "      <th></th>\n",
              "      <th>Survived</th>\n",
              "      <th>Pclass</th>\n",
              "      <th>Sex</th>\n",
              "      <th>Age</th>\n",
              "      <th>SibSp</th>\n",
              "      <th>Parch</th>\n",
              "      <th>Fare</th>\n",
              "      <th>Embarked_C</th>\n",
              "      <th>Embarked_Q</th>\n",
              "      <th>Embarked_S</th>\n",
              "    </tr>\n",
              "  </thead>\n",
              "  <tbody>\n",
              "    <tr>\n",
              "      <th>0</th>\n",
              "      <td>0</td>\n",
              "      <td>3</td>\n",
              "      <td>male</td>\n",
              "      <td>22.0</td>\n",
              "      <td>1</td>\n",
              "      <td>0</td>\n",
              "      <td>7.2500</td>\n",
              "      <td>0</td>\n",
              "      <td>0</td>\n",
              "      <td>1</td>\n",
              "    </tr>\n",
              "    <tr>\n",
              "      <th>1</th>\n",
              "      <td>1</td>\n",
              "      <td>1</td>\n",
              "      <td>female</td>\n",
              "      <td>38.0</td>\n",
              "      <td>1</td>\n",
              "      <td>0</td>\n",
              "      <td>71.2833</td>\n",
              "      <td>1</td>\n",
              "      <td>0</td>\n",
              "      <td>0</td>\n",
              "    </tr>\n",
              "    <tr>\n",
              "      <th>2</th>\n",
              "      <td>1</td>\n",
              "      <td>3</td>\n",
              "      <td>female</td>\n",
              "      <td>26.0</td>\n",
              "      <td>0</td>\n",
              "      <td>0</td>\n",
              "      <td>7.9250</td>\n",
              "      <td>0</td>\n",
              "      <td>0</td>\n",
              "      <td>1</td>\n",
              "    </tr>\n",
              "    <tr>\n",
              "      <th>3</th>\n",
              "      <td>1</td>\n",
              "      <td>1</td>\n",
              "      <td>female</td>\n",
              "      <td>35.0</td>\n",
              "      <td>1</td>\n",
              "      <td>0</td>\n",
              "      <td>53.1000</td>\n",
              "      <td>0</td>\n",
              "      <td>0</td>\n",
              "      <td>1</td>\n",
              "    </tr>\n",
              "    <tr>\n",
              "      <th>4</th>\n",
              "      <td>0</td>\n",
              "      <td>3</td>\n",
              "      <td>male</td>\n",
              "      <td>35.0</td>\n",
              "      <td>0</td>\n",
              "      <td>0</td>\n",
              "      <td>8.0500</td>\n",
              "      <td>0</td>\n",
              "      <td>0</td>\n",
              "      <td>1</td>\n",
              "    </tr>\n",
              "  </tbody>\n",
              "</table>\n",
              "</div>\n",
              "      <button class=\"colab-df-convert\" onclick=\"convertToInteractive('df-ec4b6adf-a7cc-45b2-91d7-d2882bc4aaef')\"\n",
              "              title=\"Convert this dataframe to an interactive table.\"\n",
              "              style=\"display:none;\">\n",
              "        \n",
              "  <svg xmlns=\"http://www.w3.org/2000/svg\" height=\"24px\"viewBox=\"0 0 24 24\"\n",
              "       width=\"24px\">\n",
              "    <path d=\"M0 0h24v24H0V0z\" fill=\"none\"/>\n",
              "    <path d=\"M18.56 5.44l.94 2.06.94-2.06 2.06-.94-2.06-.94-.94-2.06-.94 2.06-2.06.94zm-11 1L8.5 8.5l.94-2.06 2.06-.94-2.06-.94L8.5 2.5l-.94 2.06-2.06.94zm10 10l.94 2.06.94-2.06 2.06-.94-2.06-.94-.94-2.06-.94 2.06-2.06.94z\"/><path d=\"M17.41 7.96l-1.37-1.37c-.4-.4-.92-.59-1.43-.59-.52 0-1.04.2-1.43.59L10.3 9.45l-7.72 7.72c-.78.78-.78 2.05 0 2.83L4 21.41c.39.39.9.59 1.41.59.51 0 1.02-.2 1.41-.59l7.78-7.78 2.81-2.81c.8-.78.8-2.07 0-2.86zM5.41 20L4 18.59l7.72-7.72 1.47 1.35L5.41 20z\"/>\n",
              "  </svg>\n",
              "      </button>\n",
              "      \n",
              "  <style>\n",
              "    .colab-df-container {\n",
              "      display:flex;\n",
              "      flex-wrap:wrap;\n",
              "      gap: 12px;\n",
              "    }\n",
              "\n",
              "    .colab-df-convert {\n",
              "      background-color: #E8F0FE;\n",
              "      border: none;\n",
              "      border-radius: 50%;\n",
              "      cursor: pointer;\n",
              "      display: none;\n",
              "      fill: #1967D2;\n",
              "      height: 32px;\n",
              "      padding: 0 0 0 0;\n",
              "      width: 32px;\n",
              "    }\n",
              "\n",
              "    .colab-df-convert:hover {\n",
              "      background-color: #E2EBFA;\n",
              "      box-shadow: 0px 1px 2px rgba(60, 64, 67, 0.3), 0px 1px 3px 1px rgba(60, 64, 67, 0.15);\n",
              "      fill: #174EA6;\n",
              "    }\n",
              "\n",
              "    [theme=dark] .colab-df-convert {\n",
              "      background-color: #3B4455;\n",
              "      fill: #D2E3FC;\n",
              "    }\n",
              "\n",
              "    [theme=dark] .colab-df-convert:hover {\n",
              "      background-color: #434B5C;\n",
              "      box-shadow: 0px 1px 3px 1px rgba(0, 0, 0, 0.15);\n",
              "      filter: drop-shadow(0px 1px 2px rgba(0, 0, 0, 0.3));\n",
              "      fill: #FFFFFF;\n",
              "    }\n",
              "  </style>\n",
              "\n",
              "      <script>\n",
              "        const buttonEl =\n",
              "          document.querySelector('#df-ec4b6adf-a7cc-45b2-91d7-d2882bc4aaef button.colab-df-convert');\n",
              "        buttonEl.style.display =\n",
              "          google.colab.kernel.accessAllowed ? 'block' : 'none';\n",
              "\n",
              "        async function convertToInteractive(key) {\n",
              "          const element = document.querySelector('#df-ec4b6adf-a7cc-45b2-91d7-d2882bc4aaef');\n",
              "          const dataTable =\n",
              "            await google.colab.kernel.invokeFunction('convertToInteractive',\n",
              "                                                     [key], {});\n",
              "          if (!dataTable) return;\n",
              "\n",
              "          const docLinkHtml = 'Like what you see? Visit the ' +\n",
              "            '<a target=\"_blank\" href=https://colab.research.google.com/notebooks/data_table.ipynb>data table notebook</a>'\n",
              "            + ' to learn more about interactive tables.';\n",
              "          element.innerHTML = '';\n",
              "          dataTable['output_type'] = 'display_data';\n",
              "          await google.colab.output.renderOutput(dataTable, element);\n",
              "          const docLink = document.createElement('div');\n",
              "          docLink.innerHTML = docLinkHtml;\n",
              "          element.appendChild(docLink);\n",
              "        }\n",
              "      </script>\n",
              "    </div>\n",
              "  </div>\n",
              "  "
            ]
          },
          "metadata": {},
          "execution_count": 29
        }
      ]
    },
    {
      "cell_type": "markdown",
      "source": [
        "for test set"
      ],
      "metadata": {
        "id": "VmA7trntUjEw"
      }
    },
    {
      "cell_type": "code",
      "source": [
        "for name in one_hot_features:\n",
        "  # step 1 : perform one-hot encoding\n",
        "  one_hot_encoded = pd.get_dummies(test_data[name], prefix=name)\n",
        "\n",
        "  # step 2 : concat to the dataset\n",
        "  test_data = pd.concat([test_data, one_hot_encoded], axis = 1)\n",
        "\n",
        "  # step 3 : drop the original feature (before being transformed to one-hot)\n",
        "  test_data.drop([name], axis = 1, inplace = True)\n",
        "\n",
        "\n",
        "test_data.head()"
      ],
      "metadata": {
        "id": "i2ZRLsAqUiFk",
        "colab": {
          "base_uri": "https://localhost:8080/",
          "height": 206
        },
        "outputId": "9d11cf22-1d74-4e65-edcc-15880d670912"
      },
      "execution_count": 30,
      "outputs": [
        {
          "output_type": "execute_result",
          "data": {
            "text/plain": [
              "   Pclass     Sex   Age  SibSp  Parch     Fare  Embarked_C  Embarked_Q  \\\n",
              "0       3    male  34.5      0      0   7.8292           0           1   \n",
              "1       3  female  47.0      1      0   7.0000           0           0   \n",
              "2       2    male  62.0      0      0   9.6875           0           1   \n",
              "3       3    male  27.0      0      0   8.6625           0           0   \n",
              "4       3  female  22.0      1      1  12.2875           0           0   \n",
              "\n",
              "   Embarked_S  \n",
              "0           0  \n",
              "1           1  \n",
              "2           0  \n",
              "3           1  \n",
              "4           1  "
            ],
            "text/html": [
              "\n",
              "  <div id=\"df-37ad394f-8217-4295-a088-4880cd9a3ae6\">\n",
              "    <div class=\"colab-df-container\">\n",
              "      <div>\n",
              "<style scoped>\n",
              "    .dataframe tbody tr th:only-of-type {\n",
              "        vertical-align: middle;\n",
              "    }\n",
              "\n",
              "    .dataframe tbody tr th {\n",
              "        vertical-align: top;\n",
              "    }\n",
              "\n",
              "    .dataframe thead th {\n",
              "        text-align: right;\n",
              "    }\n",
              "</style>\n",
              "<table border=\"1\" class=\"dataframe\">\n",
              "  <thead>\n",
              "    <tr style=\"text-align: right;\">\n",
              "      <th></th>\n",
              "      <th>Pclass</th>\n",
              "      <th>Sex</th>\n",
              "      <th>Age</th>\n",
              "      <th>SibSp</th>\n",
              "      <th>Parch</th>\n",
              "      <th>Fare</th>\n",
              "      <th>Embarked_C</th>\n",
              "      <th>Embarked_Q</th>\n",
              "      <th>Embarked_S</th>\n",
              "    </tr>\n",
              "  </thead>\n",
              "  <tbody>\n",
              "    <tr>\n",
              "      <th>0</th>\n",
              "      <td>3</td>\n",
              "      <td>male</td>\n",
              "      <td>34.5</td>\n",
              "      <td>0</td>\n",
              "      <td>0</td>\n",
              "      <td>7.8292</td>\n",
              "      <td>0</td>\n",
              "      <td>1</td>\n",
              "      <td>0</td>\n",
              "    </tr>\n",
              "    <tr>\n",
              "      <th>1</th>\n",
              "      <td>3</td>\n",
              "      <td>female</td>\n",
              "      <td>47.0</td>\n",
              "      <td>1</td>\n",
              "      <td>0</td>\n",
              "      <td>7.0000</td>\n",
              "      <td>0</td>\n",
              "      <td>0</td>\n",
              "      <td>1</td>\n",
              "    </tr>\n",
              "    <tr>\n",
              "      <th>2</th>\n",
              "      <td>2</td>\n",
              "      <td>male</td>\n",
              "      <td>62.0</td>\n",
              "      <td>0</td>\n",
              "      <td>0</td>\n",
              "      <td>9.6875</td>\n",
              "      <td>0</td>\n",
              "      <td>1</td>\n",
              "      <td>0</td>\n",
              "    </tr>\n",
              "    <tr>\n",
              "      <th>3</th>\n",
              "      <td>3</td>\n",
              "      <td>male</td>\n",
              "      <td>27.0</td>\n",
              "      <td>0</td>\n",
              "      <td>0</td>\n",
              "      <td>8.6625</td>\n",
              "      <td>0</td>\n",
              "      <td>0</td>\n",
              "      <td>1</td>\n",
              "    </tr>\n",
              "    <tr>\n",
              "      <th>4</th>\n",
              "      <td>3</td>\n",
              "      <td>female</td>\n",
              "      <td>22.0</td>\n",
              "      <td>1</td>\n",
              "      <td>1</td>\n",
              "      <td>12.2875</td>\n",
              "      <td>0</td>\n",
              "      <td>0</td>\n",
              "      <td>1</td>\n",
              "    </tr>\n",
              "  </tbody>\n",
              "</table>\n",
              "</div>\n",
              "      <button class=\"colab-df-convert\" onclick=\"convertToInteractive('df-37ad394f-8217-4295-a088-4880cd9a3ae6')\"\n",
              "              title=\"Convert this dataframe to an interactive table.\"\n",
              "              style=\"display:none;\">\n",
              "        \n",
              "  <svg xmlns=\"http://www.w3.org/2000/svg\" height=\"24px\"viewBox=\"0 0 24 24\"\n",
              "       width=\"24px\">\n",
              "    <path d=\"M0 0h24v24H0V0z\" fill=\"none\"/>\n",
              "    <path d=\"M18.56 5.44l.94 2.06.94-2.06 2.06-.94-2.06-.94-.94-2.06-.94 2.06-2.06.94zm-11 1L8.5 8.5l.94-2.06 2.06-.94-2.06-.94L8.5 2.5l-.94 2.06-2.06.94zm10 10l.94 2.06.94-2.06 2.06-.94-2.06-.94-.94-2.06-.94 2.06-2.06.94z\"/><path d=\"M17.41 7.96l-1.37-1.37c-.4-.4-.92-.59-1.43-.59-.52 0-1.04.2-1.43.59L10.3 9.45l-7.72 7.72c-.78.78-.78 2.05 0 2.83L4 21.41c.39.39.9.59 1.41.59.51 0 1.02-.2 1.41-.59l7.78-7.78 2.81-2.81c.8-.78.8-2.07 0-2.86zM5.41 20L4 18.59l7.72-7.72 1.47 1.35L5.41 20z\"/>\n",
              "  </svg>\n",
              "      </button>\n",
              "      \n",
              "  <style>\n",
              "    .colab-df-container {\n",
              "      display:flex;\n",
              "      flex-wrap:wrap;\n",
              "      gap: 12px;\n",
              "    }\n",
              "\n",
              "    .colab-df-convert {\n",
              "      background-color: #E8F0FE;\n",
              "      border: none;\n",
              "      border-radius: 50%;\n",
              "      cursor: pointer;\n",
              "      display: none;\n",
              "      fill: #1967D2;\n",
              "      height: 32px;\n",
              "      padding: 0 0 0 0;\n",
              "      width: 32px;\n",
              "    }\n",
              "\n",
              "    .colab-df-convert:hover {\n",
              "      background-color: #E2EBFA;\n",
              "      box-shadow: 0px 1px 2px rgba(60, 64, 67, 0.3), 0px 1px 3px 1px rgba(60, 64, 67, 0.15);\n",
              "      fill: #174EA6;\n",
              "    }\n",
              "\n",
              "    [theme=dark] .colab-df-convert {\n",
              "      background-color: #3B4455;\n",
              "      fill: #D2E3FC;\n",
              "    }\n",
              "\n",
              "    [theme=dark] .colab-df-convert:hover {\n",
              "      background-color: #434B5C;\n",
              "      box-shadow: 0px 1px 3px 1px rgba(0, 0, 0, 0.15);\n",
              "      filter: drop-shadow(0px 1px 2px rgba(0, 0, 0, 0.3));\n",
              "      fill: #FFFFFF;\n",
              "    }\n",
              "  </style>\n",
              "\n",
              "      <script>\n",
              "        const buttonEl =\n",
              "          document.querySelector('#df-37ad394f-8217-4295-a088-4880cd9a3ae6 button.colab-df-convert');\n",
              "        buttonEl.style.display =\n",
              "          google.colab.kernel.accessAllowed ? 'block' : 'none';\n",
              "\n",
              "        async function convertToInteractive(key) {\n",
              "          const element = document.querySelector('#df-37ad394f-8217-4295-a088-4880cd9a3ae6');\n",
              "          const dataTable =\n",
              "            await google.colab.kernel.invokeFunction('convertToInteractive',\n",
              "                                                     [key], {});\n",
              "          if (!dataTable) return;\n",
              "\n",
              "          const docLinkHtml = 'Like what you see? Visit the ' +\n",
              "            '<a target=\"_blank\" href=https://colab.research.google.com/notebooks/data_table.ipynb>data table notebook</a>'\n",
              "            + ' to learn more about interactive tables.';\n",
              "          element.innerHTML = '';\n",
              "          dataTable['output_type'] = 'display_data';\n",
              "          await google.colab.output.renderOutput(dataTable, element);\n",
              "          const docLink = document.createElement('div');\n",
              "          docLink.innerHTML = docLinkHtml;\n",
              "          element.appendChild(docLink);\n",
              "        }\n",
              "      </script>\n",
              "    </div>\n",
              "  </div>\n",
              "  "
            ]
          },
          "metadata": {},
          "execution_count": 30
        }
      ]
    },
    {
      "cell_type": "markdown",
      "source": [
        "#### option 2 : label encoding"
      ],
      "metadata": {
        "id": "mnO6d6DG0066"
      }
    },
    {
      "cell_type": "code",
      "source": [
        "from sklearn import preprocessing \n",
        "\n",
        "label_encoder = preprocessing.LabelEncoder() "
      ],
      "metadata": {
        "id": "esFzrRkuW8xr"
      },
      "execution_count": 31,
      "outputs": []
    },
    {
      "cell_type": "markdown",
      "source": [
        "For train set"
      ],
      "metadata": {
        "id": "jHJTEnekVJWX"
      }
    },
    {
      "cell_type": "code",
      "source": [
        "for name in label_features:\n",
        "  train_data[name] = label_encoder.fit_transform(train_data[name]) \n",
        "\n",
        "train_data.head()"
      ],
      "metadata": {
        "id": "AtuG0zQ4Uplh",
        "colab": {
          "base_uri": "https://localhost:8080/",
          "height": 206
        },
        "outputId": "5229a60f-2aa0-4909-a287-634dc81b6179"
      },
      "execution_count": 32,
      "outputs": [
        {
          "output_type": "execute_result",
          "data": {
            "text/plain": [
              "   Survived  Pclass  Sex   Age  SibSp  Parch     Fare  Embarked_C  Embarked_Q  \\\n",
              "0         0       2    1  22.0      1      0   7.2500           0           0   \n",
              "1         1       0    0  38.0      1      0  71.2833           1           0   \n",
              "2         1       2    0  26.0      0      0   7.9250           0           0   \n",
              "3         1       0    0  35.0      1      0  53.1000           0           0   \n",
              "4         0       2    1  35.0      0      0   8.0500           0           0   \n",
              "\n",
              "   Embarked_S  \n",
              "0           1  \n",
              "1           0  \n",
              "2           1  \n",
              "3           1  \n",
              "4           1  "
            ],
            "text/html": [
              "\n",
              "  <div id=\"df-dfc08cb4-53f1-4754-8c79-a14210221bb5\">\n",
              "    <div class=\"colab-df-container\">\n",
              "      <div>\n",
              "<style scoped>\n",
              "    .dataframe tbody tr th:only-of-type {\n",
              "        vertical-align: middle;\n",
              "    }\n",
              "\n",
              "    .dataframe tbody tr th {\n",
              "        vertical-align: top;\n",
              "    }\n",
              "\n",
              "    .dataframe thead th {\n",
              "        text-align: right;\n",
              "    }\n",
              "</style>\n",
              "<table border=\"1\" class=\"dataframe\">\n",
              "  <thead>\n",
              "    <tr style=\"text-align: right;\">\n",
              "      <th></th>\n",
              "      <th>Survived</th>\n",
              "      <th>Pclass</th>\n",
              "      <th>Sex</th>\n",
              "      <th>Age</th>\n",
              "      <th>SibSp</th>\n",
              "      <th>Parch</th>\n",
              "      <th>Fare</th>\n",
              "      <th>Embarked_C</th>\n",
              "      <th>Embarked_Q</th>\n",
              "      <th>Embarked_S</th>\n",
              "    </tr>\n",
              "  </thead>\n",
              "  <tbody>\n",
              "    <tr>\n",
              "      <th>0</th>\n",
              "      <td>0</td>\n",
              "      <td>2</td>\n",
              "      <td>1</td>\n",
              "      <td>22.0</td>\n",
              "      <td>1</td>\n",
              "      <td>0</td>\n",
              "      <td>7.2500</td>\n",
              "      <td>0</td>\n",
              "      <td>0</td>\n",
              "      <td>1</td>\n",
              "    </tr>\n",
              "    <tr>\n",
              "      <th>1</th>\n",
              "      <td>1</td>\n",
              "      <td>0</td>\n",
              "      <td>0</td>\n",
              "      <td>38.0</td>\n",
              "      <td>1</td>\n",
              "      <td>0</td>\n",
              "      <td>71.2833</td>\n",
              "      <td>1</td>\n",
              "      <td>0</td>\n",
              "      <td>0</td>\n",
              "    </tr>\n",
              "    <tr>\n",
              "      <th>2</th>\n",
              "      <td>1</td>\n",
              "      <td>2</td>\n",
              "      <td>0</td>\n",
              "      <td>26.0</td>\n",
              "      <td>0</td>\n",
              "      <td>0</td>\n",
              "      <td>7.9250</td>\n",
              "      <td>0</td>\n",
              "      <td>0</td>\n",
              "      <td>1</td>\n",
              "    </tr>\n",
              "    <tr>\n",
              "      <th>3</th>\n",
              "      <td>1</td>\n",
              "      <td>0</td>\n",
              "      <td>0</td>\n",
              "      <td>35.0</td>\n",
              "      <td>1</td>\n",
              "      <td>0</td>\n",
              "      <td>53.1000</td>\n",
              "      <td>0</td>\n",
              "      <td>0</td>\n",
              "      <td>1</td>\n",
              "    </tr>\n",
              "    <tr>\n",
              "      <th>4</th>\n",
              "      <td>0</td>\n",
              "      <td>2</td>\n",
              "      <td>1</td>\n",
              "      <td>35.0</td>\n",
              "      <td>0</td>\n",
              "      <td>0</td>\n",
              "      <td>8.0500</td>\n",
              "      <td>0</td>\n",
              "      <td>0</td>\n",
              "      <td>1</td>\n",
              "    </tr>\n",
              "  </tbody>\n",
              "</table>\n",
              "</div>\n",
              "      <button class=\"colab-df-convert\" onclick=\"convertToInteractive('df-dfc08cb4-53f1-4754-8c79-a14210221bb5')\"\n",
              "              title=\"Convert this dataframe to an interactive table.\"\n",
              "              style=\"display:none;\">\n",
              "        \n",
              "  <svg xmlns=\"http://www.w3.org/2000/svg\" height=\"24px\"viewBox=\"0 0 24 24\"\n",
              "       width=\"24px\">\n",
              "    <path d=\"M0 0h24v24H0V0z\" fill=\"none\"/>\n",
              "    <path d=\"M18.56 5.44l.94 2.06.94-2.06 2.06-.94-2.06-.94-.94-2.06-.94 2.06-2.06.94zm-11 1L8.5 8.5l.94-2.06 2.06-.94-2.06-.94L8.5 2.5l-.94 2.06-2.06.94zm10 10l.94 2.06.94-2.06 2.06-.94-2.06-.94-.94-2.06-.94 2.06-2.06.94z\"/><path d=\"M17.41 7.96l-1.37-1.37c-.4-.4-.92-.59-1.43-.59-.52 0-1.04.2-1.43.59L10.3 9.45l-7.72 7.72c-.78.78-.78 2.05 0 2.83L4 21.41c.39.39.9.59 1.41.59.51 0 1.02-.2 1.41-.59l7.78-7.78 2.81-2.81c.8-.78.8-2.07 0-2.86zM5.41 20L4 18.59l7.72-7.72 1.47 1.35L5.41 20z\"/>\n",
              "  </svg>\n",
              "      </button>\n",
              "      \n",
              "  <style>\n",
              "    .colab-df-container {\n",
              "      display:flex;\n",
              "      flex-wrap:wrap;\n",
              "      gap: 12px;\n",
              "    }\n",
              "\n",
              "    .colab-df-convert {\n",
              "      background-color: #E8F0FE;\n",
              "      border: none;\n",
              "      border-radius: 50%;\n",
              "      cursor: pointer;\n",
              "      display: none;\n",
              "      fill: #1967D2;\n",
              "      height: 32px;\n",
              "      padding: 0 0 0 0;\n",
              "      width: 32px;\n",
              "    }\n",
              "\n",
              "    .colab-df-convert:hover {\n",
              "      background-color: #E2EBFA;\n",
              "      box-shadow: 0px 1px 2px rgba(60, 64, 67, 0.3), 0px 1px 3px 1px rgba(60, 64, 67, 0.15);\n",
              "      fill: #174EA6;\n",
              "    }\n",
              "\n",
              "    [theme=dark] .colab-df-convert {\n",
              "      background-color: #3B4455;\n",
              "      fill: #D2E3FC;\n",
              "    }\n",
              "\n",
              "    [theme=dark] .colab-df-convert:hover {\n",
              "      background-color: #434B5C;\n",
              "      box-shadow: 0px 1px 3px 1px rgba(0, 0, 0, 0.15);\n",
              "      filter: drop-shadow(0px 1px 2px rgba(0, 0, 0, 0.3));\n",
              "      fill: #FFFFFF;\n",
              "    }\n",
              "  </style>\n",
              "\n",
              "      <script>\n",
              "        const buttonEl =\n",
              "          document.querySelector('#df-dfc08cb4-53f1-4754-8c79-a14210221bb5 button.colab-df-convert');\n",
              "        buttonEl.style.display =\n",
              "          google.colab.kernel.accessAllowed ? 'block' : 'none';\n",
              "\n",
              "        async function convertToInteractive(key) {\n",
              "          const element = document.querySelector('#df-dfc08cb4-53f1-4754-8c79-a14210221bb5');\n",
              "          const dataTable =\n",
              "            await google.colab.kernel.invokeFunction('convertToInteractive',\n",
              "                                                     [key], {});\n",
              "          if (!dataTable) return;\n",
              "\n",
              "          const docLinkHtml = 'Like what you see? Visit the ' +\n",
              "            '<a target=\"_blank\" href=https://colab.research.google.com/notebooks/data_table.ipynb>data table notebook</a>'\n",
              "            + ' to learn more about interactive tables.';\n",
              "          element.innerHTML = '';\n",
              "          dataTable['output_type'] = 'display_data';\n",
              "          await google.colab.output.renderOutput(dataTable, element);\n",
              "          const docLink = document.createElement('div');\n",
              "          docLink.innerHTML = docLinkHtml;\n",
              "          element.appendChild(docLink);\n",
              "        }\n",
              "      </script>\n",
              "    </div>\n",
              "  </div>\n",
              "  "
            ]
          },
          "metadata": {},
          "execution_count": 32
        }
      ]
    },
    {
      "cell_type": "markdown",
      "source": [
        "For test set"
      ],
      "metadata": {
        "id": "plInby53W2_u"
      }
    },
    {
      "cell_type": "code",
      "source": [
        "for name in label_features:\n",
        "  test_data[name] = label_encoder.fit_transform(test_data[name]) \n",
        "\n",
        "test_data.head()"
      ],
      "metadata": {
        "id": "twSbnBQbW4qS",
        "colab": {
          "base_uri": "https://localhost:8080/",
          "height": 206
        },
        "outputId": "1f0d4f35-a4d2-4c27-e37c-367fe1ea284e"
      },
      "execution_count": 33,
      "outputs": [
        {
          "output_type": "execute_result",
          "data": {
            "text/plain": [
              "   Pclass  Sex   Age  SibSp  Parch     Fare  Embarked_C  Embarked_Q  \\\n",
              "0       2    1  34.5      0      0   7.8292           0           1   \n",
              "1       2    0  47.0      1      0   7.0000           0           0   \n",
              "2       1    1  62.0      0      0   9.6875           0           1   \n",
              "3       2    1  27.0      0      0   8.6625           0           0   \n",
              "4       2    0  22.0      1      1  12.2875           0           0   \n",
              "\n",
              "   Embarked_S  \n",
              "0           0  \n",
              "1           1  \n",
              "2           0  \n",
              "3           1  \n",
              "4           1  "
            ],
            "text/html": [
              "\n",
              "  <div id=\"df-dc45c4e9-b4ef-4a5f-8b4c-847dc243b464\">\n",
              "    <div class=\"colab-df-container\">\n",
              "      <div>\n",
              "<style scoped>\n",
              "    .dataframe tbody tr th:only-of-type {\n",
              "        vertical-align: middle;\n",
              "    }\n",
              "\n",
              "    .dataframe tbody tr th {\n",
              "        vertical-align: top;\n",
              "    }\n",
              "\n",
              "    .dataframe thead th {\n",
              "        text-align: right;\n",
              "    }\n",
              "</style>\n",
              "<table border=\"1\" class=\"dataframe\">\n",
              "  <thead>\n",
              "    <tr style=\"text-align: right;\">\n",
              "      <th></th>\n",
              "      <th>Pclass</th>\n",
              "      <th>Sex</th>\n",
              "      <th>Age</th>\n",
              "      <th>SibSp</th>\n",
              "      <th>Parch</th>\n",
              "      <th>Fare</th>\n",
              "      <th>Embarked_C</th>\n",
              "      <th>Embarked_Q</th>\n",
              "      <th>Embarked_S</th>\n",
              "    </tr>\n",
              "  </thead>\n",
              "  <tbody>\n",
              "    <tr>\n",
              "      <th>0</th>\n",
              "      <td>2</td>\n",
              "      <td>1</td>\n",
              "      <td>34.5</td>\n",
              "      <td>0</td>\n",
              "      <td>0</td>\n",
              "      <td>7.8292</td>\n",
              "      <td>0</td>\n",
              "      <td>1</td>\n",
              "      <td>0</td>\n",
              "    </tr>\n",
              "    <tr>\n",
              "      <th>1</th>\n",
              "      <td>2</td>\n",
              "      <td>0</td>\n",
              "      <td>47.0</td>\n",
              "      <td>1</td>\n",
              "      <td>0</td>\n",
              "      <td>7.0000</td>\n",
              "      <td>0</td>\n",
              "      <td>0</td>\n",
              "      <td>1</td>\n",
              "    </tr>\n",
              "    <tr>\n",
              "      <th>2</th>\n",
              "      <td>1</td>\n",
              "      <td>1</td>\n",
              "      <td>62.0</td>\n",
              "      <td>0</td>\n",
              "      <td>0</td>\n",
              "      <td>9.6875</td>\n",
              "      <td>0</td>\n",
              "      <td>1</td>\n",
              "      <td>0</td>\n",
              "    </tr>\n",
              "    <tr>\n",
              "      <th>3</th>\n",
              "      <td>2</td>\n",
              "      <td>1</td>\n",
              "      <td>27.0</td>\n",
              "      <td>0</td>\n",
              "      <td>0</td>\n",
              "      <td>8.6625</td>\n",
              "      <td>0</td>\n",
              "      <td>0</td>\n",
              "      <td>1</td>\n",
              "    </tr>\n",
              "    <tr>\n",
              "      <th>4</th>\n",
              "      <td>2</td>\n",
              "      <td>0</td>\n",
              "      <td>22.0</td>\n",
              "      <td>1</td>\n",
              "      <td>1</td>\n",
              "      <td>12.2875</td>\n",
              "      <td>0</td>\n",
              "      <td>0</td>\n",
              "      <td>1</td>\n",
              "    </tr>\n",
              "  </tbody>\n",
              "</table>\n",
              "</div>\n",
              "      <button class=\"colab-df-convert\" onclick=\"convertToInteractive('df-dc45c4e9-b4ef-4a5f-8b4c-847dc243b464')\"\n",
              "              title=\"Convert this dataframe to an interactive table.\"\n",
              "              style=\"display:none;\">\n",
              "        \n",
              "  <svg xmlns=\"http://www.w3.org/2000/svg\" height=\"24px\"viewBox=\"0 0 24 24\"\n",
              "       width=\"24px\">\n",
              "    <path d=\"M0 0h24v24H0V0z\" fill=\"none\"/>\n",
              "    <path d=\"M18.56 5.44l.94 2.06.94-2.06 2.06-.94-2.06-.94-.94-2.06-.94 2.06-2.06.94zm-11 1L8.5 8.5l.94-2.06 2.06-.94-2.06-.94L8.5 2.5l-.94 2.06-2.06.94zm10 10l.94 2.06.94-2.06 2.06-.94-2.06-.94-.94-2.06-.94 2.06-2.06.94z\"/><path d=\"M17.41 7.96l-1.37-1.37c-.4-.4-.92-.59-1.43-.59-.52 0-1.04.2-1.43.59L10.3 9.45l-7.72 7.72c-.78.78-.78 2.05 0 2.83L4 21.41c.39.39.9.59 1.41.59.51 0 1.02-.2 1.41-.59l7.78-7.78 2.81-2.81c.8-.78.8-2.07 0-2.86zM5.41 20L4 18.59l7.72-7.72 1.47 1.35L5.41 20z\"/>\n",
              "  </svg>\n",
              "      </button>\n",
              "      \n",
              "  <style>\n",
              "    .colab-df-container {\n",
              "      display:flex;\n",
              "      flex-wrap:wrap;\n",
              "      gap: 12px;\n",
              "    }\n",
              "\n",
              "    .colab-df-convert {\n",
              "      background-color: #E8F0FE;\n",
              "      border: none;\n",
              "      border-radius: 50%;\n",
              "      cursor: pointer;\n",
              "      display: none;\n",
              "      fill: #1967D2;\n",
              "      height: 32px;\n",
              "      padding: 0 0 0 0;\n",
              "      width: 32px;\n",
              "    }\n",
              "\n",
              "    .colab-df-convert:hover {\n",
              "      background-color: #E2EBFA;\n",
              "      box-shadow: 0px 1px 2px rgba(60, 64, 67, 0.3), 0px 1px 3px 1px rgba(60, 64, 67, 0.15);\n",
              "      fill: #174EA6;\n",
              "    }\n",
              "\n",
              "    [theme=dark] .colab-df-convert {\n",
              "      background-color: #3B4455;\n",
              "      fill: #D2E3FC;\n",
              "    }\n",
              "\n",
              "    [theme=dark] .colab-df-convert:hover {\n",
              "      background-color: #434B5C;\n",
              "      box-shadow: 0px 1px 3px 1px rgba(0, 0, 0, 0.15);\n",
              "      filter: drop-shadow(0px 1px 2px rgba(0, 0, 0, 0.3));\n",
              "      fill: #FFFFFF;\n",
              "    }\n",
              "  </style>\n",
              "\n",
              "      <script>\n",
              "        const buttonEl =\n",
              "          document.querySelector('#df-dc45c4e9-b4ef-4a5f-8b4c-847dc243b464 button.colab-df-convert');\n",
              "        buttonEl.style.display =\n",
              "          google.colab.kernel.accessAllowed ? 'block' : 'none';\n",
              "\n",
              "        async function convertToInteractive(key) {\n",
              "          const element = document.querySelector('#df-dc45c4e9-b4ef-4a5f-8b4c-847dc243b464');\n",
              "          const dataTable =\n",
              "            await google.colab.kernel.invokeFunction('convertToInteractive',\n",
              "                                                     [key], {});\n",
              "          if (!dataTable) return;\n",
              "\n",
              "          const docLinkHtml = 'Like what you see? Visit the ' +\n",
              "            '<a target=\"_blank\" href=https://colab.research.google.com/notebooks/data_table.ipynb>data table notebook</a>'\n",
              "            + ' to learn more about interactive tables.';\n",
              "          element.innerHTML = '';\n",
              "          dataTable['output_type'] = 'display_data';\n",
              "          await google.colab.output.renderOutput(dataTable, element);\n",
              "          const docLink = document.createElement('div');\n",
              "          docLink.innerHTML = docLinkHtml;\n",
              "          element.appendChild(docLink);\n",
              "        }\n",
              "      </script>\n",
              "    </div>\n",
              "  </div>\n",
              "  "
            ]
          },
          "metadata": {},
          "execution_count": 33
        }
      ]
    },
    {
      "cell_type": "markdown",
      "source": [
        "## step 9 : split train data"
      ],
      "metadata": {
        "id": "H1-b27N0HO2J"
      }
    },
    {
      "cell_type": "markdown",
      "source": [
        "\n",
        "\n",
        "---\n",
        "\n",
        "\n",
        "The goal of splitting data is to generate 3 partition for the purpose of model development. The partition consist of:\n",
        "\n",
        "*   Train set : used to train the model\n",
        "*   Validation set : used to validate the trained model\n",
        "*   Test set : used to test the final model\n",
        "\n",
        "\n",
        "\n",
        "---\n",
        "\n",
        "To split the data, </br>\n",
        "1. If you have **a single file**, then: \n",
        "  *   First, split into 2 partition : (a) ~70% for **train** and (b) ~30% for **test**.\n",
        "  *   Second, takes the **train set** from the previous splitted partition and split it again into another 2 partition with the same ratio : (a) ~70% for **train** and (b) ~30% for **validation**.\n",
        "\n",
        "2. If you have **two files** (train, test), then:\n",
        "  * Split the **train set** into 2 partition : (a) ~70% for **train** and (b) ~30% for **test**.\n",
        "  \n",
        "3. If you have **three files** (train, val, test), then:\n",
        "  * You are good to go.\n",
        "\n"
      ],
      "metadata": {
        "id": "OxhjMgWjO_pq"
      }
    },
    {
      "cell_type": "code",
      "source": [
        "from sklearn.model_selection import train_test_split as data_splitter\n",
        "\n",
        "train_data, val_data = data_splitter(train_data, \n",
        "                                    test_size = 0.2,\n",
        "                                    random_state = 42)"
      ],
      "metadata": {
        "id": "WzxJWRFCa-X2"
      },
      "execution_count": 34,
      "outputs": []
    },
    {
      "cell_type": "code",
      "source": [
        "print(f\"len(train_data) = {len(train_data)}\")\n",
        "print(f\"len(val_data) = {len(val_data)}\")\n",
        "print(f\"len(test_data) = {len(test_data)}\")"
      ],
      "metadata": {
        "colab": {
          "base_uri": "https://localhost:8080/"
        },
        "id": "t8nG98HI-WLu",
        "outputId": "bd8c6112-bce3-4b55-a5ea-42c45ff8a67b"
      },
      "execution_count": 35,
      "outputs": [
        {
          "output_type": "stream",
          "name": "stdout",
          "text": [
            "len(train_data) = 712\n",
            "len(val_data) = 179\n",
            "len(test_data) = 418\n"
          ]
        }
      ]
    },
    {
      "cell_type": "markdown",
      "source": [
        "## step 11 : features visualization"
      ],
      "metadata": {
        "id": "3b9KtFYBOyoo"
      }
    },
    {
      "cell_type": "markdown",
      "source": [
        "### step 11.1 : identify outliers\n"
      ],
      "metadata": {
        "id": "5pNGIoMJHbtn"
      }
    },
    {
      "cell_type": "markdown",
      "source": [
        "#### option 1 : visualize outlier with boxplot"
      ],
      "metadata": {
        "id": "_d0mznV6NCsh"
      }
    },
    {
      "cell_type": "code",
      "source": [
        "# Check for outliers\n",
        "var=np.arange(1,len(train_data.columns)+1)\n",
        "\n",
        "plt.figure(figsize = (20, 15))\n",
        "for i in var:\n",
        "    # plt.subplot(arg1, arg2) :\n",
        "    # arg1 = the number of plots in each row\n",
        "    # arg2 = the number of plots per column\n",
        "    plt.subplot(2,15,i)\n",
        "    plt.boxplot(train_data.iloc[:,(i-1)])\n",
        "    plt.title(train_data.columns[i-1])"
      ],
      "metadata": {
        "colab": {
          "base_uri": "https://localhost:8080/",
          "height": 435
        },
        "id": "HzN59eY8h544",
        "outputId": "a0ce8f6a-4186-4199-d0b5-2fce53709104"
      },
      "execution_count": 36,
      "outputs": [
        {
          "output_type": "display_data",
          "data": {
            "text/plain": [
              "<Figure size 1440x1080 with 10 Axes>"
            ],
            "image/png": "[encoded data removed]"
          },
          "metadata": {
            "needs_background": "light"
          }
        }
      ]
    },
    {
      "cell_type": "markdown",
      "source": [
        "#### option 2 : identify outlier numerically using IQR (InterQuartile Range)"
      ],
      "metadata": {
        "id": "MlaiV7sK-KhS"
      }
    },
    {
      "cell_type": "markdown",
      "source": [
        "![outlier_with_iqr.png](data:image/png;base64,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)"
      ],
      "metadata": {
        "id": "Vd9JSQ4V5yjR"
      }
    },
    {
      "cell_type": "code",
      "source": [
        "_, zero_outliers_features = identify_or_extract_outlier_indices_with_iqr(train_data, extract_zero_outliers = True)  "
      ],
      "metadata": {
        "id": "HwBgXWry-JxK",
        "colab": {
          "base_uri": "https://localhost:8080/"
        },
        "outputId": "0b3597f2-8d94-42d3-df33-907592f19a03"
      },
      "execution_count": 37,
      "outputs": [
        {
          "output_type": "stream",
          "name": "stdout",
          "text": [
            "> feature [Survived] has `0` outliers\n",
            "> feature [Pclass] has `0` outliers\n",
            "> feature [Sex] has `0` outliers\n",
            "> feature [Age] has `0` outliers\n",
            "> feature [SibSp] has `41` outliers\n",
            "> feature [Parch] has `171` outliers\n",
            "> feature [Fare] has `96` outliers\n",
            "> feature [Embarked_C] has `125` outliers\n",
            "> feature [Embarked_Q] has `60` outliers\n",
            "> feature [Embarked_S] has `0` outliers\n",
            "\n",
            "Total outlier samples = 345\n"
          ]
        }
      ]
    },
    {
      "cell_type": "code",
      "source": [
        "## we will normalize the features that doesn't contain outlier\n",
        "print(zero_outliers_features) "
      ],
      "metadata": {
        "colab": {
          "base_uri": "https://localhost:8080/"
        },
        "id": "gpwBWScF0nOJ",
        "outputId": "a4535354-f2c5-4674-caba-1ff6e1868b78"
      },
      "execution_count": 38,
      "outputs": [
        {
          "output_type": "stream",
          "name": "stdout",
          "text": [
            "['Survived', 'Pclass', 'Sex', 'Age', 'Embarked_S']\n"
          ]
        }
      ]
    },
    {
      "cell_type": "markdown",
      "source": [
        "### step 11.2 : normalize data (optional)\n",
        "\n",
        "> Why we perform normalization in this step. This because according to this [reference](https://www.geeksforgeeks.org/normalization-vs-standardization/), normalization is useful when there are no outliers as it cannot cope up with them. That is why we decide to normalize after the outliers are identified.\n",
        "\n",
        "\n",
        "*Also it is important to note that, data normalization or standardization step has to be performed after the process of data splitting. This is to prevent information leaking between each data partition.*\n"
      ],
      "metadata": {
        "id": "tD22chBjuCs6"
      }
    },
    {
      "cell_type": "code",
      "source": [
        "from sklearn.preprocessing import MinMaxScaler\n",
        "cols_to_norm = ['Age','Fare']"
      ],
      "metadata": {
        "id": "2vZPEJJYuAHb"
      },
      "execution_count": 39,
      "outputs": []
    },
    {
      "cell_type": "markdown",
      "source": [
        "**for train data**"
      ],
      "metadata": {
        "id": "DkGUYaadv61o"
      }
    },
    {
      "cell_type": "code",
      "source": [
        "train_data[cols_to_norm] = MinMaxScaler().fit_transform(train_data[cols_to_norm])"
      ],
      "metadata": {
        "id": "ghiCvxmIv6fG"
      },
      "execution_count": 40,
      "outputs": []
    },
    {
      "cell_type": "code",
      "source": [
        "train_data.head()"
      ],
      "metadata": {
        "id": "DafgLyFYwGM8",
        "colab": {
          "base_uri": "https://localhost:8080/",
          "height": 206
        },
        "outputId": "9a8a6383-cdfa-4762-d9f3-876588598ce2"
      },
      "execution_count": 41,
      "outputs": [
        {
          "output_type": "execute_result",
          "data": {
            "text/plain": [
              "     Survived  Pclass  Sex       Age  SibSp  Parch      Fare  Embarked_C  \\\n",
              "331         0       0    1  0.566474      0      0  0.055628           0   \n",
              "733         0       1    1  0.283740      0      0  0.025374           0   \n",
              "382         0       2    1  0.396833      0      0  0.015469           0   \n",
              "704         0       2    1  0.321438      1      0  0.015330           0   \n",
              "813         0       2    0  0.070118      4      2  0.061045           0   \n",
              "\n",
              "     Embarked_Q  Embarked_S  \n",
              "331           0           1  \n",
              "733           0           1  \n",
              "382           0           1  \n",
              "704           0           1  \n",
              "813           0           1  "
            ],
            "text/html": [
              "\n",
              "  <div id=\"df-7725a7dd-1319-41d7-bc65-9fa6481dcd60\">\n",
              "    <div class=\"colab-df-container\">\n",
              "      <div>\n",
              "<style scoped>\n",
              "    .dataframe tbody tr th:only-of-type {\n",
              "        vertical-align: middle;\n",
              "    }\n",
              "\n",
              "    .dataframe tbody tr th {\n",
              "        vertical-align: top;\n",
              "    }\n",
              "\n",
              "    .dataframe thead th {\n",
              "        text-align: right;\n",
              "    }\n",
              "</style>\n",
              "<table border=\"1\" class=\"dataframe\">\n",
              "  <thead>\n",
              "    <tr style=\"text-align: right;\">\n",
              "      <th></th>\n",
              "      <th>Survived</th>\n",
              "      <th>Pclass</th>\n",
              "      <th>Sex</th>\n",
              "      <th>Age</th>\n",
              "      <th>SibSp</th>\n",
              "      <th>Parch</th>\n",
              "      <th>Fare</th>\n",
              "      <th>Embarked_C</th>\n",
              "      <th>Embarked_Q</th>\n",
              "      <th>Embarked_S</th>\n",
              "    </tr>\n",
              "  </thead>\n",
              "  <tbody>\n",
              "    <tr>\n",
              "      <th>331</th>\n",
              "      <td>0</td>\n",
              "      <td>0</td>\n",
              "      <td>1</td>\n",
              "      <td>0.566474</td>\n",
              "      <td>0</td>\n",
              "      <td>0</td>\n",
              "      <td>0.055628</td>\n",
              "      <td>0</td>\n",
              "      <td>0</td>\n",
              "      <td>1</td>\n",
              "    </tr>\n",
              "    <tr>\n",
              "      <th>733</th>\n",
              "      <td>0</td>\n",
              "      <td>1</td>\n",
              "      <td>1</td>\n",
              "      <td>0.283740</td>\n",
              "      <td>0</td>\n",
              "      <td>0</td>\n",
              "      <td>0.025374</td>\n",
              "      <td>0</td>\n",
              "      <td>0</td>\n",
              "      <td>1</td>\n",
              "    </tr>\n",
              "    <tr>\n",
              "      <th>382</th>\n",
              "      <td>0</td>\n",
              "      <td>2</td>\n",
              "      <td>1</td>\n",
              "      <td>0.396833</td>\n",
              "      <td>0</td>\n",
              "      <td>0</td>\n",
              "      <td>0.015469</td>\n",
              "      <td>0</td>\n",
              "      <td>0</td>\n",
              "      <td>1</td>\n",
              "    </tr>\n",
              "    <tr>\n",
              "      <th>704</th>\n",
              "      <td>0</td>\n",
              "      <td>2</td>\n",
              "      <td>1</td>\n",
              "      <td>0.321438</td>\n",
              "      <td>1</td>\n",
              "      <td>0</td>\n",
              "      <td>0.015330</td>\n",
              "      <td>0</td>\n",
              "      <td>0</td>\n",
              "      <td>1</td>\n",
              "    </tr>\n",
              "    <tr>\n",
              "      <th>813</th>\n",
              "      <td>0</td>\n",
              "      <td>2</td>\n",
              "      <td>0</td>\n",
              "      <td>0.070118</td>\n",
              "      <td>4</td>\n",
              "      <td>2</td>\n",
              "      <td>0.061045</td>\n",
              "      <td>0</td>\n",
              "      <td>0</td>\n",
              "      <td>1</td>\n",
              "    </tr>\n",
              "  </tbody>\n",
              "</table>\n",
              "</div>\n",
              "      <button class=\"colab-df-convert\" onclick=\"convertToInteractive('df-7725a7dd-1319-41d7-bc65-9fa6481dcd60')\"\n",
              "              title=\"Convert this dataframe to an interactive table.\"\n",
              "              style=\"display:none;\">\n",
              "        \n",
              "  <svg xmlns=\"http://www.w3.org/2000/svg\" height=\"24px\"viewBox=\"0 0 24 24\"\n",
              "       width=\"24px\">\n",
              "    <path d=\"M0 0h24v24H0V0z\" fill=\"none\"/>\n",
              "    <path d=\"M18.56 5.44l.94 2.06.94-2.06 2.06-.94-2.06-.94-.94-2.06-.94 2.06-2.06.94zm-11 1L8.5 8.5l.94-2.06 2.06-.94-2.06-.94L8.5 2.5l-.94 2.06-2.06.94zm10 10l.94 2.06.94-2.06 2.06-.94-2.06-.94-.94-2.06-.94 2.06-2.06.94z\"/><path d=\"M17.41 7.96l-1.37-1.37c-.4-.4-.92-.59-1.43-.59-.52 0-1.04.2-1.43.59L10.3 9.45l-7.72 7.72c-.78.78-.78 2.05 0 2.83L4 21.41c.39.39.9.59 1.41.59.51 0 1.02-.2 1.41-.59l7.78-7.78 2.81-2.81c.8-.78.8-2.07 0-2.86zM5.41 20L4 18.59l7.72-7.72 1.47 1.35L5.41 20z\"/>\n",
              "  </svg>\n",
              "      </button>\n",
              "      \n",
              "  <style>\n",
              "    .colab-df-container {\n",
              "      display:flex;\n",
              "      flex-wrap:wrap;\n",
              "      gap: 12px;\n",
              "    }\n",
              "\n",
              "    .colab-df-convert {\n",
              "      background-color: #E8F0FE;\n",
              "      border: none;\n",
              "      border-radius: 50%;\n",
              "      cursor: pointer;\n",
              "      display: none;\n",
              "      fill: #1967D2;\n",
              "      height: 32px;\n",
              "      padding: 0 0 0 0;\n",
              "      width: 32px;\n",
              "    }\n",
              "\n",
              "    .colab-df-convert:hover {\n",
              "      background-color: #E2EBFA;\n",
              "      box-shadow: 0px 1px 2px rgba(60, 64, 67, 0.3), 0px 1px 3px 1px rgba(60, 64, 67, 0.15);\n",
              "      fill: #174EA6;\n",
              "    }\n",
              "\n",
              "    [theme=dark] .colab-df-convert {\n",
              "      background-color: #3B4455;\n",
              "      fill: #D2E3FC;\n",
              "    }\n",
              "\n",
              "    [theme=dark] .colab-df-convert:hover {\n",
              "      background-color: #434B5C;\n",
              "      box-shadow: 0px 1px 3px 1px rgba(0, 0, 0, 0.15);\n",
              "      filter: drop-shadow(0px 1px 2px rgba(0, 0, 0, 0.3));\n",
              "      fill: #FFFFFF;\n",
              "    }\n",
              "  </style>\n",
              "\n",
              "      <script>\n",
              "        const buttonEl =\n",
              "          document.querySelector('#df-7725a7dd-1319-41d7-bc65-9fa6481dcd60 button.colab-df-convert');\n",
              "        buttonEl.style.display =\n",
              "          google.colab.kernel.accessAllowed ? 'block' : 'none';\n",
              "\n",
              "        async function convertToInteractive(key) {\n",
              "          const element = document.querySelector('#df-7725a7dd-1319-41d7-bc65-9fa6481dcd60');\n",
              "          const dataTable =\n",
              "            await google.colab.kernel.invokeFunction('convertToInteractive',\n",
              "                                                     [key], {});\n",
              "          if (!dataTable) return;\n",
              "\n",
              "          const docLinkHtml = 'Like what you see? Visit the ' +\n",
              "            '<a target=\"_blank\" href=https://colab.research.google.com/notebooks/data_table.ipynb>data table notebook</a>'\n",
              "            + ' to learn more about interactive tables.';\n",
              "          element.innerHTML = '';\n",
              "          dataTable['output_type'] = 'display_data';\n",
              "          await google.colab.output.renderOutput(dataTable, element);\n",
              "          const docLink = document.createElement('div');\n",
              "          docLink.innerHTML = docLinkHtml;\n",
              "          element.appendChild(docLink);\n",
              "        }\n",
              "      </script>\n",
              "    </div>\n",
              "  </div>\n",
              "  "
            ]
          },
          "metadata": {},
          "execution_count": 41
        }
      ]
    },
    {
      "cell_type": "markdown",
      "source": [
        "**for validation data**"
      ],
      "metadata": {
        "id": "1G502-niwOeR"
      }
    },
    {
      "cell_type": "code",
      "source": [
        "val_data[cols_to_norm] = MinMaxScaler().fit_transform(val_data[cols_to_norm])"
      ],
      "metadata": {
        "id": "mGbN8zvCwNiL"
      },
      "execution_count": 42,
      "outputs": []
    },
    {
      "cell_type": "code",
      "source": [
        "val_data.head()"
      ],
      "metadata": {
        "id": "Iy3zuHhJwYZo",
        "colab": {
          "base_uri": "https://localhost:8080/",
          "height": 206
        },
        "outputId": "f4a92760-24b0-4e3b-cdec-5ab45517da6a"
      },
      "execution_count": 43,
      "outputs": [
        {
          "output_type": "execute_result",
          "data": {
            "text/plain": [
              "     Survived  Pclass  Sex       Age  SibSp  Parch      Fare  Embarked_C  \\\n",
              "709         1       2    1       NaN      1      1  0.058107           1   \n",
              "439         0       1    1  0.429956      0      0  0.040019           0   \n",
              "840         0       2    1  0.273194      0      0  0.030205           0   \n",
              "720         1       1    0  0.073678      0      1  0.125774           0   \n",
              "39          1       2    0  0.187687      1      0  0.042846           1   \n",
              "\n",
              "     Embarked_Q  Embarked_S  \n",
              "709           0           0  \n",
              "439           0           1  \n",
              "840           0           1  \n",
              "720           0           1  \n",
              "39            0           0  "
            ],
            "text/html": [
              "\n",
              "  <div id=\"df-581b6eb0-3eb4-41a3-9888-75b33fb66099\">\n",
              "    <div class=\"colab-df-container\">\n",
              "      <div>\n",
              "<style scoped>\n",
              "    .dataframe tbody tr th:only-of-type {\n",
              "        vertical-align: middle;\n",
              "    }\n",
              "\n",
              "    .dataframe tbody tr th {\n",
              "        vertical-align: top;\n",
              "    }\n",
              "\n",
              "    .dataframe thead th {\n",
              "        text-align: right;\n",
              "    }\n",
              "</style>\n",
              "<table border=\"1\" class=\"dataframe\">\n",
              "  <thead>\n",
              "    <tr style=\"text-align: right;\">\n",
              "      <th></th>\n",
              "      <th>Survived</th>\n",
              "      <th>Pclass</th>\n",
              "      <th>Sex</th>\n",
              "      <th>Age</th>\n",
              "      <th>SibSp</th>\n",
              "      <th>Parch</th>\n",
              "      <th>Fare</th>\n",
              "      <th>Embarked_C</th>\n",
              "      <th>Embarked_Q</th>\n",
              "      <th>Embarked_S</th>\n",
              "    </tr>\n",
              "  </thead>\n",
              "  <tbody>\n",
              "    <tr>\n",
              "      <th>709</th>\n",
              "      <td>1</td>\n",
              "      <td>2</td>\n",
              "      <td>1</td>\n",
              "      <td>NaN</td>\n",
              "      <td>1</td>\n",
              "      <td>1</td>\n",
              "      <td>0.058107</td>\n",
              "      <td>1</td>\n",
              "      <td>0</td>\n",
              "      <td>0</td>\n",
              "    </tr>\n",
              "    <tr>\n",
              "      <th>439</th>\n",
              "      <td>0</td>\n",
              "      <td>1</td>\n",
              "      <td>1</td>\n",
              "      <td>0.429956</td>\n",
              "      <td>0</td>\n",
              "      <td>0</td>\n",
              "      <td>0.040019</td>\n",
              "      <td>0</td>\n",
              "      <td>0</td>\n",
              "      <td>1</td>\n",
              "    </tr>\n",
              "    <tr>\n",
              "      <th>840</th>\n",
              "      <td>0</td>\n",
              "      <td>2</td>\n",
              "      <td>1</td>\n",
              "      <td>0.273194</td>\n",
              "      <td>0</td>\n",
              "      <td>0</td>\n",
              "      <td>0.030205</td>\n",
              "      <td>0</td>\n",
              "      <td>0</td>\n",
              "      <td>1</td>\n",
              "    </tr>\n",
              "    <tr>\n",
              "      <th>720</th>\n",
              "      <td>1</td>\n",
              "      <td>1</td>\n",
              "      <td>0</td>\n",
              "      <td>0.073678</td>\n",
              "      <td>0</td>\n",
              "      <td>1</td>\n",
              "      <td>0.125774</td>\n",
              "      <td>0</td>\n",
              "      <td>0</td>\n",
              "      <td>1</td>\n",
              "    </tr>\n",
              "    <tr>\n",
              "      <th>39</th>\n",
              "      <td>1</td>\n",
              "      <td>2</td>\n",
              "      <td>0</td>\n",
              "      <td>0.187687</td>\n",
              "      <td>1</td>\n",
              "      <td>0</td>\n",
              "      <td>0.042846</td>\n",
              "      <td>1</td>\n",
              "      <td>0</td>\n",
              "      <td>0</td>\n",
              "    </tr>\n",
              "  </tbody>\n",
              "</table>\n",
              "</div>\n",
              "      <button class=\"colab-df-convert\" onclick=\"convertToInteractive('df-581b6eb0-3eb4-41a3-9888-75b33fb66099')\"\n",
              "              title=\"Convert this dataframe to an interactive table.\"\n",
              "              style=\"display:none;\">\n",
              "        \n",
              "  <svg xmlns=\"http://www.w3.org/2000/svg\" height=\"24px\"viewBox=\"0 0 24 24\"\n",
              "       width=\"24px\">\n",
              "    <path d=\"M0 0h24v24H0V0z\" fill=\"none\"/>\n",
              "    <path d=\"M18.56 5.44l.94 2.06.94-2.06 2.06-.94-2.06-.94-.94-2.06-.94 2.06-2.06.94zm-11 1L8.5 8.5l.94-2.06 2.06-.94-2.06-.94L8.5 2.5l-.94 2.06-2.06.94zm10 10l.94 2.06.94-2.06 2.06-.94-2.06-.94-.94-2.06-.94 2.06-2.06.94z\"/><path d=\"M17.41 7.96l-1.37-1.37c-.4-.4-.92-.59-1.43-.59-.52 0-1.04.2-1.43.59L10.3 9.45l-7.72 7.72c-.78.78-.78 2.05 0 2.83L4 21.41c.39.39.9.59 1.41.59.51 0 1.02-.2 1.41-.59l7.78-7.78 2.81-2.81c.8-.78.8-2.07 0-2.86zM5.41 20L4 18.59l7.72-7.72 1.47 1.35L5.41 20z\"/>\n",
              "  </svg>\n",
              "      </button>\n",
              "      \n",
              "  <style>\n",
              "    .colab-df-container {\n",
              "      display:flex;\n",
              "      flex-wrap:wrap;\n",
              "      gap: 12px;\n",
              "    }\n",
              "\n",
              "    .colab-df-convert {\n",
              "      background-color: #E8F0FE;\n",
              "      border: none;\n",
              "      border-radius: 50%;\n",
              "      cursor: pointer;\n",
              "      display: none;\n",
              "      fill: #1967D2;\n",
              "      height: 32px;\n",
              "      padding: 0 0 0 0;\n",
              "      width: 32px;\n",
              "    }\n",
              "\n",
              "    .colab-df-convert:hover {\n",
              "      background-color: #E2EBFA;\n",
              "      box-shadow: 0px 1px 2px rgba(60, 64, 67, 0.3), 0px 1px 3px 1px rgba(60, 64, 67, 0.15);\n",
              "      fill: #174EA6;\n",
              "    }\n",
              "\n",
              "    [theme=dark] .colab-df-convert {\n",
              "      background-color: #3B4455;\n",
              "      fill: #D2E3FC;\n",
              "    }\n",
              "\n",
              "    [theme=dark] .colab-df-convert:hover {\n",
              "      background-color: #434B5C;\n",
              "      box-shadow: 0px 1px 3px 1px rgba(0, 0, 0, 0.15);\n",
              "      filter: drop-shadow(0px 1px 2px rgba(0, 0, 0, 0.3));\n",
              "      fill: #FFFFFF;\n",
              "    }\n",
              "  </style>\n",
              "\n",
              "      <script>\n",
              "        const buttonEl =\n",
              "          document.querySelector('#df-581b6eb0-3eb4-41a3-9888-75b33fb66099 button.colab-df-convert');\n",
              "        buttonEl.style.display =\n",
              "          google.colab.kernel.accessAllowed ? 'block' : 'none';\n",
              "\n",
              "        async function convertToInteractive(key) {\n",
              "          const element = document.querySelector('#df-581b6eb0-3eb4-41a3-9888-75b33fb66099');\n",
              "          const dataTable =\n",
              "            await google.colab.kernel.invokeFunction('convertToInteractive',\n",
              "                                                     [key], {});\n",
              "          if (!dataTable) return;\n",
              "\n",
              "          const docLinkHtml = 'Like what you see? Visit the ' +\n",
              "            '<a target=\"_blank\" href=https://colab.research.google.com/notebooks/data_table.ipynb>data table notebook</a>'\n",
              "            + ' to learn more about interactive tables.';\n",
              "          element.innerHTML = '';\n",
              "          dataTable['output_type'] = 'display_data';\n",
              "          await google.colab.output.renderOutput(dataTable, element);\n",
              "          const docLink = document.createElement('div');\n",
              "          docLink.innerHTML = docLinkHtml;\n",
              "          element.appendChild(docLink);\n",
              "        }\n",
              "      </script>\n",
              "    </div>\n",
              "  </div>\n",
              "  "
            ]
          },
          "metadata": {},
          "execution_count": 43
        }
      ]
    },
    {
      "cell_type": "markdown",
      "source": [
        "**for test data**"
      ],
      "metadata": {
        "id": "PMTxEKxiwSAw"
      }
    },
    {
      "cell_type": "code",
      "source": [
        "test_data[cols_to_norm] = MinMaxScaler().fit_transform(test_data[cols_to_norm])"
      ],
      "metadata": {
        "id": "AAqB5_qSwTZP"
      },
      "execution_count": 44,
      "outputs": []
    },
    {
      "cell_type": "code",
      "source": [
        "test_data.head()"
      ],
      "metadata": {
        "id": "f2fKw87BwbaW",
        "colab": {
          "base_uri": "https://localhost:8080/",
          "height": 206
        },
        "outputId": "0d7c221b-17d8-4691-e0f6-e48d37e30957"
      },
      "execution_count": 45,
      "outputs": [
        {
          "output_type": "execute_result",
          "data": {
            "text/plain": [
              "   Pclass  Sex       Age  SibSp  Parch      Fare  Embarked_C  Embarked_Q  \\\n",
              "0       2    1  0.452723      0      0  0.015282           0           1   \n",
              "1       2    0  0.617566      1      0  0.013663           0           0   \n",
              "2       1    1  0.815377      0      0  0.018909           0           1   \n",
              "3       2    1  0.353818      0      0  0.016908           0           0   \n",
              "4       2    0  0.287881      1      1  0.023984           0           0   \n",
              "\n",
              "   Embarked_S  \n",
              "0           0  \n",
              "1           1  \n",
              "2           0  \n",
              "3           1  \n",
              "4           1  "
            ],
            "text/html": [
              "\n",
              "  <div id=\"df-d43bad48-c7ee-42e0-b6ee-2a87cd04803e\">\n",
              "    <div class=\"colab-df-container\">\n",
              "      <div>\n",
              "<style scoped>\n",
              "    .dataframe tbody tr th:only-of-type {\n",
              "        vertical-align: middle;\n",
              "    }\n",
              "\n",
              "    .dataframe tbody tr th {\n",
              "        vertical-align: top;\n",
              "    }\n",
              "\n",
              "    .dataframe thead th {\n",
              "        text-align: right;\n",
              "    }\n",
              "</style>\n",
              "<table border=\"1\" class=\"dataframe\">\n",
              "  <thead>\n",
              "    <tr style=\"text-align: right;\">\n",
              "      <th></th>\n",
              "      <th>Pclass</th>\n",
              "      <th>Sex</th>\n",
              "      <th>Age</th>\n",
              "      <th>SibSp</th>\n",
              "      <th>Parch</th>\n",
              "      <th>Fare</th>\n",
              "      <th>Embarked_C</th>\n",
              "      <th>Embarked_Q</th>\n",
              "      <th>Embarked_S</th>\n",
              "    </tr>\n",
              "  </thead>\n",
              "  <tbody>\n",
              "    <tr>\n",
              "      <th>0</th>\n",
              "      <td>2</td>\n",
              "      <td>1</td>\n",
              "      <td>0.452723</td>\n",
              "      <td>0</td>\n",
              "      <td>0</td>\n",
              "      <td>0.015282</td>\n",
              "      <td>0</td>\n",
              "      <td>1</td>\n",
              "      <td>0</td>\n",
              "    </tr>\n",
              "    <tr>\n",
              "      <th>1</th>\n",
              "      <td>2</td>\n",
              "      <td>0</td>\n",
              "      <td>0.617566</td>\n",
              "      <td>1</td>\n",
              "      <td>0</td>\n",
              "      <td>0.013663</td>\n",
              "      <td>0</td>\n",
              "      <td>0</td>\n",
              "      <td>1</td>\n",
              "    </tr>\n",
              "    <tr>\n",
              "      <th>2</th>\n",
              "      <td>1</td>\n",
              "      <td>1</td>\n",
              "      <td>0.815377</td>\n",
              "      <td>0</td>\n",
              "      <td>0</td>\n",
              "      <td>0.018909</td>\n",
              "      <td>0</td>\n",
              "      <td>1</td>\n",
              "      <td>0</td>\n",
              "    </tr>\n",
              "    <tr>\n",
              "      <th>3</th>\n",
              "      <td>2</td>\n",
              "      <td>1</td>\n",
              "      <td>0.353818</td>\n",
              "      <td>0</td>\n",
              "      <td>0</td>\n",
              "      <td>0.016908</td>\n",
              "      <td>0</td>\n",
              "      <td>0</td>\n",
              "      <td>1</td>\n",
              "    </tr>\n",
              "    <tr>\n",
              "      <th>4</th>\n",
              "      <td>2</td>\n",
              "      <td>0</td>\n",
              "      <td>0.287881</td>\n",
              "      <td>1</td>\n",
              "      <td>1</td>\n",
              "      <td>0.023984</td>\n",
              "      <td>0</td>\n",
              "      <td>0</td>\n",
              "      <td>1</td>\n",
              "    </tr>\n",
              "  </tbody>\n",
              "</table>\n",
              "</div>\n",
              "      <button class=\"colab-df-convert\" onclick=\"convertToInteractive('df-d43bad48-c7ee-42e0-b6ee-2a87cd04803e')\"\n",
              "              title=\"Convert this dataframe to an interactive table.\"\n",
              "              style=\"display:none;\">\n",
              "        \n",
              "  <svg xmlns=\"http://www.w3.org/2000/svg\" height=\"24px\"viewBox=\"0 0 24 24\"\n",
              "       width=\"24px\">\n",
              "    <path d=\"M0 0h24v24H0V0z\" fill=\"none\"/>\n",
              "    <path d=\"M18.56 5.44l.94 2.06.94-2.06 2.06-.94-2.06-.94-.94-2.06-.94 2.06-2.06.94zm-11 1L8.5 8.5l.94-2.06 2.06-.94-2.06-.94L8.5 2.5l-.94 2.06-2.06.94zm10 10l.94 2.06.94-2.06 2.06-.94-2.06-.94-.94-2.06-.94 2.06-2.06.94z\"/><path d=\"M17.41 7.96l-1.37-1.37c-.4-.4-.92-.59-1.43-.59-.52 0-1.04.2-1.43.59L10.3 9.45l-7.72 7.72c-.78.78-.78 2.05 0 2.83L4 21.41c.39.39.9.59 1.41.59.51 0 1.02-.2 1.41-.59l7.78-7.78 2.81-2.81c.8-.78.8-2.07 0-2.86zM5.41 20L4 18.59l7.72-7.72 1.47 1.35L5.41 20z\"/>\n",
              "  </svg>\n",
              "      </button>\n",
              "      \n",
              "  <style>\n",
              "    .colab-df-container {\n",
              "      display:flex;\n",
              "      flex-wrap:wrap;\n",
              "      gap: 12px;\n",
              "    }\n",
              "\n",
              "    .colab-df-convert {\n",
              "      background-color: #E8F0FE;\n",
              "      border: none;\n",
              "      border-radius: 50%;\n",
              "      cursor: pointer;\n",
              "      display: none;\n",
              "      fill: #1967D2;\n",
              "      height: 32px;\n",
              "      padding: 0 0 0 0;\n",
              "      width: 32px;\n",
              "    }\n",
              "\n",
              "    .colab-df-convert:hover {\n",
              "      background-color: #E2EBFA;\n",
              "      box-shadow: 0px 1px 2px rgba(60, 64, 67, 0.3), 0px 1px 3px 1px rgba(60, 64, 67, 0.15);\n",
              "      fill: #174EA6;\n",
              "    }\n",
              "\n",
              "    [theme=dark] .colab-df-convert {\n",
              "      background-color: #3B4455;\n",
              "      fill: #D2E3FC;\n",
              "    }\n",
              "\n",
              "    [theme=dark] .colab-df-convert:hover {\n",
              "      background-color: #434B5C;\n",
              "      box-shadow: 0px 1px 3px 1px rgba(0, 0, 0, 0.15);\n",
              "      filter: drop-shadow(0px 1px 2px rgba(0, 0, 0, 0.3));\n",
              "      fill: #FFFFFF;\n",
              "    }\n",
              "  </style>\n",
              "\n",
              "      <script>\n",
              "        const buttonEl =\n",
              "          document.querySelector('#df-d43bad48-c7ee-42e0-b6ee-2a87cd04803e button.colab-df-convert');\n",
              "        buttonEl.style.display =\n",
              "          google.colab.kernel.accessAllowed ? 'block' : 'none';\n",
              "\n",
              "        async function convertToInteractive(key) {\n",
              "          const element = document.querySelector('#df-d43bad48-c7ee-42e0-b6ee-2a87cd04803e');\n",
              "          const dataTable =\n",
              "            await google.colab.kernel.invokeFunction('convertToInteractive',\n",
              "                                                     [key], {});\n",
              "          if (!dataTable) return;\n",
              "\n",
              "          const docLinkHtml = 'Like what you see? Visit the ' +\n",
              "            '<a target=\"_blank\" href=https://colab.research.google.com/notebooks/data_table.ipynb>data table notebook</a>'\n",
              "            + ' to learn more about interactive tables.';\n",
              "          element.innerHTML = '';\n",
              "          dataTable['output_type'] = 'display_data';\n",
              "          await google.colab.output.renderOutput(dataTable, element);\n",
              "          const docLink = document.createElement('div');\n",
              "          docLink.innerHTML = docLinkHtml;\n",
              "          element.appendChild(docLink);\n",
              "        }\n",
              "      </script>\n",
              "    </div>\n",
              "  </div>\n",
              "  "
            ]
          },
          "metadata": {},
          "execution_count": 45
        }
      ]
    },
    {
      "cell_type": "markdown",
      "source": [
        "### step 11.3 : deal with outliers"
      ],
      "metadata": {
        "id": "D7-nuZ5zuH7i"
      }
    },
    {
      "cell_type": "markdown",
      "source": [
        "#### Option 1 : Median imputation\n",
        "Why **median** and not **mean**? \n",
        "\n",
        "> As the mean value is highly influenced by the outliers, it is advised to replace the outliers with the median value. ([reference](https://www.analyticsvidhya.com/blog/2021/05/detecting-and-treating-outliers-treating-the-odd-one-out/)). In addition, this is also the reason why we deal with outlier first before handling missing values as the mean often used to impute them."
      ],
      "metadata": {
        "id": "0pES2435-msS"
      }
    },
    {
      "cell_type": "code",
      "source": [
        "# train_data = identify_or_extract_outlier_indices_with_iqr(train_data, impute_with_median = True)  "
      ],
      "metadata": {
        "id": "EpKSzHAn-ndX"
      },
      "execution_count": null,
      "outputs": []
    },
    {
      "cell_type": "markdown",
      "source": [
        "##### Option 2 : Drop outlier sample"
      ],
      "metadata": {
        "id": "kEsfK5FNwEUo"
      }
    },
    {
      "cell_type": "code",
      "source": [
        "# train_data.drop(train_data.index[outlier_sample_indices], inplace=True)"
      ],
      "metadata": {
        "id": "eNMBejs3xEmw"
      },
      "execution_count": null,
      "outputs": []
    },
    {
      "cell_type": "markdown",
      "source": [
        "### step 11.2 : visualize missing values"
      ],
      "metadata": {
        "id": "AmpC0zzgO7EY"
      }
    },
    {
      "cell_type": "markdown",
      "source": [
        "**for train data**"
      ],
      "metadata": {
        "id": "zIo1vozD4RUj"
      }
    },
    {
      "cell_type": "code",
      "source": [
        "missingno.matrix(train_data, figsize = (30,10))"
      ],
      "metadata": {
        "id": "y42jdo22XFys",
        "colab": {
          "base_uri": "https://localhost:8080/",
          "height": 389
        },
        "outputId": "9c6ac82d-f577-44ba-9dfb-4fa595985931"
      },
      "execution_count": 46,
      "outputs": [
        {
          "output_type": "execute_result",
          "data": {
            "text/plain": [
              "<matplotlib.axes._subplots.AxesSubplot at 0x7f90aef60450>"
            ]
          },
          "metadata": {},
          "execution_count": 46
        },
        {
          "output_type": "display_data",
          "data": {
            "text/plain": [
              "<Figure size 2160x720 with 2 Axes>"
            ],
            "image/png": "[encoded data removed]"
          },
          "metadata": {
            "needs_background": "light"
          }
        }
      ]
    },
    {
      "cell_type": "markdown",
      "source": [
        "**for validation data**"
      ],
      "metadata": {
        "id": "tg1B77lF4WmU"
      }
    },
    {
      "cell_type": "code",
      "source": [
        "missingno.matrix(val_data, figsize = (30,10))"
      ],
      "metadata": {
        "id": "5prg7JWaPMre",
        "colab": {
          "base_uri": "https://localhost:8080/",
          "height": 389
        },
        "outputId": "7532247d-c0c1-4868-83d3-76b9ecbece98"
      },
      "execution_count": 47,
      "outputs": [
        {
          "output_type": "execute_result",
          "data": {
            "text/plain": [
              "<matplotlib.axes._subplots.AxesSubplot at 0x7f90ac6992d0>"
            ]
          },
          "metadata": {},
          "execution_count": 47
        },
        {
          "output_type": "display_data",
          "data": {
            "text/plain": [
              "<Figure size 2160x720 with 2 Axes>"
            ],
            "image/png": "[encoded data removed]"
          },
          "metadata": {
            "needs_background": "light"
          }
        }
      ]
    },
    {
      "cell_type": "markdown",
      "source": [
        "**for test data**\n",
        "\n",
        "*It is important to note that in kaggle competition, the number of samples in the test set has to be preserved. Hence, we are not allowed to drop the sample that contains missing values as it will give an error during submission. So we need to impute them (e.g., mean, median) instead. However, in a real world scenario, imputing the test set will result in information leaking as we introduce the distribution of the entire test set. Thus, in real-world scenario, it is advised to drop the sample that contains missing values or apply batch normalization.*"
      ],
      "metadata": {
        "id": "vgQeMhAZ51EP"
      }
    },
    {
      "cell_type": "code",
      "source": [
        "missingno.matrix(test_data, figsize = (30,10))"
      ],
      "metadata": {
        "id": "pjFjOV2lTGxV",
        "colab": {
          "base_uri": "https://localhost:8080/",
          "height": 391
        },
        "outputId": "d47bb017-dc3a-4ed7-9fc1-a136bff8bfc6"
      },
      "execution_count": 48,
      "outputs": [
        {
          "output_type": "execute_result",
          "data": {
            "text/plain": [
              "<matplotlib.axes._subplots.AxesSubplot at 0x7f90ac67c890>"
            ]
          },
          "metadata": {},
          "execution_count": 48
        },
        {
          "output_type": "display_data",
          "data": {
            "text/plain": [
              "<Figure size 2160x720 with 2 Axes>"
            ],
            "image/png": "[encoded data removed]"
          },
          "metadata": {
            "needs_background": "light"
          }
        }
      ]
    },
    {
      "cell_type": "markdown",
      "source": [
        "#### step 11.2.1 : describe missing values numerically."
      ],
      "metadata": {
        "id": "qLHsvEpmSWpD"
      }
    },
    {
      "cell_type": "code",
      "source": [
        "for col in test_data.columns:\n",
        "\tn_miss = test_data[col].isnull().sum()\n",
        "\tperc = (n_miss / len(test_data)) * 100\n",
        "\tprint(f'col : {col} | Missing samples : {n_miss} | Missing perc : {perc}%')"
      ],
      "metadata": {
        "id": "lw92M6XJb7sk",
        "colab": {
          "base_uri": "https://localhost:8080/"
        },
        "outputId": "5c02ef71-e1c2-41b0-f02a-0a82d1f1cf76"
      },
      "execution_count": 50,
      "outputs": [
        {
          "output_type": "stream",
          "name": "stdout",
          "text": [
            "col : Pclass | Missing samples : 0 | Missing perc : 0.0%\n",
            "col : Sex | Missing samples : 0 | Missing perc : 0.0%\n",
            "col : Age | Missing samples : 86 | Missing perc : 20.574162679425836%\n",
            "col : SibSp | Missing samples : 0 | Missing perc : 0.0%\n",
            "col : Parch | Missing samples : 0 | Missing perc : 0.0%\n",
            "col : Fare | Missing samples : 1 | Missing perc : 0.23923444976076555%\n",
            "col : Embarked_C | Missing samples : 0 | Missing perc : 0.0%\n",
            "col : Embarked_Q | Missing samples : 0 | Missing perc : 0.0%\n",
            "col : Embarked_S | Missing samples : 0 | Missing perc : 0.0%\n"
          ]
        }
      ]
    },
    {
      "cell_type": "markdown",
      "source": [
        "##### 11.2.1.1 : deal with missing values (optional)\n",
        "\n",
        "This is optional because some algorithm can handle missing values automatically. For example, LightGBM by specifying use_missing=false."
      ],
      "metadata": {
        "id": "3vQ4uEXxuO2D"
      }
    },
    {
      "cell_type": "markdown",
      "source": [
        "##### extract missing values columns name\n"
      ],
      "metadata": {
        "id": "KJS2MvLLpzvA"
      }
    },
    {
      "cell_type": "code",
      "source": [
        "from tqdm.notebook import tqdm\n",
        "\n",
        "# step 1 : extract the column name in the test set that contain missing values\n",
        "train_data_missing_values_col_names = extract_missing_values_col_names(train_data)\n",
        "val_data_missing_values_col_names = extract_missing_values_col_names(val_data)\n",
        "test_data_missing_values_col_names = extract_missing_values_col_names(test_data)\n",
        "print(train_data_missing_values_col_names)\n",
        "print(val_data_missing_values_col_names)\n",
        "print(test_data_missing_values_col_names)"
      ],
      "metadata": {
        "id": "ZXYKJgmmD9UZ",
        "colab": {
          "base_uri": "https://localhost:8080/",
          "height": 165,
          "referenced_widgets": [
            "b33e3f1c11fe4d90bc44d31a90d30e8d",
            "290ff6af07db48518a050bc6f463db83",
            "f5a9180872be47b3b0d9e65128aa5da7",
            "8f6d284c30894f19bbc8f363358b0a95",
            "61cb28fb64234cdba257b642d2a5cac9",
            "92b7af49ebf6465e8db577fe46705812",
            "115833a5499746eaaecd846c16f60cae",
            "e51474ff959e406d9716afa072eed70e",
            "e1cfafd4e4ec4f549b25dc90bf358d11",
            "e9f7048eb2a34801ac7983e603b5c892",
            "eb94aca3691041ffb27c6b15763fa401",
            "c7f8d6312ce3404a9d2f3f945b21cfeb",
            "def692b184de40d49cd6d04cdad2b085",
            "01c9532576c446fab71236a4e41d5acd",
            "012548afbb5f4fa39255d384b74d3800",
            "b7c9c7a249674108b415cf4ffde7d9a8",
            "de13c17ccc294ae6a080fc3ddf81cabe",
            "0e72b714771b48b891c8b9564c434195",
            "05f8797fe0004f259b72235d8441c3a2",
            "55968739c31b4ef79e396d042ca09cd0",
            "130b8197280a47029bf3d8a143c5ca6d",
            "b56a86bdbdf448eeb270ae72f28f9730",
            "39f63919fd5b446a9bd639b332d370b7",
            "e564f32f36f24930a068ff3cb8d5c090",
            "5810b338592a4dbf984ab31dc3911c85",
            "f304cd86d17d489f8826d67f38e37997",
            "a117fd3306464a3890a2f1d9679bb513",
            "964427d0e5c64f6f96a74a021eb1c622",
            "74f6e06d10624d1bb317480855d9468b",
            "732485d7cbc34d7da590eba2efdcfad1",
            "7b4b13ab7c6a402b8dcabfa16ebe83a9",
            "e23a399dad444cf79a99921fa01e767d",
            "ec0cf4eebab341be9f63f00a6e64a790"
          ]
        },
        "outputId": "c8a31c02-3efc-42da-bb33-b5223b9e307d"
      },
      "execution_count": 51,
      "outputs": [
        {
          "output_type": "display_data",
          "data": {
            "text/plain": [
              "  0%|          | 0/10 [00:00<?, ?it/s]"
            ],
            "application/vnd.jupyter.widget-view+json": {
              "version_major": 2,
              "version_minor": 0,
              "model_id": "b33e3f1c11fe4d90bc44d31a90d30e8d"
            }
          },
          "metadata": {}
        },
        {
          "output_type": "display_data",
          "data": {
            "text/plain": [
              "  0%|          | 0/10 [00:00<?, ?it/s]"
            ],
            "application/vnd.jupyter.widget-view+json": {
              "version_major": 2,
              "version_minor": 0,
              "model_id": "c7f8d6312ce3404a9d2f3f945b21cfeb"
            }
          },
          "metadata": {}
        },
        {
          "output_type": "display_data",
          "data": {
            "text/plain": [
              "  0%|          | 0/9 [00:00<?, ?it/s]"
            ],
            "application/vnd.jupyter.widget-view+json": {
              "version_major": 2,
              "version_minor": 0,
              "model_id": "39f63919fd5b446a9bd639b332d370b7"
            }
          },
          "metadata": {}
        },
        {
          "output_type": "stream",
          "name": "stdout",
          "text": [
            "['Age']\n",
            "['Age']\n",
            "['Age', 'Fare']\n"
          ]
        }
      ]
    },
    {
      "cell_type": "markdown",
      "source": [
        "###### option 1 : impute with mean or median values"
      ],
      "metadata": {
        "id": "b6titG7cic6f"
      }
    },
    {
      "cell_type": "markdown",
      "source": [
        "for train data"
      ],
      "metadata": {
        "id": "3Z8WQo5kvegL"
      }
    },
    {
      "cell_type": "code",
      "source": [
        "for col_names in train_data_missing_values_col_names:\n",
        "  train_data[col_names].fillna(int(train_data[col_names].mean()), inplace=True)"
      ],
      "metadata": {
        "id": "U7bGEduUipeR"
      },
      "execution_count": 52,
      "outputs": []
    },
    {
      "cell_type": "markdown",
      "source": [
        "for val data"
      ],
      "metadata": {
        "id": "qoPs-ZaovgYg"
      }
    },
    {
      "cell_type": "code",
      "source": [
        "for col_names in val_data_missing_values_col_names:\n",
        "  val_data[col_names].fillna(int(val_data[col_names].mean()), inplace=True)"
      ],
      "metadata": {
        "id": "_8SRtUfdvhXM"
      },
      "execution_count": 53,
      "outputs": []
    },
    {
      "cell_type": "markdown",
      "source": [
        "for test data"
      ],
      "metadata": {
        "id": "mgLf3qFiv2Hp"
      }
    },
    {
      "cell_type": "code",
      "source": [
        "for col_names in test_data_missing_values_col_names:\n",
        "  test_data[col_names].fillna(int(test_data[col_names].mean()), inplace=True)"
      ],
      "metadata": {
        "id": "r-xsLb2hv3PF"
      },
      "execution_count": 54,
      "outputs": []
    },
    {
      "cell_type": "code",
      "source": [
        "missingno.matrix(val_data, figsize = (30,10))"
      ],
      "metadata": {
        "colab": {
          "base_uri": "https://localhost:8080/",
          "height": 389
        },
        "id": "UG_rbmbBmAb7",
        "outputId": "3c4d5fcb-bd1a-41e1-80d1-f953c616f302"
      },
      "execution_count": 57,
      "outputs": [
        {
          "output_type": "execute_result",
          "data": {
            "text/plain": [
              "<matplotlib.axes._subplots.AxesSubplot at 0x7f90af8ad210>"
            ]
          },
          "metadata": {},
          "execution_count": 57
        },
        {
          "output_type": "display_data",
          "data": {
            "text/plain": [
              "<Figure size 2160x720 with 2 Axes>"
            ],
            "image/png": "[encoded data removed]"
          },
          "metadata": {
            "needs_background": "light"
          }
        }
      ]
    },
    {
      "cell_type": "markdown",
      "source": [
        "###### option 2 : impute with mode (most frequent value)"
      ],
      "metadata": {
        "id": "CmHqV2coiptu"
      }
    },
    {
      "cell_type": "code",
      "source": [
        ""
      ],
      "metadata": {
        "id": "1Xif-Pw3iy5E"
      },
      "execution_count": null,
      "outputs": []
    },
    {
      "cell_type": "markdown",
      "source": [
        "###### option 3 : impute with knn classifier"
      ],
      "metadata": {
        "id": "1vzXuk-0izZt"
      }
    },
    {
      "cell_type": "code",
      "source": [
        "# from sklearn.impute import KNNImputer\n",
        "\n",
        "# imputer = KNNImputer()\n",
        "# train_data = pd.DataFrame(imputer.fit_transform(train_data), columns = test_data.columns)"
      ],
      "metadata": {
        "id": "brsKSOPOg2mW"
      },
      "execution_count": null,
      "outputs": []
    },
    {
      "cell_type": "markdown",
      "source": [
        "###### option 4 : drop the sample\n",
        "\n",
        "\n",
        "*It is important to note that in kaggle competition, the number of samples in the test set has to be preserved. Hence, we are not allowed to drop the sample that contains missing values in this case as it will give an error during submission.*"
      ],
      "metadata": {
        "id": "7sp8mBalLi_Q"
      }
    },
    {
      "cell_type": "code",
      "source": [
        "# # step 1 : define feature name that has NA\n",
        "# feature_name = 'Embarked'\n",
        "# # step 2 : drop the sample (row) for train, val, test set\n",
        "# train_data = train_data.dropna(subset=[feature_name])\n",
        "# val_data = val_data.dropna(subset=[feature_name])\n",
        "# test_data = test_data.dropna(subset=[feature_name])"
      ],
      "metadata": {
        "id": "N9yxCK8UNM-A"
      },
      "execution_count": null,
      "outputs": []
    },
    {
      "cell_type": "markdown",
      "source": [
        "### step 11.3 : visualize discrete features distribution"
      ],
      "metadata": {
        "id": "ohZJ6mZT2vhg"
      }
    },
    {
      "cell_type": "code",
      "source": [
        "train_data.columns"
      ],
      "metadata": {
        "colab": {
          "base_uri": "https://localhost:8080/"
        },
        "id": "cbWPl2LuYjfZ",
        "outputId": "833218b4-172e-48d4-b562-f270ca59e379"
      },
      "execution_count": 58,
      "outputs": [
        {
          "output_type": "execute_result",
          "data": {
            "text/plain": [
              "Index(['Survived', 'Pclass', 'Sex', 'Age', 'SibSp', 'Parch', 'Fare',\n",
              "       'Embarked_C', 'Embarked_Q', 'Embarked_S'],\n",
              "      dtype='object')"
            ]
          },
          "metadata": {},
          "execution_count": 58
        }
      ]
    },
    {
      "cell_type": "code",
      "source": [
        "# step 1 : specify the discrete features name\n",
        "discrete_features = ['Survived', 'Sex', 'SibSp', 'Parch', 'Embarked_C', 'Pclass']"
      ],
      "metadata": {
        "id": "I70PnLVtgG5P"
      },
      "execution_count": 61,
      "outputs": []
    },
    {
      "cell_type": "code",
      "source": [
        "from IPython.core.pylabtools import figsize\n",
        "figsize(20, 15)\n",
        "\n",
        "for i, feature_name in enumerate(discrete_features):\n",
        "    plt.subplot(4,4,i + 1)\n",
        "    sns.countplot(train_data[feature_name])"
      ],
      "metadata": {
        "id": "cw_QvUT25kgo",
        "colab": {
          "base_uri": "https://localhost:8080/",
          "height": 369
        },
        "outputId": "eb406923-aabb-4b94-84ee-2e82fa5b2cd2"
      },
      "execution_count": 62,
      "outputs": [
        {
          "output_type": "display_data",
          "data": {
            "text/plain": [
              "<Figure size 1440x1080 with 6 Axes>"
            ],
            "image/png": "[encoded data removed]"
          },
          "metadata": {
            "needs_background": "light"
          }
        }
      ]
    },
    {
      "cell_type": "markdown",
      "source": [
        "#### step 11.3.1 : deal with skewed discrete features"
      ],
      "metadata": {
        "id": "9l0e5oeE9aWy"
      }
    },
    {
      "cell_type": "code",
      "source": [
        ""
      ],
      "metadata": {
        "id": "7QEXW34mig6v"
      },
      "execution_count": null,
      "outputs": []
    },
    {
      "cell_type": "markdown",
      "source": [
        "### step 11.4 : visualize continuous features distribution"
      ],
      "metadata": {
        "id": "KvcJ0yf05qPE"
      }
    },
    {
      "cell_type": "code",
      "source": [
        "# step 1 : specify the continuous features name\n",
        "continous_features = []\n",
        "for name in train_data.columns:\n",
        "  # features with prefix `drive` is discrete features that\n",
        "  # transformed into one-hot \n",
        "  if (name not in discrete_features):\n",
        "    continous_features.append(name)"
      ],
      "metadata": {
        "id": "NqbYdDJ3b99E"
      },
      "execution_count": 63,
      "outputs": []
    },
    {
      "cell_type": "code",
      "source": [
        "len(continous_features)"
      ],
      "metadata": {
        "colab": {
          "base_uri": "https://localhost:8080/"
        },
        "id": "S1hWAslH6k2Z",
        "outputId": "d04d86f5-3729-4e50-e8f0-24cc4f4d1875"
      },
      "execution_count": 64,
      "outputs": [
        {
          "output_type": "execute_result",
          "data": {
            "text/plain": [
              "4"
            ]
          },
          "metadata": {},
          "execution_count": 64
        }
      ]
    },
    {
      "cell_type": "code",
      "source": [
        "from IPython.core.pylabtools import figsize\n",
        "figsize(20, 15)\n",
        "\n",
        "for i, feature_name in enumerate(continous_features):\n",
        "    plt.subplot(4,4,i + 1)\n",
        "    sns.distplot(train_data[feature_name])"
      ],
      "metadata": {
        "colab": {
          "base_uri": "https://localhost:8080/",
          "height": 200
        },
        "id": "gHsIDKrgYQ7C",
        "outputId": "4e58eab7-5d99-420f-86e6-84664c7fb3b6"
      },
      "execution_count": 65,
      "outputs": [
        {
          "output_type": "display_data",
          "data": {
            "text/plain": [
              "<Figure size 1440x1080 with 4 Axes>"
            ],
            "image/png": "[encoded data removed]"
          },
          "metadata": {
            "needs_background": "light"
          }
        }
      ]
    },
    {
      "cell_type": "markdown",
      "source": [
        "#### step 11.4.1 : deal with skewed continuous features"
      ],
      "metadata": {
        "id": "P_UjvN8T5Kg3"
      }
    },
    {
      "cell_type": "markdown",
      "source": [
        "##### option 1 : log transformation"
      ],
      "metadata": {
        "id": "FAkkB1-C9nOb"
      }
    },
    {
      "cell_type": "code",
      "source": [
        "# train_data['Fare'] = np.log(train_data['Fare'] + 1)\n",
        "# train_data['Fare'].skew()"
      ],
      "metadata": {
        "id": "PrGGuFS95G-o"
      },
      "execution_count": null,
      "outputs": []
    },
    {
      "cell_type": "code",
      "source": [
        "# print(sns.displot(train_data.Fare))"
      ],
      "metadata": {
        "id": "1ZBKNoIi54Ta"
      },
      "execution_count": null,
      "outputs": []
    },
    {
      "cell_type": "markdown",
      "source": [
        "### step 11.5 : visualize target class distribution"
      ],
      "metadata": {
        "id": "ot1gARYoNBjx"
      }
    },
    {
      "cell_type": "code",
      "source": [
        "from IPython.core.pylabtools import figsize\n",
        "figsize(6, 3)\n",
        "\n",
        "# # countplot for classification\n",
        "# # (discrete and small number of classes)\n",
        "print(sns.countplot(train_data['Survived']).set_title(\"train data\"))\n",
        "\n",
        "# displot for regression\n",
        "# (continous)\n",
        "# print(sns.displot(train_data['type']))"
      ],
      "metadata": {
        "id": "CDkdjRvhETin",
        "colab": {
          "base_uri": "https://localhost:8080/",
          "height": 258
        },
        "outputId": "13603697-6afe-4481-ae31-11978f3d137e"
      },
      "execution_count": 66,
      "outputs": [
        {
          "output_type": "stream",
          "name": "stdout",
          "text": [
            "Text(0.5, 1.0, 'train data')\n"
          ]
        },
        {
          "output_type": "display_data",
          "data": {
            "text/plain": [
              "<Figure size 432x216 with 1 Axes>"
            ],
            "image/png": "[encoded data removed]"
          },
          "metadata": {
            "needs_background": "light"
          }
        }
      ]
    },
    {
      "cell_type": "markdown",
      "source": [
        "#### step 11.5.1 : deal with imblance class\n",
        "\n",
        "**Oversampling** or **undersampling** techniques below doesn't guarantee for the model to perform better on minority class. Read more [here](https://en.wikipedia.org/wiki/Oversampling_and_undersampling_in_data_analysis)."
      ],
      "metadata": {
        "id": "IGhVJcXwt5PN"
      }
    },
    {
      "cell_type": "markdown",
      "source": [
        "##### option 1 : oversampling\n"
      ],
      "metadata": {
        "id": "nG-CVgYhV8G0"
      }
    },
    {
      "cell_type": "code",
      "source": [
        "# from imblearn.over_sampling import SMOTE\n",
        "# oversample = SMOTE()\n",
        "# X, y = oversample.fit_resample(train_data.drop(columns= ['Survived']), train_data['Survived'])"
      ],
      "metadata": {
        "id": "ejiRtl6Z32Qs"
      },
      "execution_count": null,
      "outputs": []
    },
    {
      "cell_type": "code",
      "source": [
        "# X_df = pd.DataFrame(X, columns=train_data.drop(columns = ['Survived']).columns)\n",
        "# y_df = pd.DataFrame(y, columns=['Survived'])"
      ],
      "metadata": {
        "id": "wsPd5b845E7o"
      },
      "execution_count": null,
      "outputs": []
    },
    {
      "cell_type": "code",
      "source": [
        "# # concatenate\n",
        "# X_df['Survived'] = y_df['Survived']\n",
        "# train_data_upsample = X_df"
      ],
      "metadata": {
        "id": "AeTKC3Py8uXi"
      },
      "execution_count": null,
      "outputs": []
    },
    {
      "cell_type": "markdown",
      "source": [
        "##### option 2 : undersampling"
      ],
      "metadata": {
        "id": "gyAdvymoV_bB"
      }
    },
    {
      "cell_type": "code",
      "source": [
        "## add downsampling script"
      ],
      "metadata": {
        "id": "GnHY8HHlWB4E"
      },
      "execution_count": null,
      "outputs": []
    },
    {
      "cell_type": "code",
      "source": [
        "## visualize after performing up or down sampling\n",
        "# print(sns.countplot(train_data_upsample.Survived).set_title(\"train data\"))"
      ],
      "metadata": {
        "id": "KQDoa-An5uO3"
      },
      "execution_count": null,
      "outputs": []
    },
    {
      "cell_type": "markdown",
      "source": [
        "### 11.6 : visualize features correlation "
      ],
      "metadata": {
        "id": "se09DaMYGmj_"
      }
    },
    {
      "cell_type": "markdown",
      "source": [
        "In this case, we are using `Pearson Correlation Matrix`. The `pearson correlation` measures the strength of the linear relationship between two variables. It has a value between -1 to 1, with a value of -1 meaning a total negative linear correlation, 0 being no correlation, and + 1 meaning a total positive correlation. The value greater than 0.5 has high correlation with the corresponding \"pair of feature\". (reference : [link](https://www.sciencedirect.com/topics/computer-science/pearson-correlation#:~:text=The%20Pearson%20correlation%20measures%20the,meaning%20a%20total%20positive%20correlation.))\n",
        "\n",
        ">   Good examples of positive and negative correlation, [here](https://www.quora.com/What-are-some-good-positive-and-negative-correlation-examples).\n",
        "\n",
        "\n",
        "\n",
        "\n"
      ],
      "metadata": {
        "id": "SiJEsZ58ZXJV"
      }
    },
    {
      "cell_type": "code",
      "source": [
        "plt.figure(figsize = (12, 10))\n",
        "sns.heatmap(train_data.corr(), annot = True, cmap=\"Greens\")\n",
        "plt.show()"
      ],
      "metadata": {
        "colab": {
          "base_uri": "https://localhost:8080/",
          "height": 648
        },
        "id": "gwHfFZVVH4gh",
        "outputId": "8c31181b-80e1-4c3a-c690-d1ec4c682e25"
      },
      "execution_count": 67,
      "outputs": [
        {
          "output_type": "display_data",
          "data": {
            "text/plain": [
              "<Figure size 864x720 with 2 Axes>"
            ],
            "image/png": "[encoded data removed]"
          },
          "metadata": {
            "needs_background": "light"
          }
        }
      ]
    },
    {
      "cell_type": "markdown",
      "source": [
        "#### 11.6.1 : deal with multi-colinearity features"
      ],
      "metadata": {
        "id": "0l3zaWWUudGr"
      }
    },
    {
      "cell_type": "markdown",
      "source": [
        "##### option 1 : drop the features `manually` "
      ],
      "metadata": {
        "id": "e91Pu7Tp0U8c"
      }
    },
    {
      "cell_type": "code",
      "source": [
        "# train_data_upsample.drop(columns = ['Fare'], inplace = True)\n",
        "# val_data.drop(columns = ['Fare'], inplace = True)\n",
        "# test_data.drop(columns = ['Fare'], inplace = True)"
      ],
      "metadata": {
        "id": "Q5-iuHnk4F7z"
      },
      "execution_count": null,
      "outputs": []
    },
    {
      "cell_type": "markdown",
      "source": [
        "##### option 2 : drop the features `automatically` by specifying correlation value threshold."
      ],
      "metadata": {
        "id": "L_2o5C-I-OUT"
      }
    },
    {
      "cell_type": "code",
      "source": [
        "# # step 1 : extract multi-colinearity features\n",
        "# extracted_features, correlation_matrix = extract_multicolin_features(train_data, threshold = 0.4, plot = False)\n",
        "\n",
        "# # step 2 : rank the extracted features based on the correlation with target value\n",
        "# ranked_features = abs(correlation_matrix['Survived'][extracted_features])\n",
        "# ranked_features = ranked_features.sort_values(ascending = False)\n",
        "\n",
        "# # step 3 : remove all of the extracted features except the top feature\n",
        "# top_feature = ranked_features.keys()[0]\n",
        "# features_to_be_removed = list(ranked_features.drop(top_feature).keys())\n",
        "\n",
        "# train_data.drop(columns = features_to_be_removed, inplace = True)\n",
        "# val_data.drop(columns = features_to_be_removed, inplace = True)\n",
        "# test_data.drop(columns = features_to_be_removed, inplace = True)"
      ],
      "metadata": {
        "id": "KnM7wWpUDHcE"
      },
      "execution_count": null,
      "outputs": []
    },
    {
      "cell_type": "markdown",
      "source": [
        "## step 12 : data modelling"
      ],
      "metadata": {
        "id": "HlDZm_0_VmF_"
      }
    },
    {
      "cell_type": "markdown",
      "source": [
        "### step 12.1 : define the input features and target variable"
      ],
      "metadata": {
        "id": "OnHzLe2QSarj"
      }
    },
    {
      "cell_type": "code",
      "source": [
        "# before we start data modelling, let's start to define the x_train, y_train, x_val, y_val\n",
        "x_train = train_data.drop(columns = 'Survived')\n",
        "x_val = val_data.drop(columns = 'Survived')\n",
        "\n",
        "y_train = train_data['Survived']\n",
        "y_val = val_data['Survived']"
      ],
      "metadata": {
        "id": "MfOVAeL8zcNz"
      },
      "execution_count": 68,
      "outputs": []
    },
    {
      "cell_type": "markdown",
      "source": [
        "### Regressor model"
      ],
      "metadata": {
        "id": "meV35_t7_Oih"
      }
    },
    {
      "cell_type": "markdown",
      "source": [
        "#### option 1 : linear regression (baseline) (optional)"
      ],
      "metadata": {
        "id": "iLh3OSRV_Var"
      }
    },
    {
      "cell_type": "code",
      "source": [
        "# import numpy as np\n",
        "# from sklearn.linear_model import LinearRegression\n",
        "\n",
        "# reg = LinearRegression().fit(x_train, y_train)"
      ],
      "metadata": {
        "id": "0zIcTwb-_bLt"
      },
      "execution_count": 69,
      "outputs": []
    },
    {
      "cell_type": "markdown",
      "source": [
        "##### evaluate model "
      ],
      "metadata": {
        "id": "gf3fgNnkVTB6"
      }
    },
    {
      "cell_type": "code",
      "source": [
        "# eval_scores = eval_regres(reg, \n",
        "#      x_train = x_train,\n",
        "#      y_train = y_train, \n",
        "#      x_test = x_val,\n",
        "#      y_test = y_val,\n",
        "#      )\n",
        "# eval_scores"
      ],
      "metadata": {
        "id": "bYkmmOgXVV0Q"
      },
      "execution_count": 70,
      "outputs": []
    },
    {
      "cell_type": "markdown",
      "source": [
        "#### option 2 : Catboost regressor"
      ],
      "metadata": {
        "id": "zLxUx-qu_dNp"
      }
    },
    {
      "cell_type": "code",
      "source": [
        "# from sklearn.preprocessing import PolynomialFeatures\n",
        "# from catboost import CatBoostRegressor\n",
        "\n",
        "# pipe = Pipeline([('poly', PolynomialFeatures(1)), \n",
        "#                   ('scaler', StandardScaler()), \n",
        "#                   ('cbr', CatBoostRegressor(silent=True, random_seed=13, loss_function='RMSE'))])\n",
        "\n",
        "# param_grid = {'cbr__iterations': [50, 100, 250], \n",
        "#              'cbr__depth': [4, 5, 7, 8, 9],\n",
        "#               'cbr__l2_leaf_reg': [0.2, 0.5, 1, 3]\n",
        "#               }\n",
        "\n",
        "# catboost_regressor = GridSearchCV(pipe, param_grid, cv=5)\n",
        "# catboost_regressor.fit(x_train, y_train)"
      ],
      "metadata": {
        "id": "j9YXwGRb7ypp"
      },
      "execution_count": 71,
      "outputs": []
    },
    {
      "cell_type": "markdown",
      "source": [
        "##### evaluate model "
      ],
      "metadata": {
        "id": "cV5kTeeHYicR"
      }
    },
    {
      "cell_type": "code",
      "source": [
        "# eval_scores = eval_regres(catboost_regressor.best_estimator_, \n",
        "#      x_train = x_train,\n",
        "#      y_train = y_train, \n",
        "#      x_test = x_val,\n",
        "#      y_test = y_val,\n",
        "#      )\n",
        "# eval_scores"
      ],
      "metadata": {
        "id": "C1_1mkh1Yk0x"
      },
      "execution_count": 72,
      "outputs": []
    },
    {
      "cell_type": "code",
      "source": [
        "# eval_scores = eval_regres(catboost_regressor.best_estimator_, \n",
        "#      x_train = x_train,\n",
        "#      y_train = y_train, \n",
        "#      x_test = x_test,\n",
        "#      y_test = y_test,\n",
        "#      )\n",
        "# eval_scores"
      ],
      "metadata": {
        "id": "9MMSyWfTEsiP"
      },
      "execution_count": 73,
      "outputs": []
    },
    {
      "cell_type": "markdown",
      "source": [
        "### Classifier model"
      ],
      "metadata": {
        "id": "p9bAfFehABr-"
      }
    },
    {
      "cell_type": "markdown",
      "source": [
        "#### option 1 : Logistic Regression (baseline) (optional)"
      ],
      "metadata": {
        "id": "l7EkFMMTDIbm"
      }
    },
    {
      "cell_type": "code",
      "source": [
        "from sklearn.preprocessing import StandardScaler\n",
        "from sklearn.linear_model import LogisticRegression\n",
        "\n",
        "# step 1 : construct the pipeline\n",
        "pipe = Pipeline([('scaler', StandardScaler()),\n",
        "                 ('clf', LogisticRegression())])\n",
        "\n",
        "# step 2 : specify the model param to explore\n",
        "param_grid = [{'clf__C': [1, 10, 100, 1000]}]\n",
        "gs_logistic_regression = GridSearchCV(pipe, param_grid, cv=5)\n",
        "\n",
        "# step 3 : train the model\n",
        "gs_logistic_regression.fit(x_train, y_train)\n",
        "\n",
        "print(f\"rfcModel.best_params = {gs_logistic_regression.best_params_}\")"
      ],
      "metadata": {
        "id": "eUm9K9XUjwEN",
        "colab": {
          "base_uri": "https://localhost:8080/"
        },
        "outputId": "d16aed7e-c59b-44a4-f232-bf5f47ec4f26"
      },
      "execution_count": 74,
      "outputs": [
        {
          "output_type": "stream",
          "name": "stdout",
          "text": [
            "rfcModel.best_params = {'clf__C': 1}\n"
          ]
        }
      ]
    },
    {
      "cell_type": "markdown",
      "source": [
        "##### evaluate model "
      ],
      "metadata": {
        "id": "h1pfwT-lkvKO"
      }
    },
    {
      "cell_type": "code",
      "source": [
        "# step 4 : evaluate the model on validation data\n",
        "evaluation_data_log = eval_class(gs_logistic_regression.best_estimator_, \n",
        "                                      x_train, \n",
        "                                      x_val, \n",
        "                                      y_train, \n",
        "                                      y_val,)\n",
        "print(evaluation_data_log)"
      ],
      "metadata": {
        "id": "469O8XR_jypg",
        "colab": {
          "base_uri": "https://localhost:8080/"
        },
        "outputId": "746e815c-b2b2-41be-a1e6-fc19d334b227"
      },
      "execution_count": 75,
      "outputs": [
        {
          "output_type": "stream",
          "name": "stdout",
          "text": [
            "       precision    recall        f1 support\n",
            "train   0.794791  0.779481  0.785407    None\n",
            "test    0.776017  0.772394  0.773968    None\n"
          ]
        }
      ]
    },
    {
      "cell_type": "markdown",
      "source": [
        "#### option 2 : Catboost classifier"
      ],
      "metadata": {
        "id": "FhiF2T0kErpv"
      }
    },
    {
      "cell_type": "code",
      "source": [
        "from sklearn.preprocessing import PolynomialFeatures\n",
        "from catboost import CatBoostClassifier\n",
        "\n",
        "pipe = Pipeline([('poly', PolynomialFeatures(1)), \n",
        "                  ('scaler', StandardScaler()), \n",
        "                  ('cbr', CatBoostClassifier(silent=True, random_seed=13, loss_function='Logloss'))])\n",
        "\n",
        "param_grid = {'cbr__iterations': [50, 100, 250], \n",
        "             'cbr__depth': [4, 5, 7, 8, 9],}\n",
        "\n",
        "gs_catboost = GridSearchCV(pipe, param_grid, cv=5)\n",
        "gs_catboost.fit(x_train, y_train)"
      ],
      "metadata": {
        "id": "cZouzXOwJMVI",
        "colab": {
          "base_uri": "https://localhost:8080/"
        },
        "outputId": "5316aaf4-ad5d-436a-9896-d53e19ebe024"
      },
      "execution_count": 78,
      "outputs": [
        {
          "output_type": "execute_result",
          "data": {
            "text/plain": [
              "GridSearchCV(cv=5,\n",
              "             estimator=Pipeline(steps=[('poly', PolynomialFeatures(degree=1)),\n",
              "                                       ('scaler', StandardScaler()),\n",
              "                                       ('cbr',\n",
              "                                        <catboost.core.CatBoostClassifier object at 0x7f90abb78d90>)]),\n",
              "             param_grid={'cbr__depth': [4, 5, 7, 8, 9],\n",
              "                         'cbr__iterations': [50, 100, 250]})"
            ]
          },
          "metadata": {},
          "execution_count": 78
        }
      ]
    },
    {
      "cell_type": "markdown",
      "source": [
        "##### evaluate model "
      ],
      "metadata": {
        "id": "5Nuk9HPzkwrm"
      }
    },
    {
      "cell_type": "code",
      "source": [
        "# step 3 : evaluate the scores on train and test set\n",
        "evaluation_data_log = eval_class(gs_catboost.best_estimator_, \n",
        "                                 x_train, \n",
        "                                 x_val, \n",
        "                                 y_train, \n",
        "                                 y_val,)\n",
        "print(evaluation_data_log)"
      ],
      "metadata": {
        "id": "qPNDvPgfLJU4",
        "colab": {
          "base_uri": "https://localhost:8080/"
        },
        "outputId": "b48a92eb-a94e-4aa3-883b-e0228d6a7f0c"
      },
      "execution_count": 79,
      "outputs": [
        {
          "output_type": "stream",
          "name": "stdout",
          "text": [
            "       precision    recall        f1 support\n",
            "train   0.901060  0.861100  0.874802    None\n",
            "test    0.815826  0.790219  0.797241    None\n"
          ]
        }
      ]
    },
    {
      "cell_type": "markdown",
      "source": [
        "## step 13 : visualize features importance\n",
        "\n",
        "The function used below to visualize `features importance` is copied from Daniel Bourke notebook [here](https://github.com/mrdbourke/your-first-kaggle-submission/blob/master/kaggle-titanic-dataset-example-submission-workflow.ipynb)."
      ],
      "metadata": {
        "id": "rbsgfplbEaOv"
      }
    },
    {
      "cell_type": "code",
      "source": [
        "def feature_importance(model, data):\n",
        "    \"\"\"\n",
        "    Function to show which features are most important in the model.\n",
        "    ::param_model:: Which model to use?\n",
        "    ::param_data:: What data to use?\n",
        "    \"\"\"\n",
        "    fea_imp = pd.DataFrame({'imp': model.feature_importances_, 'col': data.columns})\n",
        "    fea_imp = fea_imp.sort_values(['imp', 'col'], ascending=[True, False]).iloc[-30:]\n",
        "    _ = fea_imp.plot(kind='barh', x='col', y='imp', figsize=(20, 10))\n",
        "    return fea_imp\n",
        "    #plt.savefig('catboost_feature_importance.png') \n",
        "\n",
        "feature_importance(gs_catboost.best_estimator_._final_estimator, train_data)"
      ],
      "metadata": {
        "id": "2Ngu6_djEZuv",
        "colab": {
          "base_uri": "https://localhost:8080/",
          "height": 872
        },
        "outputId": "b00df1df-7d27-4439-9e2f-59b268fb6cc4"
      },
      "execution_count": null,
      "outputs": [
        {
          "output_type": "execute_result",
          "data": {
            "text/plain": [
              "          imp           col\n",
              "0    0.000000           age\n",
              "4    0.785688        stress\n",
              "9    0.845820           ubp\n",
              "8    1.009734  pernicious_2\n",
              "7    1.572462  pernicious_1\n",
              "6    2.463040         sport\n",
              "3    4.918772           sex\n",
              "11   5.783908      insomnia\n",
              "2    8.668073        height\n",
              "5   11.235329        doctor\n",
              "1   22.494237        weight\n",
              "10  40.222938           lbp"
            ],
            "text/html": [
              "\n",
              "  <div id=\"df-4732a354-db37-41cc-bcaf-ad348e8c788e\">\n",
              "    <div class=\"colab-df-container\">\n",
              "      <div>\n",
              "<style scoped>\n",
              "    .dataframe tbody tr th:only-of-type {\n",
              "        vertical-align: middle;\n",
              "    }\n",
              "\n",
              "    .dataframe tbody tr th {\n",
              "        vertical-align: top;\n",
              "    }\n",
              "\n",
              "    .dataframe thead th {\n",
              "        text-align: right;\n",
              "    }\n",
              "</style>\n",
              "<table border=\"1\" class=\"dataframe\">\n",
              "  <thead>\n",
              "    <tr style=\"text-align: right;\">\n",
              "      <th></th>\n",
              "      <th>imp</th>\n",
              "      <th>col</th>\n",
              "    </tr>\n",
              "  </thead>\n",
              "  <tbody>\n",
              "    <tr>\n",
              "      <th>0</th>\n",
              "      <td>0.000000</td>\n",
              "      <td>age</td>\n",
              "    </tr>\n",
              "    <tr>\n",
              "      <th>4</th>\n",
              "      <td>0.785688</td>\n",
              "      <td>stress</td>\n",
              "    </tr>\n",
              "    <tr>\n",
              "      <th>9</th>\n",
              "      <td>0.845820</td>\n",
              "      <td>ubp</td>\n",
              "    </tr>\n",
              "    <tr>\n",
              "      <th>8</th>\n",
              "      <td>1.009734</td>\n",
              "      <td>pernicious_2</td>\n",
              "    </tr>\n",
              "    <tr>\n",
              "      <th>7</th>\n",
              "      <td>1.572462</td>\n",
              "      <td>pernicious_1</td>\n",
              "    </tr>\n",
              "    <tr>\n",
              "      <th>6</th>\n",
              "      <td>2.463040</td>\n",
              "      <td>sport</td>\n",
              "    </tr>\n",
              "    <tr>\n",
              "      <th>3</th>\n",
              "      <td>4.918772</td>\n",
              "      <td>sex</td>\n",
              "    </tr>\n",
              "    <tr>\n",
              "      <th>11</th>\n",
              "      <td>5.783908</td>\n",
              "      <td>insomnia</td>\n",
              "    </tr>\n",
              "    <tr>\n",
              "      <th>2</th>\n",
              "      <td>8.668073</td>\n",
              "      <td>height</td>\n",
              "    </tr>\n",
              "    <tr>\n",
              "      <th>5</th>\n",
              "      <td>11.235329</td>\n",
              "      <td>doctor</td>\n",
              "    </tr>\n",
              "    <tr>\n",
              "      <th>1</th>\n",
              "      <td>22.494237</td>\n",
              "      <td>weight</td>\n",
              "    </tr>\n",
              "    <tr>\n",
              "      <th>10</th>\n",
              "      <td>40.222938</td>\n",
              "      <td>lbp</td>\n",
              "    </tr>\n",
              "  </tbody>\n",
              "</table>\n",
              "</div>\n",
              "      <button class=\"colab-df-convert\" onclick=\"convertToInteractive('df-4732a354-db37-41cc-bcaf-ad348e8c788e')\"\n",
              "              title=\"Convert this dataframe to an interactive table.\"\n",
              "              style=\"display:none;\">\n",
              "        \n",
              "  <svg xmlns=\"http://www.w3.org/2000/svg\" height=\"24px\"viewBox=\"0 0 24 24\"\n",
              "       width=\"24px\">\n",
              "    <path d=\"M0 0h24v24H0V0z\" fill=\"none\"/>\n",
              "    <path d=\"M18.56 5.44l.94 2.06.94-2.06 2.06-.94-2.06-.94-.94-2.06-.94 2.06-2.06.94zm-11 1L8.5 8.5l.94-2.06 2.06-.94-2.06-.94L8.5 2.5l-.94 2.06-2.06.94zm10 10l.94 2.06.94-2.06 2.06-.94-2.06-.94-.94-2.06-.94 2.06-2.06.94z\"/><path d=\"M17.41 7.96l-1.37-1.37c-.4-.4-.92-.59-1.43-.59-.52 0-1.04.2-1.43.59L10.3 9.45l-7.72 7.72c-.78.78-.78 2.05 0 2.83L4 21.41c.39.39.9.59 1.41.59.51 0 1.02-.2 1.41-.59l7.78-7.78 2.81-2.81c.8-.78.8-2.07 0-2.86zM5.41 20L4 18.59l7.72-7.72 1.47 1.35L5.41 20z\"/>\n",
              "  </svg>\n",
              "      </button>\n",
              "      \n",
              "  <style>\n",
              "    .colab-df-container {\n",
              "      display:flex;\n",
              "      flex-wrap:wrap;\n",
              "      gap: 12px;\n",
              "    }\n",
              "\n",
              "    .colab-df-convert {\n",
              "      background-color: #E8F0FE;\n",
              "      border: none;\n",
              "      border-radius: 50%;\n",
              "      cursor: pointer;\n",
              "      display: none;\n",
              "      fill: #1967D2;\n",
              "      height: 32px;\n",
              "      padding: 0 0 0 0;\n",
              "      width: 32px;\n",
              "    }\n",
              "\n",
              "    .colab-df-convert:hover {\n",
              "      background-color: #E2EBFA;\n",
              "      box-shadow: 0px 1px 2px rgba(60, 64, 67, 0.3), 0px 1px 3px 1px rgba(60, 64, 67, 0.15);\n",
              "      fill: #174EA6;\n",
              "    }\n",
              "\n",
              "    [theme=dark] .colab-df-convert {\n",
              "      background-color: #3B4455;\n",
              "      fill: #D2E3FC;\n",
              "    }\n",
              "\n",
              "    [theme=dark] .colab-df-convert:hover {\n",
              "      background-color: #434B5C;\n",
              "      box-shadow: 0px 1px 3px 1px rgba(0, 0, 0, 0.15);\n",
              "      filter: drop-shadow(0px 1px 2px rgba(0, 0, 0, 0.3));\n",
              "      fill: #FFFFFF;\n",
              "    }\n",
              "  </style>\n",
              "\n",
              "      <script>\n",
              "        const buttonEl =\n",
              "          document.querySelector('#df-4732a354-db37-41cc-bcaf-ad348e8c788e button.colab-df-convert');\n",
              "        buttonEl.style.display =\n",
              "          google.colab.kernel.accessAllowed ? 'block' : 'none';\n",
              "\n",
              "        async function convertToInteractive(key) {\n",
              "          const element = document.querySelector('#df-4732a354-db37-41cc-bcaf-ad348e8c788e');\n",
              "          const dataTable =\n",
              "            await google.colab.kernel.invokeFunction('convertToInteractive',\n",
              "                                                     [key], {});\n",
              "          if (!dataTable) return;\n",
              "\n",
              "          const docLinkHtml = 'Like what you see? Visit the ' +\n",
              "            '<a target=\"_blank\" href=https://colab.research.google.com/notebooks/data_table.ipynb>data table notebook</a>'\n",
              "            + ' to learn more about interactive tables.';\n",
              "          element.innerHTML = '';\n",
              "          dataTable['output_type'] = 'display_data';\n",
              "          await google.colab.output.renderOutput(dataTable, element);\n",
              "          const docLink = document.createElement('div');\n",
              "          docLink.innerHTML = docLinkHtml;\n",
              "          element.appendChild(docLink);\n",
              "        }\n",
              "      </script>\n",
              "    </div>\n",
              "  </div>\n",
              "  "
            ]
          },
          "metadata": {},
          "execution_count": 40
        },
        {
          "output_type": "display_data",
          "data": {
            "text/plain": [
              "<Figure size 1440x720 with 1 Axes>"
            ],
            "image/png": "[encoded data removed]"
          },
          "metadata": {
            "needs_background": "light"
          }
        }
      ]
    },
    {
      "cell_type": "markdown",
      "source": [
        "## step 14 : prepare for submission (optional)\n",
        "if submit to kaggle"
      ],
      "metadata": {
        "id": "yqv-gQY5VrPI"
      }
    },
    {
      "cell_type": "code",
      "source": [
        "# step 1 : intiliazie best model with the corresponding hyper-params\n",
        "best_model = gs_catboost.best_estimator_\n",
        "\n",
        "predictions = best_model.predict(test_data)\n",
        "\n",
        "# # step 4 : retrieve the prediction probability (Optional)\n",
        "# total_probs = best_model.predict_proba(test_data)\n",
        "# probs = [total_probs[i, pred] for i, pred in enumerate(predictions)]\n",
        "\n",
        "# step 5 : load the submission file\n",
        "submission_path = '/content/gender_submission.csv' \n",
        "submission = pd.read_csv(submission_path)\n",
        "\n",
        "# step 6 : fill the target with the prediction probability\n",
        "submission['Survived'] = predictions\n",
        "\n",
        "# step 7 : save the submission file\n",
        "save_path = '/content/prediction7.csv'\n",
        "submission.to_csv(save_path, index = False)"
      ],
      "metadata": {
        "id": "pra6KEylmrbH"
      },
      "execution_count": null,
      "outputs": []
    },
    {
      "cell_type": "code",
      "source": [
        "submission.head(5)"
      ],
      "metadata": {
        "colab": {
          "base_uri": "https://localhost:8080/",
          "height": 206
        },
        "id": "MeX-R4nIpqFH",
        "outputId": "2245ca26-282a-4d51-bd18-1b86af64e55e"
      },
      "execution_count": null,
      "outputs": [
        {
          "output_type": "execute_result",
          "data": {
            "text/plain": [
              "   id  insomnia  Survived\n",
              "0   5       0.5         0\n",
              "1   6       0.5         1\n",
              "2   7       0.5         0\n",
              "3  10       0.5         0\n",
              "4  11       0.5         0"
            ],
            "text/html": [
              "\n",
              "  <div id=\"df-d5113679-60c5-4c30-9256-cb515ba09a70\">\n",
              "    <div class=\"colab-df-container\">\n",
              "      <div>\n",
              "<style scoped>\n",
              "    .dataframe tbody tr th:only-of-type {\n",
              "        vertical-align: middle;\n",
              "    }\n",
              "\n",
              "    .dataframe tbody tr th {\n",
              "        vertical-align: top;\n",
              "    }\n",
              "\n",
              "    .dataframe thead th {\n",
              "        text-align: right;\n",
              "    }\n",
              "</style>\n",
              "<table border=\"1\" class=\"dataframe\">\n",
              "  <thead>\n",
              "    <tr style=\"text-align: right;\">\n",
              "      <th></th>\n",
              "      <th>id</th>\n",
              "      <th>insomnia</th>\n",
              "      <th>Survived</th>\n",
              "    </tr>\n",
              "  </thead>\n",
              "  <tbody>\n",
              "    <tr>\n",
              "      <th>0</th>\n",
              "      <td>5</td>\n",
              "      <td>0.5</td>\n",
              "      <td>0</td>\n",
              "    </tr>\n",
              "    <tr>\n",
              "      <th>1</th>\n",
              "      <td>6</td>\n",
              "      <td>0.5</td>\n",
              "      <td>1</td>\n",
              "    </tr>\n",
              "    <tr>\n",
              "      <th>2</th>\n",
              "      <td>7</td>\n",
              "      <td>0.5</td>\n",
              "      <td>0</td>\n",
              "    </tr>\n",
              "    <tr>\n",
              "      <th>3</th>\n",
              "      <td>10</td>\n",
              "      <td>0.5</td>\n",
              "      <td>0</td>\n",
              "    </tr>\n",
              "    <tr>\n",
              "      <th>4</th>\n",
              "      <td>11</td>\n",
              "      <td>0.5</td>\n",
              "      <td>0</td>\n",
              "    </tr>\n",
              "  </tbody>\n",
              "</table>\n",
              "</div>\n",
              "      <button class=\"colab-df-convert\" onclick=\"convertToInteractive('df-d5113679-60c5-4c30-9256-cb515ba09a70')\"\n",
              "              title=\"Convert this dataframe to an interactive table.\"\n",
              "              style=\"display:none;\">\n",
              "        \n",
              "  <svg xmlns=\"http://www.w3.org/2000/svg\" height=\"24px\"viewBox=\"0 0 24 24\"\n",
              "       width=\"24px\">\n",
              "    <path d=\"M0 0h24v24H0V0z\" fill=\"none\"/>\n",
              "    <path d=\"M18.56 5.44l.94 2.06.94-2.06 2.06-.94-2.06-.94-.94-2.06-.94 2.06-2.06.94zm-11 1L8.5 8.5l.94-2.06 2.06-.94-2.06-.94L8.5 2.5l-.94 2.06-2.06.94zm10 10l.94 2.06.94-2.06 2.06-.94-2.06-.94-.94-2.06-.94 2.06-2.06.94z\"/><path d=\"M17.41 7.96l-1.37-1.37c-.4-.4-.92-.59-1.43-.59-.52 0-1.04.2-1.43.59L10.3 9.45l-7.72 7.72c-.78.78-.78 2.05 0 2.83L4 21.41c.39.39.9.59 1.41.59.51 0 1.02-.2 1.41-.59l7.78-7.78 2.81-2.81c.8-.78.8-2.07 0-2.86zM5.41 20L4 18.59l7.72-7.72 1.47 1.35L5.41 20z\"/>\n",
              "  </svg>\n",
              "      </button>\n",
              "      \n",
              "  <style>\n",
              "    .colab-df-container {\n",
              "      display:flex;\n",
              "      flex-wrap:wrap;\n",
              "      gap: 12px;\n",
              "    }\n",
              "\n",
              "    .colab-df-convert {\n",
              "      background-color: #E8F0FE;\n",
              "      border: none;\n",
              "      border-radius: 50%;\n",
              "      cursor: pointer;\n",
              "      display: none;\n",
              "      fill: #1967D2;\n",
              "      height: 32px;\n",
              "      padding: 0 0 0 0;\n",
              "      width: 32px;\n",
              "    }\n",
              "\n",
              "    .colab-df-convert:hover {\n",
              "      background-color: #E2EBFA;\n",
              "      box-shadow: 0px 1px 2px rgba(60, 64, 67, 0.3), 0px 1px 3px 1px rgba(60, 64, 67, 0.15);\n",
              "      fill: #174EA6;\n",
              "    }\n",
              "\n",
              "    [theme=dark] .colab-df-convert {\n",
              "      background-color: #3B4455;\n",
              "      fill: #D2E3FC;\n",
              "    }\n",
              "\n",
              "    [theme=dark] .colab-df-convert:hover {\n",
              "      background-color: #434B5C;\n",
              "      box-shadow: 0px 1px 3px 1px rgba(0, 0, 0, 0.15);\n",
              "      filter: drop-shadow(0px 1px 2px rgba(0, 0, 0, 0.3));\n",
              "      fill: #FFFFFF;\n",
              "    }\n",
              "  </style>\n",
              "\n",
              "      <script>\n",
              "        const buttonEl =\n",
              "          document.querySelector('#df-d5113679-60c5-4c30-9256-cb515ba09a70 button.colab-df-convert');\n",
              "        buttonEl.style.display =\n",
              "          google.colab.kernel.accessAllowed ? 'block' : 'none';\n",
              "\n",
              "        async function convertToInteractive(key) {\n",
              "          const element = document.querySelector('#df-d5113679-60c5-4c30-9256-cb515ba09a70');\n",
              "          const dataTable =\n",
              "            await google.colab.kernel.invokeFunction('convertToInteractive',\n",
              "                                                     [key], {});\n",
              "          if (!dataTable) return;\n",
              "\n",
              "          const docLinkHtml = 'Like what you see? Visit the ' +\n",
              "            '<a target=\"_blank\" href=https://colab.research.google.com/notebooks/data_table.ipynb>data table notebook</a>'\n",
              "            + ' to learn more about interactive tables.';\n",
              "          element.innerHTML = '';\n",
              "          dataTable['output_type'] = 'display_data';\n",
              "          await google.colab.output.renderOutput(dataTable, element);\n",
              "          const docLink = document.createElement('div');\n",
              "          docLink.innerHTML = docLinkHtml;\n",
              "          element.appendChild(docLink);\n",
              "        }\n",
              "      </script>\n",
              "    </div>\n",
              "  </div>\n",
              "  "
            ]
          },
          "metadata": {},
          "execution_count": 42
        }
      ]
    },
    {
      "cell_type": "markdown",
      "source": [
        "# Conclusion\n",
        "\n",
        "It turns out that high scores in the validation set do not guarantee high scores in the test set. "
      ],
      "metadata": {
        "id": "Cm8Vg5DrP7Vf"
      }
    }
  ]
}