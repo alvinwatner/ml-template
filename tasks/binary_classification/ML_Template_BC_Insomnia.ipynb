{
  "nbformat": 4,
  "nbformat_minor": 0,
  "metadata": {
    "colab": {
      "name": "ML_Template_BC_Insomnia.ipynb",
      "provenance": [],
      "collapsed_sections": [],
      "toc_visible": true
    },
    "kernelspec": {
      "name": "python3",
      "display_name": "Python 3"
    },
    "language_info": {
      "name": "python"
    },
    "widgets": {
      "application/vnd.jupyter.widget-state+json": {
        "0bd1a112d2284261b13f2fef53ca739b": {
          "model_module": "@jupyter-widgets/controls",
          "model_name": "HBoxModel",
          "model_module_version": "1.5.0",
          "state": {
            "_dom_classes": [],
            "_model_module": "@jupyter-widgets/controls",
            "_model_module_version": "1.5.0",
            "_model_name": "HBoxModel",
            "_view_count": null,
            "_view_module": "@jupyter-widgets/controls",
            "_view_module_version": "1.5.0",
            "_view_name": "HBoxView",
            "box_style": "",
            "children": [
              "IPY_MODEL_e122d8f5f99f44c7b0946e7cf7553d48",
              "IPY_MODEL_13a7661d94584d339dc35f0f372e9f77",
              "IPY_MODEL_9e563b106c4f47ba8cb2bb658c3bfa17"
            ],
            "layout": "IPY_MODEL_dd2679407e5942e796709d8e5c36e4b2"
          }
        },
        "e122d8f5f99f44c7b0946e7cf7553d48": {
          "model_module": "@jupyter-widgets/controls",
          "model_name": "HTMLModel",
          "model_module_version": "1.5.0",
          "state": {
            "_dom_classes": [],
            "_model_module": "@jupyter-widgets/controls",
            "_model_module_version": "1.5.0",
            "_model_name": "HTMLModel",
            "_view_count": null,
            "_view_module": "@jupyter-widgets/controls",
            "_view_module_version": "1.5.0",
            "_view_name": "HTMLView",
            "description": "",
            "description_tooltip": null,
            "layout": "IPY_MODEL_777e781a8e75412b80547bccfee5221c",
            "placeholder": "​",
            "style": "IPY_MODEL_39833df5eab74d3eae25de1151dee469",
            "value": "100%"
          }
        },
        "13a7661d94584d339dc35f0f372e9f77": {
          "model_module": "@jupyter-widgets/controls",
          "model_name": "FloatProgressModel",
          "model_module_version": "1.5.0",
          "state": {
            "_dom_classes": [],
            "_model_module": "@jupyter-widgets/controls",
            "_model_module_version": "1.5.0",
            "_model_name": "FloatProgressModel",
            "_view_count": null,
            "_view_module": "@jupyter-widgets/controls",
            "_view_module_version": "1.5.0",
            "_view_name": "ProgressView",
            "bar_style": "success",
            "description": "",
            "description_tooltip": null,
            "layout": "IPY_MODEL_a110507b6d4e4381907dafb9686c8631",
            "max": 12,
            "min": 0,
            "orientation": "horizontal",
            "style": "IPY_MODEL_2e60426a054c45a48a49ed2dcbff2d69",
            "value": 12
          }
        },
        "9e563b106c4f47ba8cb2bb658c3bfa17": {
          "model_module": "@jupyter-widgets/controls",
          "model_name": "HTMLModel",
          "model_module_version": "1.5.0",
          "state": {
            "_dom_classes": [],
            "_model_module": "@jupyter-widgets/controls",
            "_model_module_version": "1.5.0",
            "_model_name": "HTMLModel",
            "_view_count": null,
            "_view_module": "@jupyter-widgets/controls",
            "_view_module_version": "1.5.0",
            "_view_name": "HTMLView",
            "description": "",
            "description_tooltip": null,
            "layout": "IPY_MODEL_cea99dc4c06548fb8a0571489f76d486",
            "placeholder": "​",
            "style": "IPY_MODEL_dcdef1e1f4724c1aba8af7e6e056ee74",
            "value": " 12/12 [00:00&lt;00:00,  7.92it/s]"
          }
        },
        "dd2679407e5942e796709d8e5c36e4b2": {
          "model_module": "@jupyter-widgets/base",
          "model_name": "LayoutModel",
          "model_module_version": "1.2.0",
          "state": {
            "_model_module": "@jupyter-widgets/base",
            "_model_module_version": "1.2.0",
            "_model_name": "LayoutModel",
            "_view_count": null,
            "_view_module": "@jupyter-widgets/base",
            "_view_module_version": "1.2.0",
            "_view_name": "LayoutView",
            "align_content": null,
            "align_items": null,
            "align_self": null,
            "border": null,
            "bottom": null,
            "display": null,
            "flex": null,
            "flex_flow": null,
            "grid_area": null,
            "grid_auto_columns": null,
            "grid_auto_flow": null,
            "grid_auto_rows": null,
            "grid_column": null,
            "grid_gap": null,
            "grid_row": null,
            "grid_template_areas": null,
            "grid_template_columns": null,
            "grid_template_rows": null,
            "height": null,
            "justify_content": null,
            "justify_items": null,
            "left": null,
            "margin": null,
            "max_height": null,
            "max_width": null,
            "min_height": null,
            "min_width": null,
            "object_fit": null,
            "object_position": null,
            "order": null,
            "overflow": null,
            "overflow_x": null,
            "overflow_y": null,
            "padding": null,
            "right": null,
            "top": null,
            "visibility": null,
            "width": null
          }
        },
        "777e781a8e75412b80547bccfee5221c": {
          "model_module": "@jupyter-widgets/base",
          "model_name": "LayoutModel",
          "model_module_version": "1.2.0",
          "state": {
            "_model_module": "@jupyter-widgets/base",
            "_model_module_version": "1.2.0",
            "_model_name": "LayoutModel",
            "_view_count": null,
            "_view_module": "@jupyter-widgets/base",
            "_view_module_version": "1.2.0",
            "_view_name": "LayoutView",
            "align_content": null,
            "align_items": null,
            "align_self": null,
            "border": null,
            "bottom": null,
            "display": null,
            "flex": null,
            "flex_flow": null,
            "grid_area": null,
            "grid_auto_columns": null,
            "grid_auto_flow": null,
            "grid_auto_rows": null,
            "grid_column": null,
            "grid_gap": null,
            "grid_row": null,
            "grid_template_areas": null,
            "grid_template_columns": null,
            "grid_template_rows": null,
            "height": null,
            "justify_content": null,
            "justify_items": null,
            "left": null,
            "margin": null,
            "max_height": null,
            "max_width": null,
            "min_height": null,
            "min_width": null,
            "object_fit": null,
            "object_position": null,
            "order": null,
            "overflow": null,
            "overflow_x": null,
            "overflow_y": null,
            "padding": null,
            "right": null,
            "top": null,
            "visibility": null,
            "width": null
          }
        },
        "39833df5eab74d3eae25de1151dee469": {
          "model_module": "@jupyter-widgets/controls",
          "model_name": "DescriptionStyleModel",
          "model_module_version": "1.5.0",
          "state": {
            "_model_module": "@jupyter-widgets/controls",
            "_model_module_version": "1.5.0",
            "_model_name": "DescriptionStyleModel",
            "_view_count": null,
            "_view_module": "@jupyter-widgets/base",
            "_view_module_version": "1.2.0",
            "_view_name": "StyleView",
            "description_width": ""
          }
        },
        "a110507b6d4e4381907dafb9686c8631": {
          "model_module": "@jupyter-widgets/base",
          "model_name": "LayoutModel",
          "model_module_version": "1.2.0",
          "state": {
            "_model_module": "@jupyter-widgets/base",
            "_model_module_version": "1.2.0",
            "_model_name": "LayoutModel",
            "_view_count": null,
            "_view_module": "@jupyter-widgets/base",
            "_view_module_version": "1.2.0",
            "_view_name": "LayoutView",
            "align_content": null,
            "align_items": null,
            "align_self": null,
            "border": null,
            "bottom": null,
            "display": null,
            "flex": null,
            "flex_flow": null,
            "grid_area": null,
            "grid_auto_columns": null,
            "grid_auto_flow": null,
            "grid_auto_rows": null,
            "grid_column": null,
            "grid_gap": null,
            "grid_row": null,
            "grid_template_areas": null,
            "grid_template_columns": null,
            "grid_template_rows": null,
            "height": null,
            "justify_content": null,
            "justify_items": null,
            "left": null,
            "margin": null,
            "max_height": null,
            "max_width": null,
            "min_height": null,
            "min_width": null,
            "object_fit": null,
            "object_position": null,
            "order": null,
            "overflow": null,
            "overflow_x": null,
            "overflow_y": null,
            "padding": null,
            "right": null,
            "top": null,
            "visibility": null,
            "width": null
          }
        },
        "2e60426a054c45a48a49ed2dcbff2d69": {
          "model_module": "@jupyter-widgets/controls",
          "model_name": "ProgressStyleModel",
          "model_module_version": "1.5.0",
          "state": {
            "_model_module": "@jupyter-widgets/controls",
            "_model_module_version": "1.5.0",
            "_model_name": "ProgressStyleModel",
            "_view_count": null,
            "_view_module": "@jupyter-widgets/base",
            "_view_module_version": "1.2.0",
            "_view_name": "StyleView",
            "bar_color": null,
            "description_width": ""
          }
        },
        "cea99dc4c06548fb8a0571489f76d486": {
          "model_module": "@jupyter-widgets/base",
          "model_name": "LayoutModel",
          "model_module_version": "1.2.0",
          "state": {
            "_model_module": "@jupyter-widgets/base",
            "_model_module_version": "1.2.0",
            "_model_name": "LayoutModel",
            "_view_count": null,
            "_view_module": "@jupyter-widgets/base",
            "_view_module_version": "1.2.0",
            "_view_name": "LayoutView",
            "align_content": null,
            "align_items": null,
            "align_self": null,
            "border": null,
            "bottom": null,
            "display": null,
            "flex": null,
            "flex_flow": null,
            "grid_area": null,
            "grid_auto_columns": null,
            "grid_auto_flow": null,
            "grid_auto_rows": null,
            "grid_column": null,
            "grid_gap": null,
            "grid_row": null,
            "grid_template_areas": null,
            "grid_template_columns": null,
            "grid_template_rows": null,
            "height": null,
            "justify_content": null,
            "justify_items": null,
            "left": null,
            "margin": null,
            "max_height": null,
            "max_width": null,
            "min_height": null,
            "min_width": null,
            "object_fit": null,
            "object_position": null,
            "order": null,
            "overflow": null,
            "overflow_x": null,
            "overflow_y": null,
            "padding": null,
            "right": null,
            "top": null,
            "visibility": null,
            "width": null
          }
        },
        "dcdef1e1f4724c1aba8af7e6e056ee74": {
          "model_module": "@jupyter-widgets/controls",
          "model_name": "DescriptionStyleModel",
          "model_module_version": "1.5.0",
          "state": {
            "_model_module": "@jupyter-widgets/controls",
            "_model_module_version": "1.5.0",
            "_model_name": "DescriptionStyleModel",
            "_view_count": null,
            "_view_module": "@jupyter-widgets/base",
            "_view_module_version": "1.2.0",
            "_view_name": "StyleView",
            "description_width": ""
          }
        },
        "e4a5126e7c394f5bb5807caded8072f7": {
          "model_module": "@jupyter-widgets/controls",
          "model_name": "HBoxModel",
          "model_module_version": "1.5.0",
          "state": {
            "_dom_classes": [],
            "_model_module": "@jupyter-widgets/controls",
            "_model_module_version": "1.5.0",
            "_model_name": "HBoxModel",
            "_view_count": null,
            "_view_module": "@jupyter-widgets/controls",
            "_view_module_version": "1.5.0",
            "_view_name": "HBoxView",
            "box_style": "",
            "children": [
              "IPY_MODEL_99705754b9524d2aad2ef28b88569bd8",
              "IPY_MODEL_0622f22be88d4b0e99cd7e74c24e40e4",
              "IPY_MODEL_31f49be375234646880532c766c91d1e"
            ],
            "layout": "IPY_MODEL_875d4f37a50f4e41a869eb234435cd3f"
          }
        },
        "99705754b9524d2aad2ef28b88569bd8": {
          "model_module": "@jupyter-widgets/controls",
          "model_name": "HTMLModel",
          "model_module_version": "1.5.0",
          "state": {
            "_dom_classes": [],
            "_model_module": "@jupyter-widgets/controls",
            "_model_module_version": "1.5.0",
            "_model_name": "HTMLModel",
            "_view_count": null,
            "_view_module": "@jupyter-widgets/controls",
            "_view_module_version": "1.5.0",
            "_view_name": "HTMLView",
            "description": "",
            "description_tooltip": null,
            "layout": "IPY_MODEL_eb73f1a1ec0a449a9b0a548505ea6365",
            "placeholder": "​",
            "style": "IPY_MODEL_b526b165ae134992a382bda6850f54c1",
            "value": "100%"
          }
        },
        "0622f22be88d4b0e99cd7e74c24e40e4": {
          "model_module": "@jupyter-widgets/controls",
          "model_name": "FloatProgressModel",
          "model_module_version": "1.5.0",
          "state": {
            "_dom_classes": [],
            "_model_module": "@jupyter-widgets/controls",
            "_model_module_version": "1.5.0",
            "_model_name": "FloatProgressModel",
            "_view_count": null,
            "_view_module": "@jupyter-widgets/controls",
            "_view_module_version": "1.5.0",
            "_view_name": "ProgressView",
            "bar_style": "success",
            "description": "",
            "description_tooltip": null,
            "layout": "IPY_MODEL_276cd6d702c74bc3a3aa89e0fc1a4f4f",
            "max": 12,
            "min": 0,
            "orientation": "horizontal",
            "style": "IPY_MODEL_8c04b8fb87e448499165fa0251c2f6f6",
            "value": 12
          }
        },
        "31f49be375234646880532c766c91d1e": {
          "model_module": "@jupyter-widgets/controls",
          "model_name": "HTMLModel",
          "model_module_version": "1.5.0",
          "state": {
            "_dom_classes": [],
            "_model_module": "@jupyter-widgets/controls",
            "_model_module_version": "1.5.0",
            "_model_name": "HTMLModel",
            "_view_count": null,
            "_view_module": "@jupyter-widgets/controls",
            "_view_module_version": "1.5.0",
            "_view_name": "HTMLView",
            "description": "",
            "description_tooltip": null,
            "layout": "IPY_MODEL_9202e303735b4dc496b7f253e37d000c",
            "placeholder": "​",
            "style": "IPY_MODEL_34e9b0f3c16e4e17b3cab7b70f1c8be7",
            "value": " 12/12 [00:00&lt;00:00,  9.32it/s]"
          }
        },
        "875d4f37a50f4e41a869eb234435cd3f": {
          "model_module": "@jupyter-widgets/base",
          "model_name": "LayoutModel",
          "model_module_version": "1.2.0",
          "state": {
            "_model_module": "@jupyter-widgets/base",
            "_model_module_version": "1.2.0",
            "_model_name": "LayoutModel",
            "_view_count": null,
            "_view_module": "@jupyter-widgets/base",
            "_view_module_version": "1.2.0",
            "_view_name": "LayoutView",
            "align_content": null,
            "align_items": null,
            "align_self": null,
            "border": null,
            "bottom": null,
            "display": null,
            "flex": null,
            "flex_flow": null,
            "grid_area": null,
            "grid_auto_columns": null,
            "grid_auto_flow": null,
            "grid_auto_rows": null,
            "grid_column": null,
            "grid_gap": null,
            "grid_row": null,
            "grid_template_areas": null,
            "grid_template_columns": null,
            "grid_template_rows": null,
            "height": null,
            "justify_content": null,
            "justify_items": null,
            "left": null,
            "margin": null,
            "max_height": null,
            "max_width": null,
            "min_height": null,
            "min_width": null,
            "object_fit": null,
            "object_position": null,
            "order": null,
            "overflow": null,
            "overflow_x": null,
            "overflow_y": null,
            "padding": null,
            "right": null,
            "top": null,
            "visibility": null,
            "width": null
          }
        },
        "eb73f1a1ec0a449a9b0a548505ea6365": {
          "model_module": "@jupyter-widgets/base",
          "model_name": "LayoutModel",
          "model_module_version": "1.2.0",
          "state": {
            "_model_module": "@jupyter-widgets/base",
            "_model_module_version": "1.2.0",
            "_model_name": "LayoutModel",
            "_view_count": null,
            "_view_module": "@jupyter-widgets/base",
            "_view_module_version": "1.2.0",
            "_view_name": "LayoutView",
            "align_content": null,
            "align_items": null,
            "align_self": null,
            "border": null,
            "bottom": null,
            "display": null,
            "flex": null,
            "flex_flow": null,
            "grid_area": null,
            "grid_auto_columns": null,
            "grid_auto_flow": null,
            "grid_auto_rows": null,
            "grid_column": null,
            "grid_gap": null,
            "grid_row": null,
            "grid_template_areas": null,
            "grid_template_columns": null,
            "grid_template_rows": null,
            "height": null,
            "justify_content": null,
            "justify_items": null,
            "left": null,
            "margin": null,
            "max_height": null,
            "max_width": null,
            "min_height": null,
            "min_width": null,
            "object_fit": null,
            "object_position": null,
            "order": null,
            "overflow": null,
            "overflow_x": null,
            "overflow_y": null,
            "padding": null,
            "right": null,
            "top": null,
            "visibility": null,
            "width": null
          }
        },
        "b526b165ae134992a382bda6850f54c1": {
          "model_module": "@jupyter-widgets/controls",
          "model_name": "DescriptionStyleModel",
          "model_module_version": "1.5.0",
          "state": {
            "_model_module": "@jupyter-widgets/controls",
            "_model_module_version": "1.5.0",
            "_model_name": "DescriptionStyleModel",
            "_view_count": null,
            "_view_module": "@jupyter-widgets/base",
            "_view_module_version": "1.2.0",
            "_view_name": "StyleView",
            "description_width": ""
          }
        },
        "276cd6d702c74bc3a3aa89e0fc1a4f4f": {
          "model_module": "@jupyter-widgets/base",
          "model_name": "LayoutModel",
          "model_module_version": "1.2.0",
          "state": {
            "_model_module": "@jupyter-widgets/base",
            "_model_module_version": "1.2.0",
            "_model_name": "LayoutModel",
            "_view_count": null,
            "_view_module": "@jupyter-widgets/base",
            "_view_module_version": "1.2.0",
            "_view_name": "LayoutView",
            "align_content": null,
            "align_items": null,
            "align_self": null,
            "border": null,
            "bottom": null,
            "display": null,
            "flex": null,
            "flex_flow": null,
            "grid_area": null,
            "grid_auto_columns": null,
            "grid_auto_flow": null,
            "grid_auto_rows": null,
            "grid_column": null,
            "grid_gap": null,
            "grid_row": null,
            "grid_template_areas": null,
            "grid_template_columns": null,
            "grid_template_rows": null,
            "height": null,
            "justify_content": null,
            "justify_items": null,
            "left": null,
            "margin": null,
            "max_height": null,
            "max_width": null,
            "min_height": null,
            "min_width": null,
            "object_fit": null,
            "object_position": null,
            "order": null,
            "overflow": null,
            "overflow_x": null,
            "overflow_y": null,
            "padding": null,
            "right": null,
            "top": null,
            "visibility": null,
            "width": null
          }
        },
        "8c04b8fb87e448499165fa0251c2f6f6": {
          "model_module": "@jupyter-widgets/controls",
          "model_name": "ProgressStyleModel",
          "model_module_version": "1.5.0",
          "state": {
            "_model_module": "@jupyter-widgets/controls",
            "_model_module_version": "1.5.0",
            "_model_name": "ProgressStyleModel",
            "_view_count": null,
            "_view_module": "@jupyter-widgets/base",
            "_view_module_version": "1.2.0",
            "_view_name": "StyleView",
            "bar_color": null,
            "description_width": ""
          }
        },
        "9202e303735b4dc496b7f253e37d000c": {
          "model_module": "@jupyter-widgets/base",
          "model_name": "LayoutModel",
          "model_module_version": "1.2.0",
          "state": {
            "_model_module": "@jupyter-widgets/base",
            "_model_module_version": "1.2.0",
            "_model_name": "LayoutModel",
            "_view_count": null,
            "_view_module": "@jupyter-widgets/base",
            "_view_module_version": "1.2.0",
            "_view_name": "LayoutView",
            "align_content": null,
            "align_items": null,
            "align_self": null,
            "border": null,
            "bottom": null,
            "display": null,
            "flex": null,
            "flex_flow": null,
            "grid_area": null,
            "grid_auto_columns": null,
            "grid_auto_flow": null,
            "grid_auto_rows": null,
            "grid_column": null,
            "grid_gap": null,
            "grid_row": null,
            "grid_template_areas": null,
            "grid_template_columns": null,
            "grid_template_rows": null,
            "height": null,
            "justify_content": null,
            "justify_items": null,
            "left": null,
            "margin": null,
            "max_height": null,
            "max_width": null,
            "min_height": null,
            "min_width": null,
            "object_fit": null,
            "object_position": null,
            "order": null,
            "overflow": null,
            "overflow_x": null,
            "overflow_y": null,
            "padding": null,
            "right": null,
            "top": null,
            "visibility": null,
            "width": null
          }
        },
        "34e9b0f3c16e4e17b3cab7b70f1c8be7": {
          "model_module": "@jupyter-widgets/controls",
          "model_name": "DescriptionStyleModel",
          "model_module_version": "1.5.0",
          "state": {
            "_model_module": "@jupyter-widgets/controls",
            "_model_module_version": "1.5.0",
            "_model_name": "DescriptionStyleModel",
            "_view_count": null,
            "_view_module": "@jupyter-widgets/base",
            "_view_module_version": "1.2.0",
            "_view_name": "StyleView",
            "description_width": ""
          }
        },
        "7f3531a1078e43aa9982a2cef44c0d76": {
          "model_module": "@jupyter-widgets/controls",
          "model_name": "HBoxModel",
          "model_module_version": "1.5.0",
          "state": {
            "_dom_classes": [],
            "_model_module": "@jupyter-widgets/controls",
            "_model_module_version": "1.5.0",
            "_model_name": "HBoxModel",
            "_view_count": null,
            "_view_module": "@jupyter-widgets/controls",
            "_view_module_version": "1.5.0",
            "_view_name": "HBoxView",
            "box_style": "",
            "children": [
              "IPY_MODEL_41b0e88c62e248599b5712a8430f5299",
              "IPY_MODEL_8a401eaa1b34498ea500d73926558b1d",
              "IPY_MODEL_4c8bfbe1ff7d4f1dad1ca8533b656a61"
            ],
            "layout": "IPY_MODEL_5c8235ff76234f3b90df31aa09c5c7e5"
          }
        },
        "41b0e88c62e248599b5712a8430f5299": {
          "model_module": "@jupyter-widgets/controls",
          "model_name": "HTMLModel",
          "model_module_version": "1.5.0",
          "state": {
            "_dom_classes": [],
            "_model_module": "@jupyter-widgets/controls",
            "_model_module_version": "1.5.0",
            "_model_name": "HTMLModel",
            "_view_count": null,
            "_view_module": "@jupyter-widgets/controls",
            "_view_module_version": "1.5.0",
            "_view_name": "HTMLView",
            "description": "",
            "description_tooltip": null,
            "layout": "IPY_MODEL_1c53c0218eb647f098ff12efb0c1e01c",
            "placeholder": "​",
            "style": "IPY_MODEL_16fb8eca432f4c488cc30600d0e3094f",
            "value": "100%"
          }
        },
        "8a401eaa1b34498ea500d73926558b1d": {
          "model_module": "@jupyter-widgets/controls",
          "model_name": "FloatProgressModel",
          "model_module_version": "1.5.0",
          "state": {
            "_dom_classes": [],
            "_model_module": "@jupyter-widgets/controls",
            "_model_module_version": "1.5.0",
            "_model_name": "FloatProgressModel",
            "_view_count": null,
            "_view_module": "@jupyter-widgets/controls",
            "_view_module_version": "1.5.0",
            "_view_name": "ProgressView",
            "bar_style": "success",
            "description": "",
            "description_tooltip": null,
            "layout": "IPY_MODEL_ef192a8b400b464c9c3826b62e3ab7bd",
            "max": 11,
            "min": 0,
            "orientation": "horizontal",
            "style": "IPY_MODEL_1b3090b184a940808abdb5c8c9899e53",
            "value": 11
          }
        },
        "4c8bfbe1ff7d4f1dad1ca8533b656a61": {
          "model_module": "@jupyter-widgets/controls",
          "model_name": "HTMLModel",
          "model_module_version": "1.5.0",
          "state": {
            "_dom_classes": [],
            "_model_module": "@jupyter-widgets/controls",
            "_model_module_version": "1.5.0",
            "_model_name": "HTMLModel",
            "_view_count": null,
            "_view_module": "@jupyter-widgets/controls",
            "_view_module_version": "1.5.0",
            "_view_name": "HTMLView",
            "description": "",
            "description_tooltip": null,
            "layout": "IPY_MODEL_02ccf4c3e16b40778d298fe3a89bc246",
            "placeholder": "​",
            "style": "IPY_MODEL_87010de0f2d64e15adcdf7a243ef8bfc",
            "value": " 11/11 [00:00&lt;00:00,  9.42it/s]"
          }
        },
        "5c8235ff76234f3b90df31aa09c5c7e5": {
          "model_module": "@jupyter-widgets/base",
          "model_name": "LayoutModel",
          "model_module_version": "1.2.0",
          "state": {
            "_model_module": "@jupyter-widgets/base",
            "_model_module_version": "1.2.0",
            "_model_name": "LayoutModel",
            "_view_count": null,
            "_view_module": "@jupyter-widgets/base",
            "_view_module_version": "1.2.0",
            "_view_name": "LayoutView",
            "align_content": null,
            "align_items": null,
            "align_self": null,
            "border": null,
            "bottom": null,
            "display": null,
            "flex": null,
            "flex_flow": null,
            "grid_area": null,
            "grid_auto_columns": null,
            "grid_auto_flow": null,
            "grid_auto_rows": null,
            "grid_column": null,
            "grid_gap": null,
            "grid_row": null,
            "grid_template_areas": null,
            "grid_template_columns": null,
            "grid_template_rows": null,
            "height": null,
            "justify_content": null,
            "justify_items": null,
            "left": null,
            "margin": null,
            "max_height": null,
            "max_width": null,
            "min_height": null,
            "min_width": null,
            "object_fit": null,
            "object_position": null,
            "order": null,
            "overflow": null,
            "overflow_x": null,
            "overflow_y": null,
            "padding": null,
            "right": null,
            "top": null,
            "visibility": null,
            "width": null
          }
        },
        "1c53c0218eb647f098ff12efb0c1e01c": {
          "model_module": "@jupyter-widgets/base",
          "model_name": "LayoutModel",
          "model_module_version": "1.2.0",
          "state": {
            "_model_module": "@jupyter-widgets/base",
            "_model_module_version": "1.2.0",
            "_model_name": "LayoutModel",
            "_view_count": null,
            "_view_module": "@jupyter-widgets/base",
            "_view_module_version": "1.2.0",
            "_view_name": "LayoutView",
            "align_content": null,
            "align_items": null,
            "align_self": null,
            "border": null,
            "bottom": null,
            "display": null,
            "flex": null,
            "flex_flow": null,
            "grid_area": null,
            "grid_auto_columns": null,
            "grid_auto_flow": null,
            "grid_auto_rows": null,
            "grid_column": null,
            "grid_gap": null,
            "grid_row": null,
            "grid_template_areas": null,
            "grid_template_columns": null,
            "grid_template_rows": null,
            "height": null,
            "justify_content": null,
            "justify_items": null,
            "left": null,
            "margin": null,
            "max_height": null,
            "max_width": null,
            "min_height": null,
            "min_width": null,
            "object_fit": null,
            "object_position": null,
            "order": null,
            "overflow": null,
            "overflow_x": null,
            "overflow_y": null,
            "padding": null,
            "right": null,
            "top": null,
            "visibility": null,
            "width": null
          }
        },
        "16fb8eca432f4c488cc30600d0e3094f": {
          "model_module": "@jupyter-widgets/controls",
          "model_name": "DescriptionStyleModel",
          "model_module_version": "1.5.0",
          "state": {
            "_model_module": "@jupyter-widgets/controls",
            "_model_module_version": "1.5.0",
            "_model_name": "DescriptionStyleModel",
            "_view_count": null,
            "_view_module": "@jupyter-widgets/base",
            "_view_module_version": "1.2.0",
            "_view_name": "StyleView",
            "description_width": ""
          }
        },
        "ef192a8b400b464c9c3826b62e3ab7bd": {
          "model_module": "@jupyter-widgets/base",
          "model_name": "LayoutModel",
          "model_module_version": "1.2.0",
          "state": {
            "_model_module": "@jupyter-widgets/base",
            "_model_module_version": "1.2.0",
            "_model_name": "LayoutModel",
            "_view_count": null,
            "_view_module": "@jupyter-widgets/base",
            "_view_module_version": "1.2.0",
            "_view_name": "LayoutView",
            "align_content": null,
            "align_items": null,
            "align_self": null,
            "border": null,
            "bottom": null,
            "display": null,
            "flex": null,
            "flex_flow": null,
            "grid_area": null,
            "grid_auto_columns": null,
            "grid_auto_flow": null,
            "grid_auto_rows": null,
            "grid_column": null,
            "grid_gap": null,
            "grid_row": null,
            "grid_template_areas": null,
            "grid_template_columns": null,
            "grid_template_rows": null,
            "height": null,
            "justify_content": null,
            "justify_items": null,
            "left": null,
            "margin": null,
            "max_height": null,
            "max_width": null,
            "min_height": null,
            "min_width": null,
            "object_fit": null,
            "object_position": null,
            "order": null,
            "overflow": null,
            "overflow_x": null,
            "overflow_y": null,
            "padding": null,
            "right": null,
            "top": null,
            "visibility": null,
            "width": null
          }
        },
        "1b3090b184a940808abdb5c8c9899e53": {
          "model_module": "@jupyter-widgets/controls",
          "model_name": "ProgressStyleModel",
          "model_module_version": "1.5.0",
          "state": {
            "_model_module": "@jupyter-widgets/controls",
            "_model_module_version": "1.5.0",
            "_model_name": "ProgressStyleModel",
            "_view_count": null,
            "_view_module": "@jupyter-widgets/base",
            "_view_module_version": "1.2.0",
            "_view_name": "StyleView",
            "bar_color": null,
            "description_width": ""
          }
        },
        "02ccf4c3e16b40778d298fe3a89bc246": {
          "model_module": "@jupyter-widgets/base",
          "model_name": "LayoutModel",
          "model_module_version": "1.2.0",
          "state": {
            "_model_module": "@jupyter-widgets/base",
            "_model_module_version": "1.2.0",
            "_model_name": "LayoutModel",
            "_view_count": null,
            "_view_module": "@jupyter-widgets/base",
            "_view_module_version": "1.2.0",
            "_view_name": "LayoutView",
            "align_content": null,
            "align_items": null,
            "align_self": null,
            "border": null,
            "bottom": null,
            "display": null,
            "flex": null,
            "flex_flow": null,
            "grid_area": null,
            "grid_auto_columns": null,
            "grid_auto_flow": null,
            "grid_auto_rows": null,
            "grid_column": null,
            "grid_gap": null,
            "grid_row": null,
            "grid_template_areas": null,
            "grid_template_columns": null,
            "grid_template_rows": null,
            "height": null,
            "justify_content": null,
            "justify_items": null,
            "left": null,
            "margin": null,
            "max_height": null,
            "max_width": null,
            "min_height": null,
            "min_width": null,
            "object_fit": null,
            "object_position": null,
            "order": null,
            "overflow": null,
            "overflow_x": null,
            "overflow_y": null,
            "padding": null,
            "right": null,
            "top": null,
            "visibility": null,
            "width": null
          }
        },
        "87010de0f2d64e15adcdf7a243ef8bfc": {
          "model_module": "@jupyter-widgets/controls",
          "model_name": "DescriptionStyleModel",
          "model_module_version": "1.5.0",
          "state": {
            "_model_module": "@jupyter-widgets/controls",
            "_model_module_version": "1.5.0",
            "_model_name": "DescriptionStyleModel",
            "_view_count": null,
            "_view_module": "@jupyter-widgets/base",
            "_view_module_version": "1.2.0",
            "_view_name": "StyleView",
            "description_width": ""
          }
        }
      }
    }
  },
  "cells": [
    {
      "cell_type": "markdown",
      "source": [
        "# Introduction\n",
        "\n",
        "The application of Machine Learning (ML) to tabular data is one of the most popular tasks in the ML community because many areas (e.g., finance, medical) commonly use tabular data to store a set of information. The process of building an ML model for tabular data is often messy and less organized. This may intimidate newcomers in the ML community as the entire workflow seems to be vague and less-intuitive. Nevertheless, there are simply just 2 things that must be understood in order to build a good ML model for tabular data.:\n",
        "\n",
        "1. How to perform a specific step? \n",
        "2. Which step should be performed first? \n",
        "\n",
        "The first one focuses on various techniques to achieve a specific step (for example, how to handle skewed features with log transformation), while the second refers to the entire workflow of building an ML model for a specific dataset. The second point is crucial as performing the wrong workflow is prone to serious issues (e.g., information leakage or degraded performance). However, the existing learning resources out there often show different workflows when applied to different tasks or a specific dataset, while mainly just repeating a similar pattern. Therefore, in this project, I attempt to establish the **same workflow** in a **jupyter notebook** that can be used to solve various predictive tasks, including classification and regression. I also demonstrate that the notebook I created is capable of achieving decent metric scores across different datasets.\n",
        "\n",
        "\n",
        "\n",
        "\n",
        "\n",
        "\n",
        "\n",
        "\n",
        "---\n",
        "\n",
        "\n",
        ">  Enjoy your journey. Explore sufficiently, stop when you are tired. Do not aim for a perfect model, decent one is enough.\n",
        "\n",
        "\n",
        "---\n",
        "\n",
        "Click on the `Table of contents` ![menu_icon_resized.png](data:image/png;base64,iVBORw0KGgoAAAANSUhEUgAAABQAAAAUCAMAAAC6V+0/AAAABGdBTUEAALGPC/xhBQAAACBjSFJNAAB6JgAAgIQAAPoAAACA6AAAdTAAAOpgAAA6mAAAF3CculE8AAACAVBMVEUAAAAdHRsdHRsdHRsdHRsdHRsdHRsdHRsdHRsdHRsdHRsdHRsdHRsdHRsdHRsdHRsdHRsdHRsdHRsdHRsdHRsdHRsdHRsdHRsdHRsdHRsdHRsdHRsdHRsdHRsdHRsdHRsdHRsdHRsdHRsdHRsdHRsdHRsdHRsdHRsdHRsdHRsdHRsdHRsdHRsdHRsdHRsdHRsdHRsdHRsdHRsdHRsdHRsdHRsdHRsdHRsdHRsdHRsdHRsdHRsdHRsdHRsdHRsdHRsdHRsdHRsdHRsdHRsdHRsdHRsdHRsdHRsdHRsdHRsdHRsdHRsdHRsdHRsdHRsdHRsdHRsdHRsdHRsdHRsdHRsdHRsdHRsdHRsdHRsdHRsdHRsdHRsdHRsdHRsdHRsdHRsdHRsdHRsdHRsdHRsdHRsdHRsdHRsdHRsdHRsdHRsdHRsdHRsdHRsdHRsdHRsdHRsdHRsdHRsdHRsdHRsdHRsdHRsdHRsdHRsdHRsdHRsdHRsdHRsdHRsdHRsdHRsdHRsdHRsdHRsdHRsdHRsdHRsdHRsdHRsdHRsdHRsdHRsdHRsdHRsdHRsdHRsdHRsdHRsdHRsdHRsdHRsdHRsdHRsdHRsdHRsdHRsdHRsdHRsdHRsdHRsdHRsdHRsdHRsdHRsdHRsdHRsdHRsdHRsdHRsdHRsdHRsdHRsdHRsdHRv///8deWRnAAAAqXRSTlMAABR5aRVxm5qampt4FFv56XHx+FssuaYzr9jX19fYtywACggJExMTExMKAAIjHQEgNjY2NjYjAj/byEzS8/Ly8vPaP1Hz4mTq8lEJS0AIRmhnZ2doSwkGBAUNDQ0NDQYpsZ4up9HQ0NDRrylc+upz8vhcF4JyGXqko6OjpIEXD2dZD2CIh4eHiGcPWPjobvD3WDPHtDy95OPj4+TGMwETEBIhISEhIRQBV7zbiQAAAAFiS0dEqr4GV74AAAAJcEhZcwAARt4AAEbeAY4mMlsAAAAHdElNRQfmBR0LCis8XKwmAAAA6UlEQVQY02NgIBowMbOwsrFzcMIAFzcPLwMfv4Cg0EpkICzCIComLiEpJS0DA7Jy8goMikrKjCqqauowoKGppc2go6unb2BoZAwDJqZm5gwWllbWNrZ29jDg4OjkzODi6ubugWKRpxeDt4+vn39AYBAMBIeEhjEwhkcwRkZFx8BAbFw8I0NCYlJySmpaOgxkZGZlM+Tk5uUXoJhZWMRQXFJaVl5RWQUD1TW1ddgDpL6hsam5pbUNBto7OrsYunt6+/pRzJwwkWHS5ClTp02fMRMGZs2eM5dh3vwFjAsXLV4CA0uXLV+B1R4AnnF6TcodkLMAAAAldEVYdGRhdGU6Y3JlYXRlADIwMjItMDUtMjlUMTE6MTA6NDMtMDQ6MDB4jzvPAAAAJXRFWHRkYXRlOm1vZGlmeQAyMDIyLTA1LTI5VDExOjEwOjQzLTA0OjAwCdKDcwAAABl0RVh0U29mdHdhcmUAd3d3Lmlua3NjYXBlLm9yZ5vuPBoAAAAASUVORK5CYII=) ![menu_icon.png](data:image/png;base64,iVBORw0KGgoAAAANSUhEUgAAABMAAAANCAQAAADhhZ2sAAAABGdBTUEAALGPC/xhBQAAACBjSFJNAAB6JgAAgIQAAPoAAACA6AAAdTAAAOpgAAA6mAAAF3CculE8AAAAAmJLR0QA/4ePzL8AAAAHdElNRQfmBQ8HJTBXLzvXAAAAx0lEQVQY04WRMWpCQRRFz8TRaFxICBauQUs3oKtJkU6IpAshTUCQVL8JE4giIliHZBvaxEKF7/w/N4WWM8l57YX7znso0163uta3goro5JqgH0lT9ZUrzdpyT5cXloxpIWIUOKMLqhwRlhpxRG6p0KCgpEYzESvxRiM6PPHBAzeJ0pJ3tJU00+BPhY3lkQ6vrMgSCgaPM7LUORC45CqxW2BnEeHsU2ISMRnd0eWZOUNaKFJr8LiTwn9f2FgcPRZ88kU7cRDP2y/9gMWAfSRh3gAAACV0RVh0ZGF0ZTpjcmVhdGUAMjAyMi0wNS0xNVQwNzozNzo0OC0wNDowMAlqe2oAAAAldEVYdGRhdGU6bW9kaWZ5ADIwMjItMDUtMTVUMDc6Mzc6NDgtMDQ6MDB4N8PWAAAAAElFTkSuQmCC) icon on the top left toolbar to view the outline of overall steps."
      ],
      "metadata": {
        "id": "auv20twlF80l"
      }
    },
    {
      "cell_type": "markdown",
      "source": [
        "TO-DO LIST\n",
        "\n",
        "---\n",
        "\n",
        "\n",
        "List of experiments :\n",
        "\n",
        "1. -\n",
        "2. -\n",
        "\n",
        "\n",
        "\n",
        "Or \n",
        "\n",
        "\n",
        "Permutation the N number of experiments\n",
        "\n",
        "==== Permutate with 2<sup>4</sup> number of permutation if possible ==== \n",
        "\n",
        "1. -\n",
        "2. -\n",
        "\n",
        "*As the baseline is obtained, it's a good idea to plan ahead the list of experiments to improve the baseline rather than mindlessly trying different experiments over and over again. With a plan in hand, it helps us track what has been done and what hasn't.* \n",
        "\n",
        "\n"
      ],
      "metadata": {
        "id": "htpkI2SBiSHG"
      }
    },
    {
      "cell_type": "markdown",
      "source": [
        "## step 1 : install all dependencies"
      ],
      "metadata": {
        "id": "p6TsAN1MAf84"
      }
    },
    {
      "cell_type": "code",
      "source": [
        "!pip install catboost"
      ],
      "metadata": {
        "id": "hbqfx66RAfWa",
        "colab": {
          "base_uri": "https://localhost:8080/"
        },
        "outputId": "b01508b5-b4a5-406a-b409-2c171bb7ca2b"
      },
      "execution_count": 1,
      "outputs": [
        {
          "output_type": "stream",
          "name": "stdout",
          "text": [
            "Looking in indexes: https://pypi.org/simple, https://us-python.pkg.dev/colab-wheels/public/simple/\n",
            "Collecting catboost\n",
            "  Downloading catboost-1.0.6-cp37-none-manylinux1_x86_64.whl (76.6 MB)\n",
            "\u001b[K     |████████████████████████████████| 76.6 MB 1.2 MB/s \n",
            "\u001b[?25hRequirement already satisfied: numpy>=1.16.0 in /usr/local/lib/python3.7/dist-packages (from catboost) (1.21.6)\n",
            "Requirement already satisfied: graphviz in /usr/local/lib/python3.7/dist-packages (from catboost) (0.10.1)\n",
            "Requirement already satisfied: scipy in /usr/local/lib/python3.7/dist-packages (from catboost) (1.4.1)\n",
            "Requirement already satisfied: plotly in /usr/local/lib/python3.7/dist-packages (from catboost) (5.5.0)\n",
            "Requirement already satisfied: six in /usr/local/lib/python3.7/dist-packages (from catboost) (1.15.0)\n",
            "Requirement already satisfied: matplotlib in /usr/local/lib/python3.7/dist-packages (from catboost) (3.2.2)\n",
            "Requirement already satisfied: pandas>=0.24.0 in /usr/local/lib/python3.7/dist-packages (from catboost) (1.3.5)\n",
            "Requirement already satisfied: pytz>=2017.3 in /usr/local/lib/python3.7/dist-packages (from pandas>=0.24.0->catboost) (2022.1)\n",
            "Requirement already satisfied: python-dateutil>=2.7.3 in /usr/local/lib/python3.7/dist-packages (from pandas>=0.24.0->catboost) (2.8.2)\n",
            "Requirement already satisfied: pyparsing!=2.0.4,!=2.1.2,!=2.1.6,>=2.0.1 in /usr/local/lib/python3.7/dist-packages (from matplotlib->catboost) (3.0.9)\n",
            "Requirement already satisfied: cycler>=0.10 in /usr/local/lib/python3.7/dist-packages (from matplotlib->catboost) (0.11.0)\n",
            "Requirement already satisfied: kiwisolver>=1.0.1 in /usr/local/lib/python3.7/dist-packages (from matplotlib->catboost) (1.4.3)\n",
            "Requirement already satisfied: typing-extensions in /usr/local/lib/python3.7/dist-packages (from kiwisolver>=1.0.1->matplotlib->catboost) (4.1.1)\n",
            "Requirement already satisfied: tenacity>=6.2.0 in /usr/local/lib/python3.7/dist-packages (from plotly->catboost) (8.0.1)\n",
            "Installing collected packages: catboost\n",
            "Successfully installed catboost-1.0.6\n"
          ]
        }
      ]
    },
    {
      "cell_type": "markdown",
      "source": [
        "## step 2 : import all libraries"
      ],
      "metadata": {
        "id": "B36YyYRMOT9x"
      }
    },
    {
      "cell_type": "code",
      "source": [
        "import pandas as pd\n",
        "import numpy as np \n",
        "import seaborn as sns\n",
        "import missingno\n",
        "import matplotlib.pyplot as plt\n",
        "\n",
        "from collections import Counter\n",
        "from numpy import percentile\n",
        "from typing import Dict\n",
        "\n",
        "from sklearn.preprocessing import StandardScaler, MinMaxScaler\n",
        "from sklearn.metrics import r2_score, mean_squared_error, mean_absolute_error,mean_absolute_percentage_error\n",
        "from sklearn.metrics import precision_recall_fscore_support as scorer\n",
        "from sklearn.model_selection import GridSearchCV\n",
        "from sklearn.pipeline import Pipeline\n",
        "\n",
        "import warnings\n",
        "warnings.filterwarnings('ignore')"
      ],
      "metadata": {
        "id": "4oNKgI12dYg1"
      },
      "execution_count": 2,
      "outputs": []
    },
    {
      "cell_type": "markdown",
      "source": [
        "## step 3 : store any utility function here."
      ],
      "metadata": {
        "id": "eEZYXpI7JEZw"
      }
    },
    {
      "cell_type": "code",
      "source": [
        "def extract_missing_values_col_names(df):\n",
        "  missing_val_col_names = []\n",
        "  for col in tqdm(df.columns):\n",
        "    if(df[col].isnull().any()):\n",
        "      missing_val_col_names.append(col)\n",
        "\n",
        "  return missing_val_col_names\n",
        "\n",
        "def eval_class(model, X_train, X_test, y_train, y_test, plot_auc = False):\n",
        "  train_predictions = model.predict(X_train)\n",
        "  test_predictions = model.predict(X_test)\n",
        "\n",
        "  prec_train, rec_train, f1_train, sup_train = scorer(y_train, train_predictions, average = 'macro')\n",
        "  prec_test, rec_test, f1_test, sup_test = scorer(y_test, test_predictions, average = 'macro')\n",
        "  \n",
        "  data = {'train': [prec_train, rec_train, f1_train, sup_train], \n",
        "           'test': [prec_test, rec_test, f1_test, sup_test]}\n",
        "\n",
        "  df = pd.DataFrame.from_dict(data, orient='index',\n",
        "                      columns=['precision', 'recall', 'f1', 'support'])\n",
        " \n",
        "  return df \n",
        "\n",
        "def eval_regres(model, x_train = None, \n",
        "         y_train = None, x_test = None,\n",
        "         y_test = None, mse_squared = False):\n",
        "\n",
        "    results = {'train' : [], 'test' : []}\n",
        "    r2_train = []\n",
        "    r2_test = []    \n",
        "    \n",
        "    mse_train = []\n",
        "    mse_test = []\n",
        "\n",
        "    mae_train = []\n",
        "    mae_test = []\n",
        "\n",
        "    mape_train = []\n",
        "    mape_test = []\n",
        "\n",
        "    y_pred_train = model.predict(x_train)\n",
        "    r2_train.append(r2_score(y_train, y_pred_train))\n",
        "    mse_train.append(mean_squared_error(y_train, y_pred_train, squared = mse_squared))\n",
        "    mae_train.append(mean_absolute_error(y_train, y_pred_train))\n",
        "    mape_train.append(mean_absolute_percentage_error(y_train, y_pred_train))\n",
        "\n",
        "    y_pred_test = model.predict(x_test)\n",
        "    r2_test.append(r2_score(y_test, y_pred_test))\n",
        "    mse_test.append(mean_squared_error(y_test, y_pred_test, squared = mse_squared))\n",
        "    mae_test.append(mean_absolute_error(y_test, y_pred_test))\n",
        "    mape_test.append(mean_absolute_percentage_error(y_test, y_pred_test))\n",
        "\n",
        "    results['train'].append(np.mean(r2_train))\n",
        "    results['test'].append(np.mean(r2_test))\n",
        "\n",
        "    results['train'].append(np.mean(mse_train))\n",
        "    results['test'].append(np.mean(mse_test))\n",
        "\n",
        "    results['train'].append(np.mean(mae_train))\n",
        "    results['test'].append(np.mean(mae_test))\n",
        "\n",
        "    results['train'].append(np.mean(mape_train))\n",
        "    results['test'].append(np.mean(mape_test))    \n",
        "\n",
        "    results_df = pd.DataFrame.from_dict(results, orient='index',\n",
        "                        columns=['r2', 'rmse', 'mae', 'mape'])    \n",
        "\n",
        "\n",
        "    return results_df  \n",
        "\n",
        "def extract_multicolin_features(df, threshold = 0.75, plot = False):\n",
        "  correlation_matrix = df.corr()\n",
        "\n",
        "  if plot:\n",
        "    plt.figure(figsize = (12, 10))\n",
        "    sns.heatmap(correlation_matrix, annot = True, cmap=\"Greens\")\n",
        "    plt.show()\n",
        "  \n",
        "  highly_correlated_features = []\n",
        "  \n",
        "  for col_name, each_column in correlation_matrix.items():  \n",
        "    \n",
        "    for row_name, corr_value in each_column.items():                \n",
        "      if col_name != row_name:      \n",
        "        if abs(corr_value) >= threshold:\n",
        "          highly_correlated_features.append(row_name)           \n",
        "    \n",
        "  return [*Counter(highly_correlated_features)], correlation_matrix\n",
        "\n",
        "\n",
        "def identify_or_extract_outlier_indices_with_iqr(df, drop_outliers = False, \n",
        "                                                 impute_with_median = False,\n",
        "                                                 extract_zero_outliers = False):\n",
        "  outlier_sample_indices = []\n",
        "  zero_outliers = []\n",
        "\n",
        "  for feature_idx, feature_name in enumerate(df.columns):\n",
        "    feature_distribution = df[feature_name]\n",
        "    \n",
        "    # calculate interquartile range\n",
        "    q25, q75 = percentile(feature_distribution, 25), percentile(feature_distribution, 75)  \n",
        "    iqr = q75 - q25\n",
        "    # calculate the outlier cutoff\n",
        "    cut_off = iqr * 1.5\n",
        "    lower, upper = q25 - cut_off, q75 + cut_off  \n",
        "      \n",
        "    # identify outliers\n",
        "    num_of_outlier = 0\n",
        "    for sample_idx, sample_val in enumerate(feature_distribution):\n",
        "      # if indices hasn't been added yet \n",
        "      if sample_val < lower or sample_val > upper:\n",
        "        num_of_outlier += 1\n",
        "\n",
        "        # if impute with median\n",
        "        if impute_with_median:\n",
        "          # step 1 : calculate the median of that particular feature\n",
        "          median = df[feature_name].median()\n",
        "          # step 2 : impute the outlier with the median \n",
        "          df[feature_name][sample_idx] = median\n",
        "\n",
        "        if sample_idx not in outlier_sample_indices:\n",
        "          outlier_sample_indices.append(sample_idx)\n",
        "    \n",
        "    if extract_zero_outliers:\n",
        "      if num_of_outlier == 0:        \n",
        "        zero_outliers.append(feature_name)\n",
        "    print(f\"> feature [{feature_name}] has `{num_of_outlier}` outliers\")\n",
        "  \n",
        "  print()\n",
        "  print(f\"Total outlier samples = {len(outlier_sample_indices)}\")\n",
        "\n",
        "  if drop_outliers and (impute_with_median is False):\n",
        "    df.drop(df.index[outlier_sample_indices], inplace = True)\n",
        "\n",
        "  return df, zero_outliers"
      ],
      "metadata": {
        "id": "SYyRQ278K3jJ"
      },
      "execution_count": 3,
      "outputs": []
    },
    {
      "cell_type": "markdown",
      "source": [
        "## step 4 : load the dataset"
      ],
      "metadata": {
        "id": "ZFpSlDQ0Oi7U"
      }
    },
    {
      "cell_type": "code",
      "execution_count": 4,
      "metadata": {
        "colab": {
          "base_uri": "https://localhost:8080/"
        },
        "id": "a71rZSXqwcD9",
        "outputId": "da615bb1-1148-4768-ce9f-0af99a818378"
      },
      "outputs": [
        {
          "output_type": "stream",
          "name": "stdout",
          "text": [
            "(70000, 13)\n",
            "(30000, 12)\n"
          ]
        }
      ],
      "source": [
        "train_path = '/content/TRAIN.csv'\n",
        "train_data = pd.read_csv(train_path)\n",
        "print(train_data.shape)\n",
        "\n",
        "test_path = '/content/TEST.csv'\n",
        "test_data = pd.read_csv(test_path)\n",
        "print(test_data.shape)"
      ]
    },
    {
      "cell_type": "markdown",
      "source": [
        "## step 5 : take a peek on the subset of data"
      ],
      "metadata": {
        "id": "RrpG1G-3Miqr"
      }
    },
    {
      "cell_type": "code",
      "source": [
        "train_data.head(5)"
      ],
      "metadata": {
        "colab": {
          "base_uri": "https://localhost:8080/",
          "height": 206
        },
        "id": "CszWyTfXMjMI",
        "outputId": "df51cddc-6caa-4b35-bcab-68d7e03d98c5"
      },
      "execution_count": 5,
      "outputs": [
        {
          "output_type": "execute_result",
          "data": {
            "text/plain": [
              "   id        age  weight  height  sex  stress  doctor  sport  pernicious_1  \\\n",
              "0   0  50.357290    62.0     168    2       1       1      1             0   \n",
              "1   1  55.381246    85.0     156    1       3       1      1             0   \n",
              "2   2  51.627652    64.0     165    1       3       1      0             0   \n",
              "3   3  48.249144    82.0     169    2       1       1      1             0   \n",
              "4   4  47.841205    56.0     156    1       1       1      0             0   \n",
              "\n",
              "   pernicious_2  ubp  lbp  insomnia  \n",
              "0             0  110   80         0  \n",
              "1             0  140   90         1  \n",
              "2             0  130   70         1  \n",
              "3             0  150  100         1  \n",
              "4             0  100   60         0  "
            ],
            "text/html": [
              "\n",
              "  <div id=\"df-084e895d-e665-4fb4-8040-bbcb682959f5\">\n",
              "    <div class=\"colab-df-container\">\n",
              "      <div>\n",
              "<style scoped>\n",
              "    .dataframe tbody tr th:only-of-type {\n",
              "        vertical-align: middle;\n",
              "    }\n",
              "\n",
              "    .dataframe tbody tr th {\n",
              "        vertical-align: top;\n",
              "    }\n",
              "\n",
              "    .dataframe thead th {\n",
              "        text-align: right;\n",
              "    }\n",
              "</style>\n",
              "<table border=\"1\" class=\"dataframe\">\n",
              "  <thead>\n",
              "    <tr style=\"text-align: right;\">\n",
              "      <th></th>\n",
              "      <th>id</th>\n",
              "      <th>age</th>\n",
              "      <th>weight</th>\n",
              "      <th>height</th>\n",
              "      <th>sex</th>\n",
              "      <th>stress</th>\n",
              "      <th>doctor</th>\n",
              "      <th>sport</th>\n",
              "      <th>pernicious_1</th>\n",
              "      <th>pernicious_2</th>\n",
              "      <th>ubp</th>\n",
              "      <th>lbp</th>\n",
              "      <th>insomnia</th>\n",
              "    </tr>\n",
              "  </thead>\n",
              "  <tbody>\n",
              "    <tr>\n",
              "      <th>0</th>\n",
              "      <td>0</td>\n",
              "      <td>50.357290</td>\n",
              "      <td>62.0</td>\n",
              "      <td>168</td>\n",
              "      <td>2</td>\n",
              "      <td>1</td>\n",
              "      <td>1</td>\n",
              "      <td>1</td>\n",
              "      <td>0</td>\n",
              "      <td>0</td>\n",
              "      <td>110</td>\n",
              "      <td>80</td>\n",
              "      <td>0</td>\n",
              "    </tr>\n",
              "    <tr>\n",
              "      <th>1</th>\n",
              "      <td>1</td>\n",
              "      <td>55.381246</td>\n",
              "      <td>85.0</td>\n",
              "      <td>156</td>\n",
              "      <td>1</td>\n",
              "      <td>3</td>\n",
              "      <td>1</td>\n",
              "      <td>1</td>\n",
              "      <td>0</td>\n",
              "      <td>0</td>\n",
              "      <td>140</td>\n",
              "      <td>90</td>\n",
              "      <td>1</td>\n",
              "    </tr>\n",
              "    <tr>\n",
              "      <th>2</th>\n",
              "      <td>2</td>\n",
              "      <td>51.627652</td>\n",
              "      <td>64.0</td>\n",
              "      <td>165</td>\n",
              "      <td>1</td>\n",
              "      <td>3</td>\n",
              "      <td>1</td>\n",
              "      <td>0</td>\n",
              "      <td>0</td>\n",
              "      <td>0</td>\n",
              "      <td>130</td>\n",
              "      <td>70</td>\n",
              "      <td>1</td>\n",
              "    </tr>\n",
              "    <tr>\n",
              "      <th>3</th>\n",
              "      <td>3</td>\n",
              "      <td>48.249144</td>\n",
              "      <td>82.0</td>\n",
              "      <td>169</td>\n",
              "      <td>2</td>\n",
              "      <td>1</td>\n",
              "      <td>1</td>\n",
              "      <td>1</td>\n",
              "      <td>0</td>\n",
              "      <td>0</td>\n",
              "      <td>150</td>\n",
              "      <td>100</td>\n",
              "      <td>1</td>\n",
              "    </tr>\n",
              "    <tr>\n",
              "      <th>4</th>\n",
              "      <td>4</td>\n",
              "      <td>47.841205</td>\n",
              "      <td>56.0</td>\n",
              "      <td>156</td>\n",
              "      <td>1</td>\n",
              "      <td>1</td>\n",
              "      <td>1</td>\n",
              "      <td>0</td>\n",
              "      <td>0</td>\n",
              "      <td>0</td>\n",
              "      <td>100</td>\n",
              "      <td>60</td>\n",
              "      <td>0</td>\n",
              "    </tr>\n",
              "  </tbody>\n",
              "</table>\n",
              "</div>\n",
              "      <button class=\"colab-df-convert\" onclick=\"convertToInteractive('df-084e895d-e665-4fb4-8040-bbcb682959f5')\"\n",
              "              title=\"Convert this dataframe to an interactive table.\"\n",
              "              style=\"display:none;\">\n",
              "        \n",
              "  <svg xmlns=\"http://www.w3.org/2000/svg\" height=\"24px\"viewBox=\"0 0 24 24\"\n",
              "       width=\"24px\">\n",
              "    <path d=\"M0 0h24v24H0V0z\" fill=\"none\"/>\n",
              "    <path d=\"M18.56 5.44l.94 2.06.94-2.06 2.06-.94-2.06-.94-.94-2.06-.94 2.06-2.06.94zm-11 1L8.5 8.5l.94-2.06 2.06-.94-2.06-.94L8.5 2.5l-.94 2.06-2.06.94zm10 10l.94 2.06.94-2.06 2.06-.94-2.06-.94-.94-2.06-.94 2.06-2.06.94z\"/><path d=\"M17.41 7.96l-1.37-1.37c-.4-.4-.92-.59-1.43-.59-.52 0-1.04.2-1.43.59L10.3 9.45l-7.72 7.72c-.78.78-.78 2.05 0 2.83L4 21.41c.39.39.9.59 1.41.59.51 0 1.02-.2 1.41-.59l7.78-7.78 2.81-2.81c.8-.78.8-2.07 0-2.86zM5.41 20L4 18.59l7.72-7.72 1.47 1.35L5.41 20z\"/>\n",
              "  </svg>\n",
              "      </button>\n",
              "      \n",
              "  <style>\n",
              "    .colab-df-container {\n",
              "      display:flex;\n",
              "      flex-wrap:wrap;\n",
              "      gap: 12px;\n",
              "    }\n",
              "\n",
              "    .colab-df-convert {\n",
              "      background-color: #E8F0FE;\n",
              "      border: none;\n",
              "      border-radius: 50%;\n",
              "      cursor: pointer;\n",
              "      display: none;\n",
              "      fill: #1967D2;\n",
              "      height: 32px;\n",
              "      padding: 0 0 0 0;\n",
              "      width: 32px;\n",
              "    }\n",
              "\n",
              "    .colab-df-convert:hover {\n",
              "      background-color: #E2EBFA;\n",
              "      box-shadow: 0px 1px 2px rgba(60, 64, 67, 0.3), 0px 1px 3px 1px rgba(60, 64, 67, 0.15);\n",
              "      fill: #174EA6;\n",
              "    }\n",
              "\n",
              "    [theme=dark] .colab-df-convert {\n",
              "      background-color: #3B4455;\n",
              "      fill: #D2E3FC;\n",
              "    }\n",
              "\n",
              "    [theme=dark] .colab-df-convert:hover {\n",
              "      background-color: #434B5C;\n",
              "      box-shadow: 0px 1px 3px 1px rgba(0, 0, 0, 0.15);\n",
              "      filter: drop-shadow(0px 1px 2px rgba(0, 0, 0, 0.3));\n",
              "      fill: #FFFFFF;\n",
              "    }\n",
              "  </style>\n",
              "\n",
              "      <script>\n",
              "        const buttonEl =\n",
              "          document.querySelector('#df-084e895d-e665-4fb4-8040-bbcb682959f5 button.colab-df-convert');\n",
              "        buttonEl.style.display =\n",
              "          google.colab.kernel.accessAllowed ? 'block' : 'none';\n",
              "\n",
              "        async function convertToInteractive(key) {\n",
              "          const element = document.querySelector('#df-084e895d-e665-4fb4-8040-bbcb682959f5');\n",
              "          const dataTable =\n",
              "            await google.colab.kernel.invokeFunction('convertToInteractive',\n",
              "                                                     [key], {});\n",
              "          if (!dataTable) return;\n",
              "\n",
              "          const docLinkHtml = 'Like what you see? Visit the ' +\n",
              "            '<a target=\"_blank\" href=https://colab.research.google.com/notebooks/data_table.ipynb>data table notebook</a>'\n",
              "            + ' to learn more about interactive tables.';\n",
              "          element.innerHTML = '';\n",
              "          dataTable['output_type'] = 'display_data';\n",
              "          await google.colab.output.renderOutput(dataTable, element);\n",
              "          const docLink = document.createElement('div');\n",
              "          docLink.innerHTML = docLinkHtml;\n",
              "          element.appendChild(docLink);\n",
              "        }\n",
              "      </script>\n",
              "    </div>\n",
              "  </div>\n",
              "  "
            ]
          },
          "metadata": {},
          "execution_count": 5
        }
      ]
    },
    {
      "cell_type": "code",
      "source": [
        "test_data.head(5)"
      ],
      "metadata": {
        "colab": {
          "base_uri": "https://localhost:8080/",
          "height": 206
        },
        "id": "r77SL3AojiUM",
        "outputId": "2b56310a-f145-4ca8-ac28-f383b972a64a"
      },
      "execution_count": 6,
      "outputs": [
        {
          "output_type": "execute_result",
          "data": {
            "text/plain": [
              "   id        age  weight  height  sex  stress  doctor  sport  pernicious_1  \\\n",
              "0   5  51.712526    85.0     154    1       1       1    1.0           0.0   \n",
              "1   6  52.134155    69.0     170    2       1       1    1.0           NaN   \n",
              "2   7  55.939767    70.0     160    1       1       1    0.0           0.0   \n",
              "3  10  49.645448    94.0     185    2       1       1    1.0           NaN   \n",
              "4  11  44.060233    76.0     170    2       1       1    1.0           0.0   \n",
              "\n",
              "   pernicious_2  ubp  lbp  \n",
              "0           0.0  130   80  \n",
              "1           0.0  130   90  \n",
              "2           0.0  120   75  \n",
              "3           0.0  130   90  \n",
              "4           0.0  120   80  "
            ],
            "text/html": [
              "\n",
              "  <div id=\"df-250be555-5d54-40a1-aa90-45e20c3bd821\">\n",
              "    <div class=\"colab-df-container\">\n",
              "      <div>\n",
              "<style scoped>\n",
              "    .dataframe tbody tr th:only-of-type {\n",
              "        vertical-align: middle;\n",
              "    }\n",
              "\n",
              "    .dataframe tbody tr th {\n",
              "        vertical-align: top;\n",
              "    }\n",
              "\n",
              "    .dataframe thead th {\n",
              "        text-align: right;\n",
              "    }\n",
              "</style>\n",
              "<table border=\"1\" class=\"dataframe\">\n",
              "  <thead>\n",
              "    <tr style=\"text-align: right;\">\n",
              "      <th></th>\n",
              "      <th>id</th>\n",
              "      <th>age</th>\n",
              "      <th>weight</th>\n",
              "      <th>height</th>\n",
              "      <th>sex</th>\n",
              "      <th>stress</th>\n",
              "      <th>doctor</th>\n",
              "      <th>sport</th>\n",
              "      <th>pernicious_1</th>\n",
              "      <th>pernicious_2</th>\n",
              "      <th>ubp</th>\n",
              "      <th>lbp</th>\n",
              "    </tr>\n",
              "  </thead>\n",
              "  <tbody>\n",
              "    <tr>\n",
              "      <th>0</th>\n",
              "      <td>5</td>\n",
              "      <td>51.712526</td>\n",
              "      <td>85.0</td>\n",
              "      <td>154</td>\n",
              "      <td>1</td>\n",
              "      <td>1</td>\n",
              "      <td>1</td>\n",
              "      <td>1.0</td>\n",
              "      <td>0.0</td>\n",
              "      <td>0.0</td>\n",
              "      <td>130</td>\n",
              "      <td>80</td>\n",
              "    </tr>\n",
              "    <tr>\n",
              "      <th>1</th>\n",
              "      <td>6</td>\n",
              "      <td>52.134155</td>\n",
              "      <td>69.0</td>\n",
              "      <td>170</td>\n",
              "      <td>2</td>\n",
              "      <td>1</td>\n",
              "      <td>1</td>\n",
              "      <td>1.0</td>\n",
              "      <td>NaN</td>\n",
              "      <td>0.0</td>\n",
              "      <td>130</td>\n",
              "      <td>90</td>\n",
              "    </tr>\n",
              "    <tr>\n",
              "      <th>2</th>\n",
              "      <td>7</td>\n",
              "      <td>55.939767</td>\n",
              "      <td>70.0</td>\n",
              "      <td>160</td>\n",
              "      <td>1</td>\n",
              "      <td>1</td>\n",
              "      <td>1</td>\n",
              "      <td>0.0</td>\n",
              "      <td>0.0</td>\n",
              "      <td>0.0</td>\n",
              "      <td>120</td>\n",
              "      <td>75</td>\n",
              "    </tr>\n",
              "    <tr>\n",
              "      <th>3</th>\n",
              "      <td>10</td>\n",
              "      <td>49.645448</td>\n",
              "      <td>94.0</td>\n",
              "      <td>185</td>\n",
              "      <td>2</td>\n",
              "      <td>1</td>\n",
              "      <td>1</td>\n",
              "      <td>1.0</td>\n",
              "      <td>NaN</td>\n",
              "      <td>0.0</td>\n",
              "      <td>130</td>\n",
              "      <td>90</td>\n",
              "    </tr>\n",
              "    <tr>\n",
              "      <th>4</th>\n",
              "      <td>11</td>\n",
              "      <td>44.060233</td>\n",
              "      <td>76.0</td>\n",
              "      <td>170</td>\n",
              "      <td>2</td>\n",
              "      <td>1</td>\n",
              "      <td>1</td>\n",
              "      <td>1.0</td>\n",
              "      <td>0.0</td>\n",
              "      <td>0.0</td>\n",
              "      <td>120</td>\n",
              "      <td>80</td>\n",
              "    </tr>\n",
              "  </tbody>\n",
              "</table>\n",
              "</div>\n",
              "      <button class=\"colab-df-convert\" onclick=\"convertToInteractive('df-250be555-5d54-40a1-aa90-45e20c3bd821')\"\n",
              "              title=\"Convert this dataframe to an interactive table.\"\n",
              "              style=\"display:none;\">\n",
              "        \n",
              "  <svg xmlns=\"http://www.w3.org/2000/svg\" height=\"24px\"viewBox=\"0 0 24 24\"\n",
              "       width=\"24px\">\n",
              "    <path d=\"M0 0h24v24H0V0z\" fill=\"none\"/>\n",
              "    <path d=\"M18.56 5.44l.94 2.06.94-2.06 2.06-.94-2.06-.94-.94-2.06-.94 2.06-2.06.94zm-11 1L8.5 8.5l.94-2.06 2.06-.94-2.06-.94L8.5 2.5l-.94 2.06-2.06.94zm10 10l.94 2.06.94-2.06 2.06-.94-2.06-.94-.94-2.06-.94 2.06-2.06.94z\"/><path d=\"M17.41 7.96l-1.37-1.37c-.4-.4-.92-.59-1.43-.59-.52 0-1.04.2-1.43.59L10.3 9.45l-7.72 7.72c-.78.78-.78 2.05 0 2.83L4 21.41c.39.39.9.59 1.41.59.51 0 1.02-.2 1.41-.59l7.78-7.78 2.81-2.81c.8-.78.8-2.07 0-2.86zM5.41 20L4 18.59l7.72-7.72 1.47 1.35L5.41 20z\"/>\n",
              "  </svg>\n",
              "      </button>\n",
              "      \n",
              "  <style>\n",
              "    .colab-df-container {\n",
              "      display:flex;\n",
              "      flex-wrap:wrap;\n",
              "      gap: 12px;\n",
              "    }\n",
              "\n",
              "    .colab-df-convert {\n",
              "      background-color: #E8F0FE;\n",
              "      border: none;\n",
              "      border-radius: 50%;\n",
              "      cursor: pointer;\n",
              "      display: none;\n",
              "      fill: #1967D2;\n",
              "      height: 32px;\n",
              "      padding: 0 0 0 0;\n",
              "      width: 32px;\n",
              "    }\n",
              "\n",
              "    .colab-df-convert:hover {\n",
              "      background-color: #E2EBFA;\n",
              "      box-shadow: 0px 1px 2px rgba(60, 64, 67, 0.3), 0px 1px 3px 1px rgba(60, 64, 67, 0.15);\n",
              "      fill: #174EA6;\n",
              "    }\n",
              "\n",
              "    [theme=dark] .colab-df-convert {\n",
              "      background-color: #3B4455;\n",
              "      fill: #D2E3FC;\n",
              "    }\n",
              "\n",
              "    [theme=dark] .colab-df-convert:hover {\n",
              "      background-color: #434B5C;\n",
              "      box-shadow: 0px 1px 3px 1px rgba(0, 0, 0, 0.15);\n",
              "      filter: drop-shadow(0px 1px 2px rgba(0, 0, 0, 0.3));\n",
              "      fill: #FFFFFF;\n",
              "    }\n",
              "  </style>\n",
              "\n",
              "      <script>\n",
              "        const buttonEl =\n",
              "          document.querySelector('#df-250be555-5d54-40a1-aa90-45e20c3bd821 button.colab-df-convert');\n",
              "        buttonEl.style.display =\n",
              "          google.colab.kernel.accessAllowed ? 'block' : 'none';\n",
              "\n",
              "        async function convertToInteractive(key) {\n",
              "          const element = document.querySelector('#df-250be555-5d54-40a1-aa90-45e20c3bd821');\n",
              "          const dataTable =\n",
              "            await google.colab.kernel.invokeFunction('convertToInteractive',\n",
              "                                                     [key], {});\n",
              "          if (!dataTable) return;\n",
              "\n",
              "          const docLinkHtml = 'Like what you see? Visit the ' +\n",
              "            '<a target=\"_blank\" href=https://colab.research.google.com/notebooks/data_table.ipynb>data table notebook</a>'\n",
              "            + ' to learn more about interactive tables.';\n",
              "          element.innerHTML = '';\n",
              "          dataTable['output_type'] = 'display_data';\n",
              "          await google.colab.output.renderOutput(dataTable, element);\n",
              "          const docLink = document.createElement('div');\n",
              "          docLink.innerHTML = docLinkHtml;\n",
              "          element.appendChild(docLink);\n",
              "        }\n",
              "      </script>\n",
              "    </div>\n",
              "  </div>\n",
              "  "
            ]
          },
          "metadata": {},
          "execution_count": 6
        }
      ]
    },
    {
      "cell_type": "markdown",
      "source": [
        "## step 6 : drop useless features\n",
        "\n",
        "What is considered as useless features?\n",
        "\n",
        "> Well, there are no exact rules for a feature to be determined as useless. One way to identify useless features could be by reading through the \"features description\" (if provided) and compare the relevancy with the changes in target variable. This is done by simply using our common sense, nothing fancy. For example, in the case of Titanic ML competition, the features such as \"passenger name\" and \"ticket number\" might not be relevant to determine whether the passengers will survive or not from the Titanic shipwreck. Hence, we drop these features.\n"
      ],
      "metadata": {
        "id": "pAN7pXg4UvvF"
      }
    },
    {
      "cell_type": "code",
      "source": [
        "train_data.drop(['id'], axis = 1, inplace = True)\n",
        "test_data.drop(['id'], axis = 1, inplace = True)"
      ],
      "metadata": {
        "id": "x6lwRlVkU32l"
      },
      "execution_count": 7,
      "outputs": []
    },
    {
      "cell_type": "markdown",
      "source": [
        "## step 7 : show data description"
      ],
      "metadata": {
        "id": "VW1ZiG8W1P9x"
      }
    },
    {
      "cell_type": "code",
      "source": [
        "train_data.describe()"
      ],
      "metadata": {
        "colab": {
          "base_uri": "https://localhost:8080/",
          "height": 364
        },
        "id": "heseQQJ7QK7n",
        "outputId": "3d178e19-5846-4264-f1d7-75243ec79c23"
      },
      "execution_count": 8,
      "outputs": [
        {
          "output_type": "execute_result",
          "data": {
            "text/plain": [
              "                age        weight        height           sex        stress  \\\n",
              "count  70000.000000  70000.000000  70000.000000  70000.000000  70000.000000   \n",
              "mean      53.302850     74.205690    164.359229      1.349571      1.366871   \n",
              "std        6.754967     14.395757      8.210126      0.476838      0.680250   \n",
              "min       29.563313     10.000000     55.000000      1.000000      1.000000   \n",
              "25%       48.361396     65.000000    159.000000      1.000000      1.000000   \n",
              "50%       53.943874     72.000000    165.000000      1.000000      1.000000   \n",
              "75%       58.390144     82.000000    170.000000      2.000000      2.000000   \n",
              "max       64.922656    200.000000    250.000000      2.000000      3.000000   \n",
              "\n",
              "             doctor         sport  pernicious_1  pernicious_2           ubp  \\\n",
              "count  70000.000000  70000.000000  70000.000000  70000.000000  70000.000000   \n",
              "mean       1.226457      0.803729      0.088129      0.053771    128.817286   \n",
              "std        0.572270      0.397179      0.283484      0.225568    154.011419   \n",
              "min        1.000000      0.000000      0.000000      0.000000   -150.000000   \n",
              "25%        1.000000      1.000000      0.000000      0.000000    120.000000   \n",
              "50%        1.000000      1.000000      0.000000      0.000000    120.000000   \n",
              "75%        1.000000      1.000000      0.000000      0.000000    140.000000   \n",
              "max        3.000000      1.000000      1.000000      1.000000  16020.000000   \n",
              "\n",
              "                lbp      insomnia  \n",
              "count  70000.000000  70000.000000  \n",
              "mean      96.630414      0.499700  \n",
              "std      188.472530      0.500003  \n",
              "min      -70.000000      0.000000  \n",
              "25%       80.000000      0.000000  \n",
              "50%       80.000000      0.000000  \n",
              "75%       90.000000      1.000000  \n",
              "max    11000.000000      1.000000  "
            ],
            "text/html": [
              "\n",
              "  <div id=\"df-7c7afc5d-9144-4f9b-a2f0-10323d99c388\">\n",
              "    <div class=\"colab-df-container\">\n",
              "      <div>\n",
              "<style scoped>\n",
              "    .dataframe tbody tr th:only-of-type {\n",
              "        vertical-align: middle;\n",
              "    }\n",
              "\n",
              "    .dataframe tbody tr th {\n",
              "        vertical-align: top;\n",
              "    }\n",
              "\n",
              "    .dataframe thead th {\n",
              "        text-align: right;\n",
              "    }\n",
              "</style>\n",
              "<table border=\"1\" class=\"dataframe\">\n",
              "  <thead>\n",
              "    <tr style=\"text-align: right;\">\n",
              "      <th></th>\n",
              "      <th>age</th>\n",
              "      <th>weight</th>\n",
              "      <th>height</th>\n",
              "      <th>sex</th>\n",
              "      <th>stress</th>\n",
              "      <th>doctor</th>\n",
              "      <th>sport</th>\n",
              "      <th>pernicious_1</th>\n",
              "      <th>pernicious_2</th>\n",
              "      <th>ubp</th>\n",
              "      <th>lbp</th>\n",
              "      <th>insomnia</th>\n",
              "    </tr>\n",
              "  </thead>\n",
              "  <tbody>\n",
              "    <tr>\n",
              "      <th>count</th>\n",
              "      <td>70000.000000</td>\n",
              "      <td>70000.000000</td>\n",
              "      <td>70000.000000</td>\n",
              "      <td>70000.000000</td>\n",
              "      <td>70000.000000</td>\n",
              "      <td>70000.000000</td>\n",
              "      <td>70000.000000</td>\n",
              "      <td>70000.000000</td>\n",
              "      <td>70000.000000</td>\n",
              "      <td>70000.000000</td>\n",
              "      <td>70000.000000</td>\n",
              "      <td>70000.000000</td>\n",
              "    </tr>\n",
              "    <tr>\n",
              "      <th>mean</th>\n",
              "      <td>53.302850</td>\n",
              "      <td>74.205690</td>\n",
              "      <td>164.359229</td>\n",
              "      <td>1.349571</td>\n",
              "      <td>1.366871</td>\n",
              "      <td>1.226457</td>\n",
              "      <td>0.803729</td>\n",
              "      <td>0.088129</td>\n",
              "      <td>0.053771</td>\n",
              "      <td>128.817286</td>\n",
              "      <td>96.630414</td>\n",
              "      <td>0.499700</td>\n",
              "    </tr>\n",
              "    <tr>\n",
              "      <th>std</th>\n",
              "      <td>6.754967</td>\n",
              "      <td>14.395757</td>\n",
              "      <td>8.210126</td>\n",
              "      <td>0.476838</td>\n",
              "      <td>0.680250</td>\n",
              "      <td>0.572270</td>\n",
              "      <td>0.397179</td>\n",
              "      <td>0.283484</td>\n",
              "      <td>0.225568</td>\n",
              "      <td>154.011419</td>\n",
              "      <td>188.472530</td>\n",
              "      <td>0.500003</td>\n",
              "    </tr>\n",
              "    <tr>\n",
              "      <th>min</th>\n",
              "      <td>29.563313</td>\n",
              "      <td>10.000000</td>\n",
              "      <td>55.000000</td>\n",
              "      <td>1.000000</td>\n",
              "      <td>1.000000</td>\n",
              "      <td>1.000000</td>\n",
              "      <td>0.000000</td>\n",
              "      <td>0.000000</td>\n",
              "      <td>0.000000</td>\n",
              "      <td>-150.000000</td>\n",
              "      <td>-70.000000</td>\n",
              "      <td>0.000000</td>\n",
              "    </tr>\n",
              "    <tr>\n",
              "      <th>25%</th>\n",
              "      <td>48.361396</td>\n",
              "      <td>65.000000</td>\n",
              "      <td>159.000000</td>\n",
              "      <td>1.000000</td>\n",
              "      <td>1.000000</td>\n",
              "      <td>1.000000</td>\n",
              "      <td>1.000000</td>\n",
              "      <td>0.000000</td>\n",
              "      <td>0.000000</td>\n",
              "      <td>120.000000</td>\n",
              "      <td>80.000000</td>\n",
              "      <td>0.000000</td>\n",
              "    </tr>\n",
              "    <tr>\n",
              "      <th>50%</th>\n",
              "      <td>53.943874</td>\n",
              "      <td>72.000000</td>\n",
              "      <td>165.000000</td>\n",
              "      <td>1.000000</td>\n",
              "      <td>1.000000</td>\n",
              "      <td>1.000000</td>\n",
              "      <td>1.000000</td>\n",
              "      <td>0.000000</td>\n",
              "      <td>0.000000</td>\n",
              "      <td>120.000000</td>\n",
              "      <td>80.000000</td>\n",
              "      <td>0.000000</td>\n",
              "    </tr>\n",
              "    <tr>\n",
              "      <th>75%</th>\n",
              "      <td>58.390144</td>\n",
              "      <td>82.000000</td>\n",
              "      <td>170.000000</td>\n",
              "      <td>2.000000</td>\n",
              "      <td>2.000000</td>\n",
              "      <td>1.000000</td>\n",
              "      <td>1.000000</td>\n",
              "      <td>0.000000</td>\n",
              "      <td>0.000000</td>\n",
              "      <td>140.000000</td>\n",
              "      <td>90.000000</td>\n",
              "      <td>1.000000</td>\n",
              "    </tr>\n",
              "    <tr>\n",
              "      <th>max</th>\n",
              "      <td>64.922656</td>\n",
              "      <td>200.000000</td>\n",
              "      <td>250.000000</td>\n",
              "      <td>2.000000</td>\n",
              "      <td>3.000000</td>\n",
              "      <td>3.000000</td>\n",
              "      <td>1.000000</td>\n",
              "      <td>1.000000</td>\n",
              "      <td>1.000000</td>\n",
              "      <td>16020.000000</td>\n",
              "      <td>11000.000000</td>\n",
              "      <td>1.000000</td>\n",
              "    </tr>\n",
              "  </tbody>\n",
              "</table>\n",
              "</div>\n",
              "      <button class=\"colab-df-convert\" onclick=\"convertToInteractive('df-7c7afc5d-9144-4f9b-a2f0-10323d99c388')\"\n",
              "              title=\"Convert this dataframe to an interactive table.\"\n",
              "              style=\"display:none;\">\n",
              "        \n",
              "  <svg xmlns=\"http://www.w3.org/2000/svg\" height=\"24px\"viewBox=\"0 0 24 24\"\n",
              "       width=\"24px\">\n",
              "    <path d=\"M0 0h24v24H0V0z\" fill=\"none\"/>\n",
              "    <path d=\"M18.56 5.44l.94 2.06.94-2.06 2.06-.94-2.06-.94-.94-2.06-.94 2.06-2.06.94zm-11 1L8.5 8.5l.94-2.06 2.06-.94-2.06-.94L8.5 2.5l-.94 2.06-2.06.94zm10 10l.94 2.06.94-2.06 2.06-.94-2.06-.94-.94-2.06-.94 2.06-2.06.94z\"/><path d=\"M17.41 7.96l-1.37-1.37c-.4-.4-.92-.59-1.43-.59-.52 0-1.04.2-1.43.59L10.3 9.45l-7.72 7.72c-.78.78-.78 2.05 0 2.83L4 21.41c.39.39.9.59 1.41.59.51 0 1.02-.2 1.41-.59l7.78-7.78 2.81-2.81c.8-.78.8-2.07 0-2.86zM5.41 20L4 18.59l7.72-7.72 1.47 1.35L5.41 20z\"/>\n",
              "  </svg>\n",
              "      </button>\n",
              "      \n",
              "  <style>\n",
              "    .colab-df-container {\n",
              "      display:flex;\n",
              "      flex-wrap:wrap;\n",
              "      gap: 12px;\n",
              "    }\n",
              "\n",
              "    .colab-df-convert {\n",
              "      background-color: #E8F0FE;\n",
              "      border: none;\n",
              "      border-radius: 50%;\n",
              "      cursor: pointer;\n",
              "      display: none;\n",
              "      fill: #1967D2;\n",
              "      height: 32px;\n",
              "      padding: 0 0 0 0;\n",
              "      width: 32px;\n",
              "    }\n",
              "\n",
              "    .colab-df-convert:hover {\n",
              "      background-color: #E2EBFA;\n",
              "      box-shadow: 0px 1px 2px rgba(60, 64, 67, 0.3), 0px 1px 3px 1px rgba(60, 64, 67, 0.15);\n",
              "      fill: #174EA6;\n",
              "    }\n",
              "\n",
              "    [theme=dark] .colab-df-convert {\n",
              "      background-color: #3B4455;\n",
              "      fill: #D2E3FC;\n",
              "    }\n",
              "\n",
              "    [theme=dark] .colab-df-convert:hover {\n",
              "      background-color: #434B5C;\n",
              "      box-shadow: 0px 1px 3px 1px rgba(0, 0, 0, 0.15);\n",
              "      filter: drop-shadow(0px 1px 2px rgba(0, 0, 0, 0.3));\n",
              "      fill: #FFFFFF;\n",
              "    }\n",
              "  </style>\n",
              "\n",
              "      <script>\n",
              "        const buttonEl =\n",
              "          document.querySelector('#df-7c7afc5d-9144-4f9b-a2f0-10323d99c388 button.colab-df-convert');\n",
              "        buttonEl.style.display =\n",
              "          google.colab.kernel.accessAllowed ? 'block' : 'none';\n",
              "\n",
              "        async function convertToInteractive(key) {\n",
              "          const element = document.querySelector('#df-7c7afc5d-9144-4f9b-a2f0-10323d99c388');\n",
              "          const dataTable =\n",
              "            await google.colab.kernel.invokeFunction('convertToInteractive',\n",
              "                                                     [key], {});\n",
              "          if (!dataTable) return;\n",
              "\n",
              "          const docLinkHtml = 'Like what you see? Visit the ' +\n",
              "            '<a target=\"_blank\" href=https://colab.research.google.com/notebooks/data_table.ipynb>data table notebook</a>'\n",
              "            + ' to learn more about interactive tables.';\n",
              "          element.innerHTML = '';\n",
              "          dataTable['output_type'] = 'display_data';\n",
              "          await google.colab.output.renderOutput(dataTable, element);\n",
              "          const docLink = document.createElement('div');\n",
              "          docLink.innerHTML = docLinkHtml;\n",
              "          element.appendChild(docLink);\n",
              "        }\n",
              "      </script>\n",
              "    </div>\n",
              "  </div>\n",
              "  "
            ]
          },
          "metadata": {},
          "execution_count": 8
        }
      ]
    },
    {
      "cell_type": "markdown",
      "source": [
        "## step 8 : categorical features encoding (optional)"
      ],
      "metadata": {
        "id": "RSU8aYjpMo8H"
      }
    },
    {
      "cell_type": "markdown",
      "source": [
        "### step 8.1 : count the unique values for each categorical features\n",
        "\n",
        "This information is require to consider whether we will perform one-hot or label encoding. In the cases where we have many categorical features and most of them have a lot of unique values, it is better to perform label encoding compares to one-hot. This is because one-hot encoding increases the dimensionality of input features.\n",
        "\n"
      ],
      "metadata": {
        "id": "SK1OSMsFifxL"
      }
    },
    {
      "cell_type": "code",
      "source": [
        "categorical_features_name = ['weight', 'height','ubp', 'lbp']\n",
        "for name in categorical_features_name:\n",
        "  print(f\"{name} = {len(train_data[name].unique())}\")"
      ],
      "metadata": {
        "id": "6LRiqo_difKf",
        "colab": {
          "base_uri": "https://localhost:8080/"
        },
        "outputId": "1ee97615-771b-4593-aa6b-20bc7a288aee"
      },
      "execution_count": 10,
      "outputs": [
        {
          "output_type": "stream",
          "name": "stdout",
          "text": [
            "weight = 287\n",
            "height = 109\n",
            "ubp = 153\n",
            "lbp = 157\n"
          ]
        }
      ]
    },
    {
      "cell_type": "markdown",
      "source": [
        "Define the list of features that later will be transformed into one-hot and label representation"
      ],
      "metadata": {
        "id": "-0lUBiDqZcbq"
      }
    },
    {
      "cell_type": "code",
      "source": [
        "# one-hot \n",
        "one_hot_features = []\n",
        "\n",
        "# label\n",
        "label_features = []"
      ],
      "metadata": {
        "id": "LgcUijuenwkH"
      },
      "execution_count": 11,
      "outputs": []
    },
    {
      "cell_type": "markdown",
      "source": [
        "#### option 1 : one-hot encoding"
      ],
      "metadata": {
        "id": "9K-3cqI_0uq2"
      }
    },
    {
      "cell_type": "markdown",
      "source": [
        "for train set"
      ],
      "metadata": {
        "id": "m3HzeLPBUZ3P"
      }
    },
    {
      "cell_type": "code",
      "source": [
        "# for name in one_hot_features:\n",
        "#   # step 1 : perform one-hot encoding\n",
        "#   one_hot_encoded = pd.get_dummies(data[name], prefix=name)\n",
        "\n",
        "#   # step 2 : concat to the dataset\n",
        "#   data = pd.concat([data, one_hot_encoded], axis = 1)\n",
        "\n",
        "#   # step 3 : drop the original feature (before being transformed to one-hot)\n",
        "#   data.drop([name], axis = 1, inplace = True)\n",
        "\n",
        "\n",
        "# data.head()"
      ],
      "metadata": {
        "id": "NaHGMlT-QhEH",
        "colab": {
          "base_uri": "https://localhost:8080/",
          "height": 268
        },
        "outputId": "0afef8fa-b6a2-46a7-9732-479e804e74a1"
      },
      "execution_count": null,
      "outputs": [
        {
          "output_type": "execute_result",
          "data": {
            "text/plain": [
              "    age  gender  height_cm  weight_kg  body fat_%  diastolic  systolic  \\\n",
              "0  27.0       1      172.3      75.24        21.3       80.0     130.0   \n",
              "1  25.0       1      165.0      55.80        15.7       77.0     126.0   \n",
              "2  31.0       1      179.6      78.00        20.1       92.0     152.0   \n",
              "3  32.0       1      174.5      71.10        18.4       76.0     147.0   \n",
              "4  28.0       1      173.8      67.70        17.1       70.0     127.0   \n",
              "\n",
              "   gripForce  sit and bend forward_cm  sit-ups counts  broad jump_cm class  \n",
              "0       54.9                     18.4            60.0          217.0     C  \n",
              "1       36.4                     16.3            53.0          229.0     A  \n",
              "2       44.8                     12.0            49.0          181.0     C  \n",
              "3       41.4                     15.2            53.0          219.0     B  \n",
              "4       43.5                     27.1            45.0          217.0     B  "
            ],
            "text/html": [
              "\n",
              "  <div id=\"df-85b0e6d3-d35d-4fce-80ef-4dc2b06b77bb\">\n",
              "    <div class=\"colab-df-container\">\n",
              "      <div>\n",
              "<style scoped>\n",
              "    .dataframe tbody tr th:only-of-type {\n",
              "        vertical-align: middle;\n",
              "    }\n",
              "\n",
              "    .dataframe tbody tr th {\n",
              "        vertical-align: top;\n",
              "    }\n",
              "\n",
              "    .dataframe thead th {\n",
              "        text-align: right;\n",
              "    }\n",
              "</style>\n",
              "<table border=\"1\" class=\"dataframe\">\n",
              "  <thead>\n",
              "    <tr style=\"text-align: right;\">\n",
              "      <th></th>\n",
              "      <th>age</th>\n",
              "      <th>gender</th>\n",
              "      <th>height_cm</th>\n",
              "      <th>weight_kg</th>\n",
              "      <th>body fat_%</th>\n",
              "      <th>diastolic</th>\n",
              "      <th>systolic</th>\n",
              "      <th>gripForce</th>\n",
              "      <th>sit and bend forward_cm</th>\n",
              "      <th>sit-ups counts</th>\n",
              "      <th>broad jump_cm</th>\n",
              "      <th>class</th>\n",
              "    </tr>\n",
              "  </thead>\n",
              "  <tbody>\n",
              "    <tr>\n",
              "      <th>0</th>\n",
              "      <td>27.0</td>\n",
              "      <td>1</td>\n",
              "      <td>172.3</td>\n",
              "      <td>75.24</td>\n",
              "      <td>21.3</td>\n",
              "      <td>80.0</td>\n",
              "      <td>130.0</td>\n",
              "      <td>54.9</td>\n",
              "      <td>18.4</td>\n",
              "      <td>60.0</td>\n",
              "      <td>217.0</td>\n",
              "      <td>C</td>\n",
              "    </tr>\n",
              "    <tr>\n",
              "      <th>1</th>\n",
              "      <td>25.0</td>\n",
              "      <td>1</td>\n",
              "      <td>165.0</td>\n",
              "      <td>55.80</td>\n",
              "      <td>15.7</td>\n",
              "      <td>77.0</td>\n",
              "      <td>126.0</td>\n",
              "      <td>36.4</td>\n",
              "      <td>16.3</td>\n",
              "      <td>53.0</td>\n",
              "      <td>229.0</td>\n",
              "      <td>A</td>\n",
              "    </tr>\n",
              "    <tr>\n",
              "      <th>2</th>\n",
              "      <td>31.0</td>\n",
              "      <td>1</td>\n",
              "      <td>179.6</td>\n",
              "      <td>78.00</td>\n",
              "      <td>20.1</td>\n",
              "      <td>92.0</td>\n",
              "      <td>152.0</td>\n",
              "      <td>44.8</td>\n",
              "      <td>12.0</td>\n",
              "      <td>49.0</td>\n",
              "      <td>181.0</td>\n",
              "      <td>C</td>\n",
              "    </tr>\n",
              "    <tr>\n",
              "      <th>3</th>\n",
              "      <td>32.0</td>\n",
              "      <td>1</td>\n",
              "      <td>174.5</td>\n",
              "      <td>71.10</td>\n",
              "      <td>18.4</td>\n",
              "      <td>76.0</td>\n",
              "      <td>147.0</td>\n",
              "      <td>41.4</td>\n",
              "      <td>15.2</td>\n",
              "      <td>53.0</td>\n",
              "      <td>219.0</td>\n",
              "      <td>B</td>\n",
              "    </tr>\n",
              "    <tr>\n",
              "      <th>4</th>\n",
              "      <td>28.0</td>\n",
              "      <td>1</td>\n",
              "      <td>173.8</td>\n",
              "      <td>67.70</td>\n",
              "      <td>17.1</td>\n",
              "      <td>70.0</td>\n",
              "      <td>127.0</td>\n",
              "      <td>43.5</td>\n",
              "      <td>27.1</td>\n",
              "      <td>45.0</td>\n",
              "      <td>217.0</td>\n",
              "      <td>B</td>\n",
              "    </tr>\n",
              "  </tbody>\n",
              "</table>\n",
              "</div>\n",
              "      <button class=\"colab-df-convert\" onclick=\"convertToInteractive('df-85b0e6d3-d35d-4fce-80ef-4dc2b06b77bb')\"\n",
              "              title=\"Convert this dataframe to an interactive table.\"\n",
              "              style=\"display:none;\">\n",
              "        \n",
              "  <svg xmlns=\"http://www.w3.org/2000/svg\" height=\"24px\"viewBox=\"0 0 24 24\"\n",
              "       width=\"24px\">\n",
              "    <path d=\"M0 0h24v24H0V0z\" fill=\"none\"/>\n",
              "    <path d=\"M18.56 5.44l.94 2.06.94-2.06 2.06-.94-2.06-.94-.94-2.06-.94 2.06-2.06.94zm-11 1L8.5 8.5l.94-2.06 2.06-.94-2.06-.94L8.5 2.5l-.94 2.06-2.06.94zm10 10l.94 2.06.94-2.06 2.06-.94-2.06-.94-.94-2.06-.94 2.06-2.06.94z\"/><path d=\"M17.41 7.96l-1.37-1.37c-.4-.4-.92-.59-1.43-.59-.52 0-1.04.2-1.43.59L10.3 9.45l-7.72 7.72c-.78.78-.78 2.05 0 2.83L4 21.41c.39.39.9.59 1.41.59.51 0 1.02-.2 1.41-.59l7.78-7.78 2.81-2.81c.8-.78.8-2.07 0-2.86zM5.41 20L4 18.59l7.72-7.72 1.47 1.35L5.41 20z\"/>\n",
              "  </svg>\n",
              "      </button>\n",
              "      \n",
              "  <style>\n",
              "    .colab-df-container {\n",
              "      display:flex;\n",
              "      flex-wrap:wrap;\n",
              "      gap: 12px;\n",
              "    }\n",
              "\n",
              "    .colab-df-convert {\n",
              "      background-color: #E8F0FE;\n",
              "      border: none;\n",
              "      border-radius: 50%;\n",
              "      cursor: pointer;\n",
              "      display: none;\n",
              "      fill: #1967D2;\n",
              "      height: 32px;\n",
              "      padding: 0 0 0 0;\n",
              "      width: 32px;\n",
              "    }\n",
              "\n",
              "    .colab-df-convert:hover {\n",
              "      background-color: #E2EBFA;\n",
              "      box-shadow: 0px 1px 2px rgba(60, 64, 67, 0.3), 0px 1px 3px 1px rgba(60, 64, 67, 0.15);\n",
              "      fill: #174EA6;\n",
              "    }\n",
              "\n",
              "    [theme=dark] .colab-df-convert {\n",
              "      background-color: #3B4455;\n",
              "      fill: #D2E3FC;\n",
              "    }\n",
              "\n",
              "    [theme=dark] .colab-df-convert:hover {\n",
              "      background-color: #434B5C;\n",
              "      box-shadow: 0px 1px 3px 1px rgba(0, 0, 0, 0.15);\n",
              "      filter: drop-shadow(0px 1px 2px rgba(0, 0, 0, 0.3));\n",
              "      fill: #FFFFFF;\n",
              "    }\n",
              "  </style>\n",
              "\n",
              "      <script>\n",
              "        const buttonEl =\n",
              "          document.querySelector('#df-85b0e6d3-d35d-4fce-80ef-4dc2b06b77bb button.colab-df-convert');\n",
              "        buttonEl.style.display =\n",
              "          google.colab.kernel.accessAllowed ? 'block' : 'none';\n",
              "\n",
              "        async function convertToInteractive(key) {\n",
              "          const element = document.querySelector('#df-85b0e6d3-d35d-4fce-80ef-4dc2b06b77bb');\n",
              "          const dataTable =\n",
              "            await google.colab.kernel.invokeFunction('convertToInteractive',\n",
              "                                                     [key], {});\n",
              "          if (!dataTable) return;\n",
              "\n",
              "          const docLinkHtml = 'Like what you see? Visit the ' +\n",
              "            '<a target=\"_blank\" href=https://colab.research.google.com/notebooks/data_table.ipynb>data table notebook</a>'\n",
              "            + ' to learn more about interactive tables.';\n",
              "          element.innerHTML = '';\n",
              "          dataTable['output_type'] = 'display_data';\n",
              "          await google.colab.output.renderOutput(dataTable, element);\n",
              "          const docLink = document.createElement('div');\n",
              "          docLink.innerHTML = docLinkHtml;\n",
              "          element.appendChild(docLink);\n",
              "        }\n",
              "      </script>\n",
              "    </div>\n",
              "  </div>\n",
              "  "
            ]
          },
          "metadata": {},
          "execution_count": 23
        }
      ]
    },
    {
      "cell_type": "markdown",
      "source": [
        "for test set"
      ],
      "metadata": {
        "id": "VmA7trntUjEw"
      }
    },
    {
      "cell_type": "code",
      "source": [
        "## THERE IS NO TEST SET HERE"
      ],
      "metadata": {
        "id": "i2ZRLsAqUiFk"
      },
      "execution_count": null,
      "outputs": []
    },
    {
      "cell_type": "markdown",
      "source": [
        "#### option 2 : label encoding"
      ],
      "metadata": {
        "id": "mnO6d6DG0066"
      }
    },
    {
      "cell_type": "code",
      "source": [
        "# from sklearn import preprocessing \n",
        "\n",
        "# label_encoder = preprocessing.LabelEncoder() "
      ],
      "metadata": {
        "id": "esFzrRkuW8xr"
      },
      "execution_count": null,
      "outputs": []
    },
    {
      "cell_type": "markdown",
      "source": [
        "For train set"
      ],
      "metadata": {
        "id": "jHJTEnekVJWX"
      }
    },
    {
      "cell_type": "code",
      "source": [
        "# for name in label_features:\n",
        "#   data[name] = label_encoder.fit_transform(data[name]) \n",
        "\n",
        "# data.head()"
      ],
      "metadata": {
        "id": "AtuG0zQ4Uplh",
        "colab": {
          "base_uri": "https://localhost:8080/",
          "height": 268
        },
        "outputId": "467a3b3f-43af-46cf-ac05-1aac43403a56"
      },
      "execution_count": null,
      "outputs": [
        {
          "output_type": "execute_result",
          "data": {
            "text/plain": [
              "    age  gender  height_cm  weight_kg  body fat_%  diastolic  systolic  \\\n",
              "0  27.0       1      172.3      75.24        21.3       80.0     130.0   \n",
              "1  25.0       1      165.0      55.80        15.7       77.0     126.0   \n",
              "2  31.0       1      179.6      78.00        20.1       92.0     152.0   \n",
              "3  32.0       1      174.5      71.10        18.4       76.0     147.0   \n",
              "4  28.0       1      173.8      67.70        17.1       70.0     127.0   \n",
              "\n",
              "   gripForce  sit and bend forward_cm  sit-ups counts  broad jump_cm  class  \n",
              "0       54.9                     18.4            60.0          217.0      2  \n",
              "1       36.4                     16.3            53.0          229.0      0  \n",
              "2       44.8                     12.0            49.0          181.0      2  \n",
              "3       41.4                     15.2            53.0          219.0      1  \n",
              "4       43.5                     27.1            45.0          217.0      1  "
            ],
            "text/html": [
              "\n",
              "  <div id=\"df-f172bcf4-fa76-437c-9195-600b90f83cfc\">\n",
              "    <div class=\"colab-df-container\">\n",
              "      <div>\n",
              "<style scoped>\n",
              "    .dataframe tbody tr th:only-of-type {\n",
              "        vertical-align: middle;\n",
              "    }\n",
              "\n",
              "    .dataframe tbody tr th {\n",
              "        vertical-align: top;\n",
              "    }\n",
              "\n",
              "    .dataframe thead th {\n",
              "        text-align: right;\n",
              "    }\n",
              "</style>\n",
              "<table border=\"1\" class=\"dataframe\">\n",
              "  <thead>\n",
              "    <tr style=\"text-align: right;\">\n",
              "      <th></th>\n",
              "      <th>age</th>\n",
              "      <th>gender</th>\n",
              "      <th>height_cm</th>\n",
              "      <th>weight_kg</th>\n",
              "      <th>body fat_%</th>\n",
              "      <th>diastolic</th>\n",
              "      <th>systolic</th>\n",
              "      <th>gripForce</th>\n",
              "      <th>sit and bend forward_cm</th>\n",
              "      <th>sit-ups counts</th>\n",
              "      <th>broad jump_cm</th>\n",
              "      <th>class</th>\n",
              "    </tr>\n",
              "  </thead>\n",
              "  <tbody>\n",
              "    <tr>\n",
              "      <th>0</th>\n",
              "      <td>27.0</td>\n",
              "      <td>1</td>\n",
              "      <td>172.3</td>\n",
              "      <td>75.24</td>\n",
              "      <td>21.3</td>\n",
              "      <td>80.0</td>\n",
              "      <td>130.0</td>\n",
              "      <td>54.9</td>\n",
              "      <td>18.4</td>\n",
              "      <td>60.0</td>\n",
              "      <td>217.0</td>\n",
              "      <td>2</td>\n",
              "    </tr>\n",
              "    <tr>\n",
              "      <th>1</th>\n",
              "      <td>25.0</td>\n",
              "      <td>1</td>\n",
              "      <td>165.0</td>\n",
              "      <td>55.80</td>\n",
              "      <td>15.7</td>\n",
              "      <td>77.0</td>\n",
              "      <td>126.0</td>\n",
              "      <td>36.4</td>\n",
              "      <td>16.3</td>\n",
              "      <td>53.0</td>\n",
              "      <td>229.0</td>\n",
              "      <td>0</td>\n",
              "    </tr>\n",
              "    <tr>\n",
              "      <th>2</th>\n",
              "      <td>31.0</td>\n",
              "      <td>1</td>\n",
              "      <td>179.6</td>\n",
              "      <td>78.00</td>\n",
              "      <td>20.1</td>\n",
              "      <td>92.0</td>\n",
              "      <td>152.0</td>\n",
              "      <td>44.8</td>\n",
              "      <td>12.0</td>\n",
              "      <td>49.0</td>\n",
              "      <td>181.0</td>\n",
              "      <td>2</td>\n",
              "    </tr>\n",
              "    <tr>\n",
              "      <th>3</th>\n",
              "      <td>32.0</td>\n",
              "      <td>1</td>\n",
              "      <td>174.5</td>\n",
              "      <td>71.10</td>\n",
              "      <td>18.4</td>\n",
              "      <td>76.0</td>\n",
              "      <td>147.0</td>\n",
              "      <td>41.4</td>\n",
              "      <td>15.2</td>\n",
              "      <td>53.0</td>\n",
              "      <td>219.0</td>\n",
              "      <td>1</td>\n",
              "    </tr>\n",
              "    <tr>\n",
              "      <th>4</th>\n",
              "      <td>28.0</td>\n",
              "      <td>1</td>\n",
              "      <td>173.8</td>\n",
              "      <td>67.70</td>\n",
              "      <td>17.1</td>\n",
              "      <td>70.0</td>\n",
              "      <td>127.0</td>\n",
              "      <td>43.5</td>\n",
              "      <td>27.1</td>\n",
              "      <td>45.0</td>\n",
              "      <td>217.0</td>\n",
              "      <td>1</td>\n",
              "    </tr>\n",
              "  </tbody>\n",
              "</table>\n",
              "</div>\n",
              "      <button class=\"colab-df-convert\" onclick=\"convertToInteractive('df-f172bcf4-fa76-437c-9195-600b90f83cfc')\"\n",
              "              title=\"Convert this dataframe to an interactive table.\"\n",
              "              style=\"display:none;\">\n",
              "        \n",
              "  <svg xmlns=\"http://www.w3.org/2000/svg\" height=\"24px\"viewBox=\"0 0 24 24\"\n",
              "       width=\"24px\">\n",
              "    <path d=\"M0 0h24v24H0V0z\" fill=\"none\"/>\n",
              "    <path d=\"M18.56 5.44l.94 2.06.94-2.06 2.06-.94-2.06-.94-.94-2.06-.94 2.06-2.06.94zm-11 1L8.5 8.5l.94-2.06 2.06-.94-2.06-.94L8.5 2.5l-.94 2.06-2.06.94zm10 10l.94 2.06.94-2.06 2.06-.94-2.06-.94-.94-2.06-.94 2.06-2.06.94z\"/><path d=\"M17.41 7.96l-1.37-1.37c-.4-.4-.92-.59-1.43-.59-.52 0-1.04.2-1.43.59L10.3 9.45l-7.72 7.72c-.78.78-.78 2.05 0 2.83L4 21.41c.39.39.9.59 1.41.59.51 0 1.02-.2 1.41-.59l7.78-7.78 2.81-2.81c.8-.78.8-2.07 0-2.86zM5.41 20L4 18.59l7.72-7.72 1.47 1.35L5.41 20z\"/>\n",
              "  </svg>\n",
              "      </button>\n",
              "      \n",
              "  <style>\n",
              "    .colab-df-container {\n",
              "      display:flex;\n",
              "      flex-wrap:wrap;\n",
              "      gap: 12px;\n",
              "    }\n",
              "\n",
              "    .colab-df-convert {\n",
              "      background-color: #E8F0FE;\n",
              "      border: none;\n",
              "      border-radius: 50%;\n",
              "      cursor: pointer;\n",
              "      display: none;\n",
              "      fill: #1967D2;\n",
              "      height: 32px;\n",
              "      padding: 0 0 0 0;\n",
              "      width: 32px;\n",
              "    }\n",
              "\n",
              "    .colab-df-convert:hover {\n",
              "      background-color: #E2EBFA;\n",
              "      box-shadow: 0px 1px 2px rgba(60, 64, 67, 0.3), 0px 1px 3px 1px rgba(60, 64, 67, 0.15);\n",
              "      fill: #174EA6;\n",
              "    }\n",
              "\n",
              "    [theme=dark] .colab-df-convert {\n",
              "      background-color: #3B4455;\n",
              "      fill: #D2E3FC;\n",
              "    }\n",
              "\n",
              "    [theme=dark] .colab-df-convert:hover {\n",
              "      background-color: #434B5C;\n",
              "      box-shadow: 0px 1px 3px 1px rgba(0, 0, 0, 0.15);\n",
              "      filter: drop-shadow(0px 1px 2px rgba(0, 0, 0, 0.3));\n",
              "      fill: #FFFFFF;\n",
              "    }\n",
              "  </style>\n",
              "\n",
              "      <script>\n",
              "        const buttonEl =\n",
              "          document.querySelector('#df-f172bcf4-fa76-437c-9195-600b90f83cfc button.colab-df-convert');\n",
              "        buttonEl.style.display =\n",
              "          google.colab.kernel.accessAllowed ? 'block' : 'none';\n",
              "\n",
              "        async function convertToInteractive(key) {\n",
              "          const element = document.querySelector('#df-f172bcf4-fa76-437c-9195-600b90f83cfc');\n",
              "          const dataTable =\n",
              "            await google.colab.kernel.invokeFunction('convertToInteractive',\n",
              "                                                     [key], {});\n",
              "          if (!dataTable) return;\n",
              "\n",
              "          const docLinkHtml = 'Like what you see? Visit the ' +\n",
              "            '<a target=\"_blank\" href=https://colab.research.google.com/notebooks/data_table.ipynb>data table notebook</a>'\n",
              "            + ' to learn more about interactive tables.';\n",
              "          element.innerHTML = '';\n",
              "          dataTable['output_type'] = 'display_data';\n",
              "          await google.colab.output.renderOutput(dataTable, element);\n",
              "          const docLink = document.createElement('div');\n",
              "          docLink.innerHTML = docLinkHtml;\n",
              "          element.appendChild(docLink);\n",
              "        }\n",
              "      </script>\n",
              "    </div>\n",
              "  </div>\n",
              "  "
            ]
          },
          "metadata": {},
          "execution_count": 26
        }
      ]
    },
    {
      "cell_type": "markdown",
      "source": [
        "For test set"
      ],
      "metadata": {
        "id": "plInby53W2_u"
      }
    },
    {
      "cell_type": "code",
      "source": [
        ""
      ],
      "metadata": {
        "id": "twSbnBQbW4qS"
      },
      "execution_count": null,
      "outputs": []
    },
    {
      "cell_type": "markdown",
      "source": [
        "## step 9 : split train data"
      ],
      "metadata": {
        "id": "H1-b27N0HO2J"
      }
    },
    {
      "cell_type": "markdown",
      "source": [
        "\n",
        "\n",
        "---\n",
        "\n",
        "\n",
        "The goal of splitting data is to generate 3 partition for the purpose of model development. The partition consist of:\n",
        "\n",
        "*   Train set : used to train the model\n",
        "*   Validation set : used to validate the trained model\n",
        "*   Test set : used to test the final model\n",
        "\n",
        "\n",
        "\n",
        "---\n",
        "\n",
        "To split the data, </br>\n",
        "1. If you have **a single file**, then: \n",
        "  *   First, split into 2 partition : (a) ~70% for **train** and (b) ~30% for **test**.\n",
        "  *   Second, takes the **train set** from the previous splitted partition and split it again into another 2 partition with the same ratio : (a) ~70% for **train** and (b) ~30% for **validation**.\n",
        "\n",
        "2. If you have **two files** (train, test), then:\n",
        "  * Split the **train set** into 2 partition : (a) ~70% for **train** and (b) ~30% for **test**.\n",
        "  \n",
        "3. If you have **three files** (train, val, test), then:\n",
        "  * You are good to go.\n",
        "\n"
      ],
      "metadata": {
        "id": "OxhjMgWjO_pq"
      }
    },
    {
      "cell_type": "code",
      "source": [
        "from sklearn.model_selection import train_test_split as data_splitter\n",
        "\n",
        "train_data, val_data = data_splitter(train_data, \n",
        "                                    test_size = 0.2,\n",
        "                                    random_state = 42)"
      ],
      "metadata": {
        "id": "WzxJWRFCa-X2"
      },
      "execution_count": 12,
      "outputs": []
    },
    {
      "cell_type": "code",
      "source": [
        "print(f\"len(train_data) = {len(train_data)}\")\n",
        "print(f\"len(val_data) = {len(val_data)}\")\n",
        "print(f\"len(test_data) = {len(test_data)}\")"
      ],
      "metadata": {
        "colab": {
          "base_uri": "https://localhost:8080/"
        },
        "id": "t8nG98HI-WLu",
        "outputId": "98bd7ac9-704c-4c6f-807b-169ae5dea483"
      },
      "execution_count": 13,
      "outputs": [
        {
          "output_type": "stream",
          "name": "stdout",
          "text": [
            "len(train_data) = 56000\n",
            "len(val_data) = 14000\n",
            "len(test_data) = 30000\n"
          ]
        }
      ]
    },
    {
      "cell_type": "markdown",
      "source": [
        "## step 11 : features visualization"
      ],
      "metadata": {
        "id": "3b9KtFYBOyoo"
      }
    },
    {
      "cell_type": "markdown",
      "source": [
        "### step 11.1 : identify outliers\n"
      ],
      "metadata": {
        "id": "5pNGIoMJHbtn"
      }
    },
    {
      "cell_type": "markdown",
      "source": [
        "#### option 1 : visualize outlier with boxplot"
      ],
      "metadata": {
        "id": "_d0mznV6NCsh"
      }
    },
    {
      "cell_type": "code",
      "source": [
        "# Check for outliers\n",
        "var=np.arange(1,len(train_data.columns)+1)\n",
        "\n",
        "plt.figure(figsize = (20, 15))\n",
        "for i in var:\n",
        "    # plt.subplot(arg1, arg2) :\n",
        "    # arg1 = the number of plots in each row\n",
        "    # arg2 = the number of plots per column\n",
        "    plt.subplot(2,15,i)\n",
        "    plt.boxplot(train_data.iloc[:,(i-1)])\n",
        "    plt.title(train_data.columns[i-1])"
      ],
      "metadata": {
        "colab": {
          "base_uri": "https://localhost:8080/",
          "height": 435
        },
        "id": "HzN59eY8h544",
        "outputId": "901170bd-ed90-455e-bfb3-b7bd82b7fe2e"
      },
      "execution_count": 14,
      "outputs": [
        {
          "output_type": "display_data",
          "data": {
            "text/plain": [
              "<Figure size 1440x1080 with 12 Axes>"
            ],
            "image/png": "[encoded data removed]"
          },
          "metadata": {
            "needs_background": "light"
          }
        }
      ]
    },
    {
      "cell_type": "markdown",
      "source": [
        "#### option 2 : identify outlier numerically using IQR (InterQuartile Range)"
      ],
      "metadata": {
        "id": "MlaiV7sK-KhS"
      }
    },
    {
      "cell_type": "markdown",
      "source": [
        "![outlier_with_iqr.png](data:image/png;base64,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)"
      ],
      "metadata": {
        "id": "Vd9JSQ4V5yjR"
      }
    },
    {
      "cell_type": "code",
      "source": [
        "_, zero_outliers_features = identify_or_extract_outlier_indices_with_iqr(train_data, extract_zero_outliers = True)  "
      ],
      "metadata": {
        "id": "HwBgXWry-JxK",
        "colab": {
          "base_uri": "https://localhost:8080/"
        },
        "outputId": "4a6ff186-9d35-4a22-e0a8-70f2e57075b7"
      },
      "execution_count": 15,
      "outputs": [
        {
          "output_type": "stream",
          "name": "stdout",
          "text": [
            "> feature [age] has `4` outliers\n",
            "> feature [weight] has `1429` outliers\n",
            "> feature [height] has `401` outliers\n",
            "> feature [sex] has `0` outliers\n",
            "> feature [stress] has `0` outliers\n",
            "> feature [doctor] has `8381` outliers\n",
            "> feature [sport] has `10989` outliers\n",
            "> feature [pernicious_1] has `4970` outliers\n",
            "> feature [pernicious_2] has `3071` outliers\n",
            "> feature [ubp] has `1148` outliers\n",
            "> feature [lbp] has `3715` outliers\n",
            "> feature [insomnia] has `0` outliers\n",
            "\n",
            "Total outlier samples = 25544\n"
          ]
        }
      ]
    },
    {
      "cell_type": "code",
      "source": [
        "## we will normalize the features that doesn't contain outlier\n",
        "print(zero_outliers_features) "
      ],
      "metadata": {
        "colab": {
          "base_uri": "https://localhost:8080/"
        },
        "id": "gpwBWScF0nOJ",
        "outputId": "3af3dd66-e786-4e38-a955-7e4f7d3dd692"
      },
      "execution_count": 16,
      "outputs": [
        {
          "output_type": "stream",
          "name": "stdout",
          "text": [
            "['sex', 'stress', 'insomnia']\n"
          ]
        }
      ]
    },
    {
      "cell_type": "markdown",
      "source": [
        "### step 11.2 : normalize data (optional)\n",
        "\n",
        "> Why we perform normalization in this step. This because according to this [reference](https://www.geeksforgeeks.org/normalization-vs-standardization/), normalization is useful when there are no outliers as it cannot cope up with them. That is why we decide to normalize after the outliers are identified.\n",
        "\n",
        "\n",
        "*Also it is important to note that, data normalization or standardization step has to be performed after the process of data splitting. This is to prevent information leaking between each data partition.*\n"
      ],
      "metadata": {
        "id": "tD22chBjuCs6"
      }
    },
    {
      "cell_type": "code",
      "source": [
        "from sklearn.preprocessing import MinMaxScaler\n",
        "cols_to_norm = zero_outliers_features"
      ],
      "metadata": {
        "id": "2vZPEJJYuAHb"
      },
      "execution_count": null,
      "outputs": []
    },
    {
      "cell_type": "markdown",
      "source": [
        "**for train data**"
      ],
      "metadata": {
        "id": "DkGUYaadv61o"
      }
    },
    {
      "cell_type": "code",
      "source": [
        "## \n",
        "# train_data[cols_to_norm] = MinMaxScaler().fit_transform(train_data[cols_to_norm])"
      ],
      "metadata": {
        "id": "ghiCvxmIv6fG"
      },
      "execution_count": null,
      "outputs": []
    },
    {
      "cell_type": "code",
      "source": [
        "# train_data.head()"
      ],
      "metadata": {
        "id": "DafgLyFYwGM8"
      },
      "execution_count": null,
      "outputs": []
    },
    {
      "cell_type": "markdown",
      "source": [
        "**for validation data**"
      ],
      "metadata": {
        "id": "1G502-niwOeR"
      }
    },
    {
      "cell_type": "code",
      "source": [
        "## RESULT IS BETTER WITHOUT NORMALIZATION\n",
        "# val_data[cols_to_norm] = MinMaxScaler().fit_transform(val_data[cols_to_norm])"
      ],
      "metadata": {
        "id": "mGbN8zvCwNiL"
      },
      "execution_count": null,
      "outputs": []
    },
    {
      "cell_type": "code",
      "source": [
        "# val_data.head()"
      ],
      "metadata": {
        "id": "Iy3zuHhJwYZo"
      },
      "execution_count": null,
      "outputs": []
    },
    {
      "cell_type": "markdown",
      "source": [
        "**for test data**"
      ],
      "metadata": {
        "id": "PMTxEKxiwSAw"
      }
    },
    {
      "cell_type": "code",
      "source": [
        "## RESULT IS BETTER WITHOUT NORMALIZATION\n",
        "# test_data[cols_to_norm] = MinMaxScaler().fit_transform(test_data[cols_to_norm])"
      ],
      "metadata": {
        "id": "AAqB5_qSwTZP"
      },
      "execution_count": null,
      "outputs": []
    },
    {
      "cell_type": "code",
      "source": [
        "# test_data.head()"
      ],
      "metadata": {
        "id": "f2fKw87BwbaW"
      },
      "execution_count": null,
      "outputs": []
    },
    {
      "cell_type": "markdown",
      "source": [
        "### step 11.3 : deal with outliers"
      ],
      "metadata": {
        "id": "D7-nuZ5zuH7i"
      }
    },
    {
      "cell_type": "markdown",
      "source": [
        "#### Option 1 : Median imputation\n",
        "Why **median** and not **mean**? \n",
        "\n",
        "> As the mean value is highly influenced by the outliers, it is advised to replace the outliers with the median value. ([reference](https://www.analyticsvidhya.com/blog/2021/05/detecting-and-treating-outliers-treating-the-odd-one-out/)). In addition, this is also the reason why we deal with outlier first before handling missing values as the mean often used to impute them."
      ],
      "metadata": {
        "id": "0pES2435-msS"
      }
    },
    {
      "cell_type": "code",
      "source": [
        "# train_data = identify_or_extract_outlier_indices_with_iqr(train_data, impute_with_median = True)  "
      ],
      "metadata": {
        "id": "EpKSzHAn-ndX"
      },
      "execution_count": null,
      "outputs": []
    },
    {
      "cell_type": "markdown",
      "source": [
        "##### Option 2 : Drop outlier sample"
      ],
      "metadata": {
        "id": "kEsfK5FNwEUo"
      }
    },
    {
      "cell_type": "code",
      "source": [
        "# train_data.drop(train_data.index[outlier_sample_indices], inplace=True)"
      ],
      "metadata": {
        "id": "eNMBejs3xEmw"
      },
      "execution_count": null,
      "outputs": []
    },
    {
      "cell_type": "markdown",
      "source": [
        "### step 11.2 : visualize missing values"
      ],
      "metadata": {
        "id": "AmpC0zzgO7EY"
      }
    },
    {
      "cell_type": "markdown",
      "source": [
        "**for train data**"
      ],
      "metadata": {
        "id": "zIo1vozD4RUj"
      }
    },
    {
      "cell_type": "code",
      "source": [
        "missingno.matrix(train_data, figsize = (30,10))"
      ],
      "metadata": {
        "id": "y42jdo22XFys",
        "colab": {
          "base_uri": "https://localhost:8080/",
          "height": 384
        },
        "outputId": "9afba6b5-42a7-47de-bcc3-b64d932ce599"
      },
      "execution_count": 17,
      "outputs": [
        {
          "output_type": "execute_result",
          "data": {
            "text/plain": [
              "<matplotlib.axes._subplots.AxesSubplot at 0x7f6c26e32d10>"
            ]
          },
          "metadata": {},
          "execution_count": 17
        },
        {
          "output_type": "display_data",
          "data": {
            "text/plain": [
              "<Figure size 2160x720 with 2 Axes>"
            ],
            "image/png": "[encoded data removed]"
          },
          "metadata": {
            "needs_background": "light"
          }
        }
      ]
    },
    {
      "cell_type": "markdown",
      "source": [
        "**for validation data**"
      ],
      "metadata": {
        "id": "tg1B77lF4WmU"
      }
    },
    {
      "cell_type": "code",
      "source": [
        "missingno.matrix(val_data, figsize = (30,10))"
      ],
      "metadata": {
        "id": "5prg7JWaPMre",
        "colab": {
          "base_uri": "https://localhost:8080/",
          "height": 384
        },
        "outputId": "bc2c1d67-4e80-4c13-bd7b-ce7dfcea901a"
      },
      "execution_count": 18,
      "outputs": [
        {
          "output_type": "execute_result",
          "data": {
            "text/plain": [
              "<matplotlib.axes._subplots.AxesSubplot at 0x7f6c26e32290>"
            ]
          },
          "metadata": {},
          "execution_count": 18
        },
        {
          "output_type": "display_data",
          "data": {
            "text/plain": [
              "<Figure size 2160x720 with 2 Axes>"
            ],
            "image/png": "[encoded data removed]"
          },
          "metadata": {
            "needs_background": "light"
          }
        }
      ]
    },
    {
      "cell_type": "markdown",
      "source": [
        "**for test data**\n",
        "\n",
        "*It is important to note that in kaggle competition, the number of samples in the test set has to be preserved. Hence, we are not allowed to drop the sample that contains missing values as it will give an error during submission. So we need to impute them (e.g., mean, median) instead. However, in a real world scenario, imputing the test set will result in information leaking as we introduce the distribution of the entire test set. Thus, in real-world scenario, it is advised to drop the sample that contains missing values or apply batch normalization.*"
      ],
      "metadata": {
        "id": "vgQeMhAZ51EP"
      }
    },
    {
      "cell_type": "code",
      "source": [
        "missingno.matrix(test_data, figsize = (30,10))"
      ],
      "metadata": {
        "id": "pjFjOV2lTGxV",
        "colab": {
          "base_uri": "https://localhost:8080/",
          "height": 384
        },
        "outputId": "84d65bc0-e616-4e63-d09c-26771097b4e9"
      },
      "execution_count": 19,
      "outputs": [
        {
          "output_type": "execute_result",
          "data": {
            "text/plain": [
              "<matplotlib.axes._subplots.AxesSubplot at 0x7f6c242f0ed0>"
            ]
          },
          "metadata": {},
          "execution_count": 19
        },
        {
          "output_type": "display_data",
          "data": {
            "text/plain": [
              "<Figure size 2160x720 with 2 Axes>"
            ],
            "image/png": "[encoded data removed]"
          },
          "metadata": {
            "needs_background": "light"
          }
        }
      ]
    },
    {
      "cell_type": "markdown",
      "source": [
        "#### step 11.2.1 : describe missing values numerically."
      ],
      "metadata": {
        "id": "qLHsvEpmSWpD"
      }
    },
    {
      "cell_type": "code",
      "source": [
        "# for col in test_data.columns:\n",
        "# \tn_miss = test_data[col].isnull().sum()\n",
        "# \tperc = (n_miss / len(test_data)) * 100\n",
        "# \tprint(f'col : {col} | Missing samples : {n_miss} | Missing perc : {perc}%')"
      ],
      "metadata": {
        "id": "lw92M6XJb7sk"
      },
      "execution_count": null,
      "outputs": []
    },
    {
      "cell_type": "markdown",
      "source": [
        "##### 11.2.1.1 : deal with missing values (optional)\n",
        "\n",
        "This is optional because some algorithm can handle missing values automatically. For example, LightGBM by specifying use_missing=false."
      ],
      "metadata": {
        "id": "3vQ4uEXxuO2D"
      }
    },
    {
      "cell_type": "markdown",
      "source": [
        "##### extract missing values columns name\n"
      ],
      "metadata": {
        "id": "KJS2MvLLpzvA"
      }
    },
    {
      "cell_type": "code",
      "source": [
        "from tqdm.notebook import tqdm\n",
        "\n",
        "# step 1 : extract the column name in the test set that contain missing values\n",
        "train_data_missing_values_col_names = extract_missing_values_col_names(train_data)\n",
        "val_data_missing_values_col_names = extract_missing_values_col_names(val_data)\n",
        "test_data_missing_values_col_names = extract_missing_values_col_names(test_data)\n",
        "print(train_data_missing_values_col_names)\n",
        "print(val_data_missing_values_col_names)\n",
        "print(test_data_missing_values_col_names)"
      ],
      "metadata": {
        "id": "ZXYKJgmmD9UZ",
        "colab": {
          "base_uri": "https://localhost:8080/",
          "height": 165,
          "referenced_widgets": [
            "0bd1a112d2284261b13f2fef53ca739b",
            "e122d8f5f99f44c7b0946e7cf7553d48",
            "13a7661d94584d339dc35f0f372e9f77",
            "9e563b106c4f47ba8cb2bb658c3bfa17",
            "dd2679407e5942e796709d8e5c36e4b2",
            "777e781a8e75412b80547bccfee5221c",
            "39833df5eab74d3eae25de1151dee469",
            "a110507b6d4e4381907dafb9686c8631",
            "2e60426a054c45a48a49ed2dcbff2d69",
            "cea99dc4c06548fb8a0571489f76d486",
            "dcdef1e1f4724c1aba8af7e6e056ee74",
            "e4a5126e7c394f5bb5807caded8072f7",
            "99705754b9524d2aad2ef28b88569bd8",
            "0622f22be88d4b0e99cd7e74c24e40e4",
            "31f49be375234646880532c766c91d1e",
            "875d4f37a50f4e41a869eb234435cd3f",
            "eb73f1a1ec0a449a9b0a548505ea6365",
            "b526b165ae134992a382bda6850f54c1",
            "276cd6d702c74bc3a3aa89e0fc1a4f4f",
            "8c04b8fb87e448499165fa0251c2f6f6",
            "9202e303735b4dc496b7f253e37d000c",
            "34e9b0f3c16e4e17b3cab7b70f1c8be7",
            "7f3531a1078e43aa9982a2cef44c0d76",
            "41b0e88c62e248599b5712a8430f5299",
            "8a401eaa1b34498ea500d73926558b1d",
            "4c8bfbe1ff7d4f1dad1ca8533b656a61",
            "5c8235ff76234f3b90df31aa09c5c7e5",
            "1c53c0218eb647f098ff12efb0c1e01c",
            "16fb8eca432f4c488cc30600d0e3094f",
            "ef192a8b400b464c9c3826b62e3ab7bd",
            "1b3090b184a940808abdb5c8c9899e53",
            "02ccf4c3e16b40778d298fe3a89bc246",
            "87010de0f2d64e15adcdf7a243ef8bfc"
          ]
        },
        "outputId": "ffa4a711-a8cd-4d01-bebb-adf60cf56d9b"
      },
      "execution_count": 21,
      "outputs": [
        {
          "output_type": "display_data",
          "data": {
            "text/plain": [
              "  0%|          | 0/12 [00:00<?, ?it/s]"
            ],
            "application/vnd.jupyter.widget-view+json": {
              "version_major": 2,
              "version_minor": 0,
              "model_id": "0bd1a112d2284261b13f2fef53ca739b"
            }
          },
          "metadata": {}
        },
        {
          "output_type": "display_data",
          "data": {
            "text/plain": [
              "  0%|          | 0/12 [00:00<?, ?it/s]"
            ],
            "application/vnd.jupyter.widget-view+json": {
              "version_major": 2,
              "version_minor": 0,
              "model_id": "e4a5126e7c394f5bb5807caded8072f7"
            }
          },
          "metadata": {}
        },
        {
          "output_type": "display_data",
          "data": {
            "text/plain": [
              "  0%|          | 0/11 [00:00<?, ?it/s]"
            ],
            "application/vnd.jupyter.widget-view+json": {
              "version_major": 2,
              "version_minor": 0,
              "model_id": "7f3531a1078e43aa9982a2cef44c0d76"
            }
          },
          "metadata": {}
        },
        {
          "output_type": "stream",
          "name": "stdout",
          "text": [
            "[]\n",
            "[]\n",
            "['sport', 'pernicious_1', 'pernicious_2']\n"
          ]
        }
      ]
    },
    {
      "cell_type": "markdown",
      "source": [
        "###### option 1 : impute with mean or median values"
      ],
      "metadata": {
        "id": "b6titG7cic6f"
      }
    },
    {
      "cell_type": "markdown",
      "source": [
        "for train data"
      ],
      "metadata": {
        "id": "3Z8WQo5kvegL"
      }
    },
    {
      "cell_type": "code",
      "source": [
        "# for col_names in train_data_missing_values_col_names:\n",
        "#   train_data[col_names].fillna(int(train_data[col_names].mean()), inplace=True)"
      ],
      "metadata": {
        "id": "U7bGEduUipeR"
      },
      "execution_count": null,
      "outputs": []
    },
    {
      "cell_type": "markdown",
      "source": [
        "for val data"
      ],
      "metadata": {
        "id": "qoPs-ZaovgYg"
      }
    },
    {
      "cell_type": "code",
      "source": [
        "# for col_names in val_data_missing_values_col_names:\n",
        "#   val_data[col_names].fillna(int(val_data[col_names].mean()), inplace=True)"
      ],
      "metadata": {
        "id": "_8SRtUfdvhXM"
      },
      "execution_count": null,
      "outputs": []
    },
    {
      "cell_type": "markdown",
      "source": [
        "for test data"
      ],
      "metadata": {
        "id": "mgLf3qFiv2Hp"
      }
    },
    {
      "cell_type": "code",
      "source": [
        "for col_names in test_data_missing_values_col_names:\n",
        "  test_data[col_names].fillna(int(test_data[col_names].mean()), inplace=True)"
      ],
      "metadata": {
        "id": "r-xsLb2hv3PF"
      },
      "execution_count": 22,
      "outputs": []
    },
    {
      "cell_type": "code",
      "source": [
        "missingno.matrix(test_data, figsize = (30,10))"
      ],
      "metadata": {
        "colab": {
          "base_uri": "https://localhost:8080/",
          "height": 384
        },
        "id": "UG_rbmbBmAb7",
        "outputId": "5b3197a8-0588-43e3-8263-10d2b621932c"
      },
      "execution_count": 23,
      "outputs": [
        {
          "output_type": "execute_result",
          "data": {
            "text/plain": [
              "<matplotlib.axes._subplots.AxesSubplot at 0x7f6c243e3390>"
            ]
          },
          "metadata": {},
          "execution_count": 23
        },
        {
          "output_type": "display_data",
          "data": {
            "text/plain": [
              "<Figure size 2160x720 with 2 Axes>"
            ],
            "image/png": "[encoded data removed]"
          },
          "metadata": {
            "needs_background": "light"
          }
        }
      ]
    },
    {
      "cell_type": "markdown",
      "source": [
        "###### option 2 : impute with mode (most frequent value)"
      ],
      "metadata": {
        "id": "CmHqV2coiptu"
      }
    },
    {
      "cell_type": "code",
      "source": [
        ""
      ],
      "metadata": {
        "id": "1Xif-Pw3iy5E"
      },
      "execution_count": null,
      "outputs": []
    },
    {
      "cell_type": "markdown",
      "source": [
        "###### option 3 : impute with knn classifier"
      ],
      "metadata": {
        "id": "1vzXuk-0izZt"
      }
    },
    {
      "cell_type": "code",
      "source": [
        "# from sklearn.impute import KNNImputer\n",
        "\n",
        "# imputer = KNNImputer()\n",
        "# train_data = pd.DataFrame(imputer.fit_transform(train_data), columns = test_data.columns)"
      ],
      "metadata": {
        "id": "brsKSOPOg2mW"
      },
      "execution_count": null,
      "outputs": []
    },
    {
      "cell_type": "markdown",
      "source": [
        "###### option 4 : drop the sample\n",
        "\n",
        "\n",
        "*It is important to note that in kaggle competition, the number of samples in the test set has to be preserved. Hence, we are not allowed to drop the sample that contains missing values in this case as it will give an error during submission.*"
      ],
      "metadata": {
        "id": "7sp8mBalLi_Q"
      }
    },
    {
      "cell_type": "code",
      "source": [
        "# # step 1 : define feature name that has NA\n",
        "# feature_name = 'Embarked'\n",
        "# # step 2 : drop the sample (row) for train, val, test set\n",
        "# train_data = train_data.dropna(subset=[feature_name])\n",
        "# val_data = val_data.dropna(subset=[feature_name])\n",
        "# test_data = test_data.dropna(subset=[feature_name])"
      ],
      "metadata": {
        "id": "N9yxCK8UNM-A"
      },
      "execution_count": null,
      "outputs": []
    },
    {
      "cell_type": "markdown",
      "source": [
        "### step 11.3 : visualize discrete features distribution"
      ],
      "metadata": {
        "id": "ohZJ6mZT2vhg"
      }
    },
    {
      "cell_type": "code",
      "source": [
        "train_data.columns"
      ],
      "metadata": {
        "colab": {
          "base_uri": "https://localhost:8080/"
        },
        "id": "cbWPl2LuYjfZ",
        "outputId": "f04c0e81-856e-40c6-eb26-d1679fe71742"
      },
      "execution_count": 24,
      "outputs": [
        {
          "output_type": "execute_result",
          "data": {
            "text/plain": [
              "Index(['age', 'weight', 'height', 'sex', 'stress', 'doctor', 'sport',\n",
              "       'pernicious_1', 'pernicious_2', 'ubp', 'lbp', 'insomnia'],\n",
              "      dtype='object')"
            ]
          },
          "metadata": {},
          "execution_count": 24
        }
      ]
    },
    {
      "cell_type": "code",
      "source": [
        "# step 1 : specify the discrete features name\n",
        "discrete_features = ['sex', 'stress', 'doctor', 'sport', 'pernicious_1', 'pernicious_2','insomnia']"
      ],
      "metadata": {
        "id": "I70PnLVtgG5P"
      },
      "execution_count": 27,
      "outputs": []
    },
    {
      "cell_type": "code",
      "source": [
        "from IPython.core.pylabtools import figsize\n",
        "figsize(20, 15)\n",
        "\n",
        "for i, feature_name in enumerate(discrete_features):\n",
        "    plt.subplot(4,4,i + 1)\n",
        "    sns.countplot(train_data[feature_name])"
      ],
      "metadata": {
        "id": "cw_QvUT25kgo",
        "colab": {
          "base_uri": "https://localhost:8080/",
          "height": 365
        },
        "outputId": "267e888f-3dc5-437b-d6e4-3992a9aac4f2"
      },
      "execution_count": 28,
      "outputs": [
        {
          "output_type": "display_data",
          "data": {
            "text/plain": [
              "<Figure size 1440x1080 with 7 Axes>"
            ],
            "image/png": "[encoded data removed]"
          },
          "metadata": {
            "needs_background": "light"
          }
        }
      ]
    },
    {
      "cell_type": "markdown",
      "source": [
        "#### step 11.3.1 : deal with skewed discrete features"
      ],
      "metadata": {
        "id": "9l0e5oeE9aWy"
      }
    },
    {
      "cell_type": "code",
      "source": [
        ""
      ],
      "metadata": {
        "id": "7QEXW34mig6v"
      },
      "execution_count": null,
      "outputs": []
    },
    {
      "cell_type": "markdown",
      "source": [
        "### step 11.4 : visualize continuous features distribution"
      ],
      "metadata": {
        "id": "KvcJ0yf05qPE"
      }
    },
    {
      "cell_type": "code",
      "source": [
        "# step 1 : specify the continuous features name\n",
        "continous_features = []\n",
        "for name in train_data.columns:\n",
        "  # features with prefix `drive` is discrete features that\n",
        "  # transformed into one-hot \n",
        "  if (name not in discrete_features):\n",
        "    continous_features.append(name)"
      ],
      "metadata": {
        "id": "NqbYdDJ3b99E"
      },
      "execution_count": 29,
      "outputs": []
    },
    {
      "cell_type": "code",
      "source": [
        "len(continous_features)"
      ],
      "metadata": {
        "colab": {
          "base_uri": "https://localhost:8080/"
        },
        "id": "S1hWAslH6k2Z",
        "outputId": "fdf5a98d-51ec-4f46-a434-3ff3f10434ab"
      },
      "execution_count": 30,
      "outputs": [
        {
          "output_type": "execute_result",
          "data": {
            "text/plain": [
              "5"
            ]
          },
          "metadata": {},
          "execution_count": 30
        }
      ]
    },
    {
      "cell_type": "code",
      "source": [
        "from IPython.core.pylabtools import figsize\n",
        "figsize(20, 15)\n",
        "\n",
        "for i, feature_name in enumerate(continous_features):\n",
        "    plt.subplot(4,4,i + 1)\n",
        "    sns.distplot(train_data[feature_name])"
      ],
      "metadata": {
        "colab": {
          "base_uri": "https://localhost:8080/",
          "height": 367
        },
        "id": "gHsIDKrgYQ7C",
        "outputId": "62ed02d2-91f5-4a9c-a20d-b5836ed071f3"
      },
      "execution_count": 31,
      "outputs": [
        {
          "output_type": "display_data",
          "data": {
            "text/plain": [
              "<Figure size 1440x1080 with 5 Axes>"
            ],
            "image/png": "[encoded data removed]"
          },
          "metadata": {
            "needs_background": "light"
          }
        }
      ]
    },
    {
      "cell_type": "markdown",
      "source": [
        "#### step 11.4.1 : deal with skewed continuous features"
      ],
      "metadata": {
        "id": "P_UjvN8T5Kg3"
      }
    },
    {
      "cell_type": "markdown",
      "source": [
        "##### option 1 : log transformation"
      ],
      "metadata": {
        "id": "FAkkB1-C9nOb"
      }
    },
    {
      "cell_type": "code",
      "source": [
        "# train_data['Fare'] = np.log(train_data['Fare'] + 1)\n",
        "# train_data['Fare'].skew()"
      ],
      "metadata": {
        "id": "PrGGuFS95G-o"
      },
      "execution_count": null,
      "outputs": []
    },
    {
      "cell_type": "code",
      "source": [
        "# print(sns.displot(train_data.Fare))"
      ],
      "metadata": {
        "id": "1ZBKNoIi54Ta"
      },
      "execution_count": null,
      "outputs": []
    },
    {
      "cell_type": "markdown",
      "source": [
        "### step 11.5 : visualize target class distribution"
      ],
      "metadata": {
        "id": "ot1gARYoNBjx"
      }
    },
    {
      "cell_type": "code",
      "source": [
        "from IPython.core.pylabtools import figsize\n",
        "figsize(6, 3)\n",
        "\n",
        "# # countplot for classification\n",
        "# # (discrete and small number of classes)\n",
        "print(sns.countplot(train_data['insomnia']).set_title(\"train data\"))\n",
        "\n",
        "# displot for regression\n",
        "# (continous)\n",
        "# print(sns.displot(train_data['type']))"
      ],
      "metadata": {
        "id": "CDkdjRvhETin",
        "colab": {
          "base_uri": "https://localhost:8080/",
          "height": 258
        },
        "outputId": "95f57bf2-6926-4adc-cfa6-562807fac413"
      },
      "execution_count": 32,
      "outputs": [
        {
          "output_type": "stream",
          "name": "stdout",
          "text": [
            "Text(0.5, 1.0, 'train data')\n"
          ]
        },
        {
          "output_type": "display_data",
          "data": {
            "text/plain": [
              "<Figure size 432x216 with 1 Axes>"
            ],
            "image/png": "[encoded data removed]"
          },
          "metadata": {
            "needs_background": "light"
          }
        }
      ]
    },
    {
      "cell_type": "markdown",
      "source": [
        "#### step 11.5.1 : deal with imblance class\n",
        "\n",
        "**Oversampling** or **undersampling** techniques below doesn't guarantee for the model to perform better on minority class. Read more [here](https://en.wikipedia.org/wiki/Oversampling_and_undersampling_in_data_analysis)."
      ],
      "metadata": {
        "id": "IGhVJcXwt5PN"
      }
    },
    {
      "cell_type": "markdown",
      "source": [
        "##### option 1 : oversampling\n"
      ],
      "metadata": {
        "id": "nG-CVgYhV8G0"
      }
    },
    {
      "cell_type": "code",
      "source": [
        "# from imblearn.over_sampling import SMOTE\n",
        "# oversample = SMOTE()\n",
        "# X, y = oversample.fit_resample(train_data.drop(columns= ['Survived']), train_data['Survived'])"
      ],
      "metadata": {
        "id": "ejiRtl6Z32Qs"
      },
      "execution_count": null,
      "outputs": []
    },
    {
      "cell_type": "code",
      "source": [
        "# X_df = pd.DataFrame(X, columns=train_data.drop(columns = ['Survived']).columns)\n",
        "# y_df = pd.DataFrame(y, columns=['Survived'])"
      ],
      "metadata": {
        "id": "wsPd5b845E7o"
      },
      "execution_count": null,
      "outputs": []
    },
    {
      "cell_type": "code",
      "source": [
        "# # concatenate\n",
        "# X_df['Survived'] = y_df['Survived']\n",
        "# train_data_upsample = X_df"
      ],
      "metadata": {
        "id": "AeTKC3Py8uXi"
      },
      "execution_count": null,
      "outputs": []
    },
    {
      "cell_type": "markdown",
      "source": [
        "##### option 2 : undersampling"
      ],
      "metadata": {
        "id": "gyAdvymoV_bB"
      }
    },
    {
      "cell_type": "code",
      "source": [
        "## add downsampling script"
      ],
      "metadata": {
        "id": "GnHY8HHlWB4E"
      },
      "execution_count": null,
      "outputs": []
    },
    {
      "cell_type": "code",
      "source": [
        "## visualize after performing up or down sampling\n",
        "# print(sns.countplot(train_data_upsample.Survived).set_title(\"train data\"))"
      ],
      "metadata": {
        "id": "KQDoa-An5uO3"
      },
      "execution_count": null,
      "outputs": []
    },
    {
      "cell_type": "markdown",
      "source": [
        "### 11.6 : visualize features correlation "
      ],
      "metadata": {
        "id": "se09DaMYGmj_"
      }
    },
    {
      "cell_type": "markdown",
      "source": [
        "In this case, we are using `Pearson Correlation Matrix`. The `pearson correlation` measures the strength of the linear relationship between two variables. It has a value between -1 to 1, with a value of -1 meaning a total negative linear correlation, 0 being no correlation, and + 1 meaning a total positive correlation. The value greater than 0.5 has high correlation with the corresponding \"pair of feature\". (reference : [link](https://www.sciencedirect.com/topics/computer-science/pearson-correlation#:~:text=The%20Pearson%20correlation%20measures%20the,meaning%20a%20total%20positive%20correlation.))\n",
        "\n",
        ">   Good examples of positive and negative correlation, [here](https://www.quora.com/What-are-some-good-positive-and-negative-correlation-examples).\n",
        "\n",
        "\n",
        "\n",
        "\n"
      ],
      "metadata": {
        "id": "SiJEsZ58ZXJV"
      }
    },
    {
      "cell_type": "code",
      "source": [
        "plt.figure(figsize = (12, 10))\n",
        "sns.heatmap(train_data.corr(), annot = True, cmap=\"Greens\")\n",
        "plt.show()"
      ],
      "metadata": {
        "colab": {
          "base_uri": "https://localhost:8080/",
          "height": 649
        },
        "id": "gwHfFZVVH4gh",
        "outputId": "b2c765e3-37f4-4e1d-e9f8-c579df8993aa"
      },
      "execution_count": 33,
      "outputs": [
        {
          "output_type": "display_data",
          "data": {
            "text/plain": [
              "<Figure size 864x720 with 2 Axes>"
            ],
            "image/png": "[encoded data removed]"
          },
          "metadata": {
            "needs_background": "light"
          }
        }
      ]
    },
    {
      "cell_type": "markdown",
      "source": [
        "#### 11.6.1 : deal with multi-colinearity features"
      ],
      "metadata": {
        "id": "0l3zaWWUudGr"
      }
    },
    {
      "cell_type": "markdown",
      "source": [
        "##### option 1 : drop the features `manually` "
      ],
      "metadata": {
        "id": "e91Pu7Tp0U8c"
      }
    },
    {
      "cell_type": "code",
      "source": [
        "# train_data_upsample.drop(columns = ['Fare'], inplace = True)\n",
        "# val_data.drop(columns = ['Fare'], inplace = True)\n",
        "# test_data.drop(columns = ['Fare'], inplace = True)"
      ],
      "metadata": {
        "id": "Q5-iuHnk4F7z"
      },
      "execution_count": null,
      "outputs": []
    },
    {
      "cell_type": "markdown",
      "source": [
        "##### option 2 : drop the features `automatically` by specifying correlation value threshold."
      ],
      "metadata": {
        "id": "L_2o5C-I-OUT"
      }
    },
    {
      "cell_type": "code",
      "source": [
        "# # step 1 : extract multi-colinearity features\n",
        "# extracted_features, correlation_matrix = extract_multicolin_features(train_data, threshold = 0.4, plot = False)\n",
        "\n",
        "# # step 2 : rank the extracted features based on the correlation with target value\n",
        "# ranked_features = abs(correlation_matrix['Survived'][extracted_features])\n",
        "# ranked_features = ranked_features.sort_values(ascending = False)\n",
        "\n",
        "# # step 3 : remove all of the extracted features except the top feature\n",
        "# top_feature = ranked_features.keys()[0]\n",
        "# features_to_be_removed = list(ranked_features.drop(top_feature).keys())\n",
        "\n",
        "# train_data.drop(columns = features_to_be_removed, inplace = True)\n",
        "# val_data.drop(columns = features_to_be_removed, inplace = True)\n",
        "# test_data.drop(columns = features_to_be_removed, inplace = True)"
      ],
      "metadata": {
        "id": "KnM7wWpUDHcE"
      },
      "execution_count": null,
      "outputs": []
    },
    {
      "cell_type": "markdown",
      "source": [
        "## step 12 : data modelling"
      ],
      "metadata": {
        "id": "HlDZm_0_VmF_"
      }
    },
    {
      "cell_type": "markdown",
      "source": [
        "### step 12.1 : define the input features and target variable"
      ],
      "metadata": {
        "id": "OnHzLe2QSarj"
      }
    },
    {
      "cell_type": "code",
      "source": [
        "# before we start data modelling, let's start to define the x_train, y_train, x_val, y_val\n",
        "x_train = train_data.drop(columns = 'insomnia')\n",
        "x_val = val_data.drop(columns = 'insomnia')\n",
        "\n",
        "y_train = train_data['insomnia']\n",
        "y_val = val_data['insomnia']"
      ],
      "metadata": {
        "id": "MfOVAeL8zcNz"
      },
      "execution_count": 36,
      "outputs": []
    },
    {
      "cell_type": "markdown",
      "source": [
        "### Regressor model"
      ],
      "metadata": {
        "id": "meV35_t7_Oih"
      }
    },
    {
      "cell_type": "markdown",
      "source": [
        "#### option 1 : linear regression (baseline) (optional)"
      ],
      "metadata": {
        "id": "iLh3OSRV_Var"
      }
    },
    {
      "cell_type": "code",
      "source": [
        "# import numpy as np\n",
        "# from sklearn.linear_model import LinearRegression\n",
        "\n",
        "# reg = LinearRegression().fit(x_train, y_train)"
      ],
      "metadata": {
        "id": "0zIcTwb-_bLt"
      },
      "execution_count": null,
      "outputs": []
    },
    {
      "cell_type": "markdown",
      "source": [
        "##### evaluate model "
      ],
      "metadata": {
        "id": "gf3fgNnkVTB6"
      }
    },
    {
      "cell_type": "code",
      "source": [
        "# eval_scores = eval_regres(reg, \n",
        "#      x_train = x_train,\n",
        "#      y_train = y_train, \n",
        "#      x_test = x_val,\n",
        "#      y_test = y_val,\n",
        "#      )\n",
        "# eval_scores"
      ],
      "metadata": {
        "id": "bYkmmOgXVV0Q"
      },
      "execution_count": null,
      "outputs": []
    },
    {
      "cell_type": "markdown",
      "source": [
        "#### option 2 : Catboost regressor"
      ],
      "metadata": {
        "id": "zLxUx-qu_dNp"
      }
    },
    {
      "cell_type": "code",
      "source": [
        "# from sklearn.preprocessing import PolynomialFeatures\n",
        "# from catboost import CatBoostRegressor\n",
        "\n",
        "# pipe = Pipeline([('poly', PolynomialFeatures(1)), \n",
        "#                   ('scaler', StandardScaler()), \n",
        "#                   ('cbr', CatBoostRegressor(silent=True, random_seed=13, loss_function='RMSE'))])\n",
        "\n",
        "# param_grid = {'cbr__iterations': [50, 100, 250], \n",
        "#              'cbr__depth': [4, 5, 7, 8, 9],\n",
        "#               'cbr__l2_leaf_reg': [0.2, 0.5, 1, 3]\n",
        "#               }\n",
        "\n",
        "# catboost_regressor = GridSearchCV(pipe, param_grid, cv=5)\n",
        "# catboost_regressor.fit(x_train, y_train)"
      ],
      "metadata": {
        "id": "j9YXwGRb7ypp"
      },
      "execution_count": null,
      "outputs": []
    },
    {
      "cell_type": "markdown",
      "source": [
        "##### evaluate model "
      ],
      "metadata": {
        "id": "cV5kTeeHYicR"
      }
    },
    {
      "cell_type": "code",
      "source": [
        "# eval_scores = eval_regres(catboost_regressor.best_estimator_, \n",
        "#      x_train = x_train,\n",
        "#      y_train = y_train, \n",
        "#      x_test = x_val,\n",
        "#      y_test = y_val,\n",
        "#      )\n",
        "# eval_scores"
      ],
      "metadata": {
        "id": "C1_1mkh1Yk0x"
      },
      "execution_count": null,
      "outputs": []
    },
    {
      "cell_type": "code",
      "source": [
        "# eval_scores = eval_regres(catboost_regressor.best_estimator_, \n",
        "#      x_train = x_train,\n",
        "#      y_train = y_train, \n",
        "#      x_test = x_test,\n",
        "#      y_test = y_test,\n",
        "#      )\n",
        "# eval_scores"
      ],
      "metadata": {
        "id": "9MMSyWfTEsiP"
      },
      "execution_count": null,
      "outputs": []
    },
    {
      "cell_type": "markdown",
      "source": [
        "### Classifier model"
      ],
      "metadata": {
        "id": "p9bAfFehABr-"
      }
    },
    {
      "cell_type": "markdown",
      "source": [
        "#### option 1 : Logistic Regression (baseline) (optional)"
      ],
      "metadata": {
        "id": "l7EkFMMTDIbm"
      }
    },
    {
      "cell_type": "code",
      "source": [
        "from sklearn.preprocessing import StandardScaler\n",
        "from sklearn.linear_model import LogisticRegression\n",
        "\n",
        "# step 1 : construct the pipeline\n",
        "pipe = Pipeline([('scaler', StandardScaler()),\n",
        "                 ('clf', LogisticRegression())])\n",
        "\n",
        "# step 2 : specify the model param to explore\n",
        "param_grid = [{'clf__C': [1, 10, 100, 1000]}]\n",
        "gs_logistic_regression = GridSearchCV(pipe, param_grid, cv=5)\n",
        "\n",
        "# step 3 : train the model\n",
        "gs_logistic_regression.fit(x_train, y_train)\n",
        "\n",
        "print(f\"rfcModel.best_params = {gs_logistic_regression.best_params_}\")"
      ],
      "metadata": {
        "id": "eUm9K9XUjwEN",
        "colab": {
          "base_uri": "https://localhost:8080/"
        },
        "outputId": "b249ba51-c71e-4874-959a-0c7272ea00ff"
      },
      "execution_count": 37,
      "outputs": [
        {
          "output_type": "stream",
          "name": "stdout",
          "text": [
            "rfcModel.best_params = {'clf__C': 100}\n"
          ]
        }
      ]
    },
    {
      "cell_type": "markdown",
      "source": [
        "##### evaluate model "
      ],
      "metadata": {
        "id": "h1pfwT-lkvKO"
      }
    },
    {
      "cell_type": "code",
      "source": [
        "# step 4 : evaluate the model on validation data\n",
        "evaluation_data_log = eval_class(gs_logistic_regression.best_estimator_, \n",
        "                                      x_train, \n",
        "                                      x_val, \n",
        "                                      y_train, \n",
        "                                      y_val,)\n",
        "print(evaluation_data_log)"
      ],
      "metadata": {
        "id": "469O8XR_jypg",
        "colab": {
          "base_uri": "https://localhost:8080/"
        },
        "outputId": "9879e3a0-d596-4474-8686-bcbf786ef0ad"
      },
      "execution_count": 38,
      "outputs": [
        {
          "output_type": "stream",
          "name": "stdout",
          "text": [
            "       precision    recall        f1 support\n",
            "train   0.721122  0.719503  0.719025    None\n",
            "test    0.725700  0.724004  0.723429    None\n"
          ]
        }
      ]
    },
    {
      "cell_type": "markdown",
      "source": [
        "#### option 2 : Catboost classifier"
      ],
      "metadata": {
        "id": "FhiF2T0kErpv"
      }
    },
    {
      "cell_type": "code",
      "source": [
        "from sklearn.preprocessing import PolynomialFeatures\n",
        "from catboost import CatBoostClassifier\n",
        "\n",
        "pipe = Pipeline([('poly', PolynomialFeatures(1)), \n",
        "                  ('scaler', StandardScaler()), \n",
        "                  ('cbr', CatBoostClassifier(silent=True, random_seed=13, loss_function='MultiClass'))])\n",
        "\n",
        "param_grid = {'cbr__iterations': [50, 100, 250], \n",
        "             'cbr__depth': [4, 5, 7, 8, 9],}\n",
        "\n",
        "gs_catboost = GridSearchCV(pipe, param_grid, cv=5)\n",
        "gs_catboost.fit(x_train, y_train)"
      ],
      "metadata": {
        "id": "cZouzXOwJMVI",
        "colab": {
          "base_uri": "https://localhost:8080/"
        },
        "outputId": "10aad018-8aed-4afe-c856-d7f8274c87aa"
      },
      "execution_count": 39,
      "outputs": [
        {
          "output_type": "execute_result",
          "data": {
            "text/plain": [
              "GridSearchCV(cv=5,\n",
              "             estimator=Pipeline(steps=[('poly', PolynomialFeatures(degree=1)),\n",
              "                                       ('scaler', StandardScaler()),\n",
              "                                       ('cbr',\n",
              "                                        <catboost.core.CatBoostClassifier object at 0x7f6c23726350>)]),\n",
              "             param_grid={'cbr__depth': [4, 5, 7, 8, 9],\n",
              "                         'cbr__iterations': [50, 100, 250]})"
            ]
          },
          "metadata": {},
          "execution_count": 39
        }
      ]
    },
    {
      "cell_type": "markdown",
      "source": [
        "##### evaluate model "
      ],
      "metadata": {
        "id": "5Nuk9HPzkwrm"
      }
    },
    {
      "cell_type": "code",
      "source": [
        "# step 3 : evaluate the scores on train and test set\n",
        "evaluation_data_log = eval_class(gs_catboost.best_estimator_, \n",
        "                                 x_train, \n",
        "                                 x_val, \n",
        "                                 y_train, \n",
        "                                 y_val,)\n",
        "print(evaluation_data_log)"
      ],
      "metadata": {
        "id": "qPNDvPgfLJU4",
        "colab": {
          "base_uri": "https://localhost:8080/"
        },
        "outputId": "534622e4-46e9-412e-93da-55b88f92f680"
      },
      "execution_count": null,
      "outputs": [
        {
          "output_type": "stream",
          "name": "stdout",
          "text": [
            "       precision    recall        f1 support\n",
            "train   0.845096  0.842065  0.841952    None\n",
            "test    0.724171  0.721032  0.721562    None\n"
          ]
        }
      ]
    },
    {
      "cell_type": "markdown",
      "source": [
        "## step 13 : visualize features importance\n",
        "\n",
        "The function used below to visualize `features importance` is copied from Daniel Bourke notebook [here](https://github.com/mrdbourke/your-first-kaggle-submission/blob/master/kaggle-titanic-dataset-example-submission-workflow.ipynb)."
      ],
      "metadata": {
        "id": "rbsgfplbEaOv"
      }
    },
    {
      "cell_type": "code",
      "source": [
        "def feature_importance(model, data):\n",
        "    \"\"\"\n",
        "    Function to show which features are most important in the model.\n",
        "    ::param_model:: Which model to use?\n",
        "    ::param_data:: What data to use?\n",
        "    \"\"\"\n",
        "    fea_imp = pd.DataFrame({'imp': model.feature_importances_, 'col': data.columns})\n",
        "    fea_imp = fea_imp.sort_values(['imp', 'col'], ascending=[True, False]).iloc[-30:]\n",
        "    _ = fea_imp.plot(kind='barh', x='col', y='imp', figsize=(20, 10))\n",
        "    return fea_imp\n",
        "    #plt.savefig('catboost_feature_importance.png') \n",
        "\n",
        "feature_importance(gs_catboost.best_estimator_._final_estimator, train_data)"
      ],
      "metadata": {
        "id": "2Ngu6_djEZuv",
        "colab": {
          "base_uri": "https://localhost:8080/",
          "height": 872
        },
        "outputId": "b00df1df-7d27-4439-9e2f-59b268fb6cc4"
      },
      "execution_count": 40,
      "outputs": [
        {
          "output_type": "execute_result",
          "data": {
            "text/plain": [
              "          imp           col\n",
              "0    0.000000           age\n",
              "4    0.785688        stress\n",
              "9    0.845820           ubp\n",
              "8    1.009734  pernicious_2\n",
              "7    1.572462  pernicious_1\n",
              "6    2.463040         sport\n",
              "3    4.918772           sex\n",
              "11   5.783908      insomnia\n",
              "2    8.668073        height\n",
              "5   11.235329        doctor\n",
              "1   22.494237        weight\n",
              "10  40.222938           lbp"
            ],
            "text/html": [
              "\n",
              "  <div id=\"df-4732a354-db37-41cc-bcaf-ad348e8c788e\">\n",
              "    <div class=\"colab-df-container\">\n",
              "      <div>\n",
              "<style scoped>\n",
              "    .dataframe tbody tr th:only-of-type {\n",
              "        vertical-align: middle;\n",
              "    }\n",
              "\n",
              "    .dataframe tbody tr th {\n",
              "        vertical-align: top;\n",
              "    }\n",
              "\n",
              "    .dataframe thead th {\n",
              "        text-align: right;\n",
              "    }\n",
              "</style>\n",
              "<table border=\"1\" class=\"dataframe\">\n",
              "  <thead>\n",
              "    <tr style=\"text-align: right;\">\n",
              "      <th></th>\n",
              "      <th>imp</th>\n",
              "      <th>col</th>\n",
              "    </tr>\n",
              "  </thead>\n",
              "  <tbody>\n",
              "    <tr>\n",
              "      <th>0</th>\n",
              "      <td>0.000000</td>\n",
              "      <td>age</td>\n",
              "    </tr>\n",
              "    <tr>\n",
              "      <th>4</th>\n",
              "      <td>0.785688</td>\n",
              "      <td>stress</td>\n",
              "    </tr>\n",
              "    <tr>\n",
              "      <th>9</th>\n",
              "      <td>0.845820</td>\n",
              "      <td>ubp</td>\n",
              "    </tr>\n",
              "    <tr>\n",
              "      <th>8</th>\n",
              "      <td>1.009734</td>\n",
              "      <td>pernicious_2</td>\n",
              "    </tr>\n",
              "    <tr>\n",
              "      <th>7</th>\n",
              "      <td>1.572462</td>\n",
              "      <td>pernicious_1</td>\n",
              "    </tr>\n",
              "    <tr>\n",
              "      <th>6</th>\n",
              "      <td>2.463040</td>\n",
              "      <td>sport</td>\n",
              "    </tr>\n",
              "    <tr>\n",
              "      <th>3</th>\n",
              "      <td>4.918772</td>\n",
              "      <td>sex</td>\n",
              "    </tr>\n",
              "    <tr>\n",
              "      <th>11</th>\n",
              "      <td>5.783908</td>\n",
              "      <td>insomnia</td>\n",
              "    </tr>\n",
              "    <tr>\n",
              "      <th>2</th>\n",
              "      <td>8.668073</td>\n",
              "      <td>height</td>\n",
              "    </tr>\n",
              "    <tr>\n",
              "      <th>5</th>\n",
              "      <td>11.235329</td>\n",
              "      <td>doctor</td>\n",
              "    </tr>\n",
              "    <tr>\n",
              "      <th>1</th>\n",
              "      <td>22.494237</td>\n",
              "      <td>weight</td>\n",
              "    </tr>\n",
              "    <tr>\n",
              "      <th>10</th>\n",
              "      <td>40.222938</td>\n",
              "      <td>lbp</td>\n",
              "    </tr>\n",
              "  </tbody>\n",
              "</table>\n",
              "</div>\n",
              "      <button class=\"colab-df-convert\" onclick=\"convertToInteractive('df-4732a354-db37-41cc-bcaf-ad348e8c788e')\"\n",
              "              title=\"Convert this dataframe to an interactive table.\"\n",
              "              style=\"display:none;\">\n",
              "        \n",
              "  <svg xmlns=\"http://www.w3.org/2000/svg\" height=\"24px\"viewBox=\"0 0 24 24\"\n",
              "       width=\"24px\">\n",
              "    <path d=\"M0 0h24v24H0V0z\" fill=\"none\"/>\n",
              "    <path d=\"M18.56 5.44l.94 2.06.94-2.06 2.06-.94-2.06-.94-.94-2.06-.94 2.06-2.06.94zm-11 1L8.5 8.5l.94-2.06 2.06-.94-2.06-.94L8.5 2.5l-.94 2.06-2.06.94zm10 10l.94 2.06.94-2.06 2.06-.94-2.06-.94-.94-2.06-.94 2.06-2.06.94z\"/><path d=\"M17.41 7.96l-1.37-1.37c-.4-.4-.92-.59-1.43-.59-.52 0-1.04.2-1.43.59L10.3 9.45l-7.72 7.72c-.78.78-.78 2.05 0 2.83L4 21.41c.39.39.9.59 1.41.59.51 0 1.02-.2 1.41-.59l7.78-7.78 2.81-2.81c.8-.78.8-2.07 0-2.86zM5.41 20L4 18.59l7.72-7.72 1.47 1.35L5.41 20z\"/>\n",
              "  </svg>\n",
              "      </button>\n",
              "      \n",
              "  <style>\n",
              "    .colab-df-container {\n",
              "      display:flex;\n",
              "      flex-wrap:wrap;\n",
              "      gap: 12px;\n",
              "    }\n",
              "\n",
              "    .colab-df-convert {\n",
              "      background-color: #E8F0FE;\n",
              "      border: none;\n",
              "      border-radius: 50%;\n",
              "      cursor: pointer;\n",
              "      display: none;\n",
              "      fill: #1967D2;\n",
              "      height: 32px;\n",
              "      padding: 0 0 0 0;\n",
              "      width: 32px;\n",
              "    }\n",
              "\n",
              "    .colab-df-convert:hover {\n",
              "      background-color: #E2EBFA;\n",
              "      box-shadow: 0px 1px 2px rgba(60, 64, 67, 0.3), 0px 1px 3px 1px rgba(60, 64, 67, 0.15);\n",
              "      fill: #174EA6;\n",
              "    }\n",
              "\n",
              "    [theme=dark] .colab-df-convert {\n",
              "      background-color: #3B4455;\n",
              "      fill: #D2E3FC;\n",
              "    }\n",
              "\n",
              "    [theme=dark] .colab-df-convert:hover {\n",
              "      background-color: #434B5C;\n",
              "      box-shadow: 0px 1px 3px 1px rgba(0, 0, 0, 0.15);\n",
              "      filter: drop-shadow(0px 1px 2px rgba(0, 0, 0, 0.3));\n",
              "      fill: #FFFFFF;\n",
              "    }\n",
              "  </style>\n",
              "\n",
              "      <script>\n",
              "        const buttonEl =\n",
              "          document.querySelector('#df-4732a354-db37-41cc-bcaf-ad348e8c788e button.colab-df-convert');\n",
              "        buttonEl.style.display =\n",
              "          google.colab.kernel.accessAllowed ? 'block' : 'none';\n",
              "\n",
              "        async function convertToInteractive(key) {\n",
              "          const element = document.querySelector('#df-4732a354-db37-41cc-bcaf-ad348e8c788e');\n",
              "          const dataTable =\n",
              "            await google.colab.kernel.invokeFunction('convertToInteractive',\n",
              "                                                     [key], {});\n",
              "          if (!dataTable) return;\n",
              "\n",
              "          const docLinkHtml = 'Like what you see? Visit the ' +\n",
              "            '<a target=\"_blank\" href=https://colab.research.google.com/notebooks/data_table.ipynb>data table notebook</a>'\n",
              "            + ' to learn more about interactive tables.';\n",
              "          element.innerHTML = '';\n",
              "          dataTable['output_type'] = 'display_data';\n",
              "          await google.colab.output.renderOutput(dataTable, element);\n",
              "          const docLink = document.createElement('div');\n",
              "          docLink.innerHTML = docLinkHtml;\n",
              "          element.appendChild(docLink);\n",
              "        }\n",
              "      </script>\n",
              "    </div>\n",
              "  </div>\n",
              "  "
            ]
          },
          "metadata": {},
          "execution_count": 40
        },
        {
          "output_type": "display_data",
          "data": {
            "text/plain": [
              "<Figure size 1440x720 with 1 Axes>"
            ],
            "image/png": "[encoded data removed]"
          },
          "metadata": {
            "needs_background": "light"
          }
        }
      ]
    },
    {
      "cell_type": "markdown",
      "source": [
        "## step 14 : prepare for submission (optional)\n",
        "if submit to kaggle"
      ],
      "metadata": {
        "id": "yqv-gQY5VrPI"
      }
    },
    {
      "cell_type": "code",
      "source": [
        "# step 1 : intiliazie best model with the corresponding hyper-params\n",
        "best_model = gs_catboost.best_estimator_\n",
        "\n",
        "predictions = best_model.predict(test_data)\n",
        "\n",
        "# step 4 : retrieve the prediction probability (Optional)\n",
        "total_probs = best_model.predict_proba(test_data)\n",
        "probs = [total_probs[i, pred] for i, pred in enumerate(predictions)]\n",
        "\n",
        "# step 5 : load the submission file\n",
        "submission_path = '/content/sample_submission.csv' \n",
        "submission = pd.read_csv(submission_path)\n",
        "\n",
        "# step 6 : fill the target with the prediction probability\n",
        "submission['Survived'] = predictions\n",
        "\n",
        "# step 7 : save the submission file\n",
        "save_path = '/content/prediction1.csv'\n",
        "submission.to_csv(save_path, index = False)"
      ],
      "metadata": {
        "id": "pra6KEylmrbH"
      },
      "execution_count": 41,
      "outputs": []
    },
    {
      "cell_type": "code",
      "source": [
        "submission.head(5)"
      ],
      "metadata": {
        "colab": {
          "base_uri": "https://localhost:8080/",
          "height": 206
        },
        "id": "MeX-R4nIpqFH",
        "outputId": "2245ca26-282a-4d51-bd18-1b86af64e55e"
      },
      "execution_count": 42,
      "outputs": [
        {
          "output_type": "execute_result",
          "data": {
            "text/plain": [
              "   id  insomnia  Survived\n",
              "0   5       0.5         0\n",
              "1   6       0.5         1\n",
              "2   7       0.5         0\n",
              "3  10       0.5         0\n",
              "4  11       0.5         0"
            ],
            "text/html": [
              "\n",
              "  <div id=\"df-d5113679-60c5-4c30-9256-cb515ba09a70\">\n",
              "    <div class=\"colab-df-container\">\n",
              "      <div>\n",
              "<style scoped>\n",
              "    .dataframe tbody tr th:only-of-type {\n",
              "        vertical-align: middle;\n",
              "    }\n",
              "\n",
              "    .dataframe tbody tr th {\n",
              "        vertical-align: top;\n",
              "    }\n",
              "\n",
              "    .dataframe thead th {\n",
              "        text-align: right;\n",
              "    }\n",
              "</style>\n",
              "<table border=\"1\" class=\"dataframe\">\n",
              "  <thead>\n",
              "    <tr style=\"text-align: right;\">\n",
              "      <th></th>\n",
              "      <th>id</th>\n",
              "      <th>insomnia</th>\n",
              "      <th>Survived</th>\n",
              "    </tr>\n",
              "  </thead>\n",
              "  <tbody>\n",
              "    <tr>\n",
              "      <th>0</th>\n",
              "      <td>5</td>\n",
              "      <td>0.5</td>\n",
              "      <td>0</td>\n",
              "    </tr>\n",
              "    <tr>\n",
              "      <th>1</th>\n",
              "      <td>6</td>\n",
              "      <td>0.5</td>\n",
              "      <td>1</td>\n",
              "    </tr>\n",
              "    <tr>\n",
              "      <th>2</th>\n",
              "      <td>7</td>\n",
              "      <td>0.5</td>\n",
              "      <td>0</td>\n",
              "    </tr>\n",
              "    <tr>\n",
              "      <th>3</th>\n",
              "      <td>10</td>\n",
              "      <td>0.5</td>\n",
              "      <td>0</td>\n",
              "    </tr>\n",
              "    <tr>\n",
              "      <th>4</th>\n",
              "      <td>11</td>\n",
              "      <td>0.5</td>\n",
              "      <td>0</td>\n",
              "    </tr>\n",
              "  </tbody>\n",
              "</table>\n",
              "</div>\n",
              "      <button class=\"colab-df-convert\" onclick=\"convertToInteractive('df-d5113679-60c5-4c30-9256-cb515ba09a70')\"\n",
              "              title=\"Convert this dataframe to an interactive table.\"\n",
              "              style=\"display:none;\">\n",
              "        \n",
              "  <svg xmlns=\"http://www.w3.org/2000/svg\" height=\"24px\"viewBox=\"0 0 24 24\"\n",
              "       width=\"24px\">\n",
              "    <path d=\"M0 0h24v24H0V0z\" fill=\"none\"/>\n",
              "    <path d=\"M18.56 5.44l.94 2.06.94-2.06 2.06-.94-2.06-.94-.94-2.06-.94 2.06-2.06.94zm-11 1L8.5 8.5l.94-2.06 2.06-.94-2.06-.94L8.5 2.5l-.94 2.06-2.06.94zm10 10l.94 2.06.94-2.06 2.06-.94-2.06-.94-.94-2.06-.94 2.06-2.06.94z\"/><path d=\"M17.41 7.96l-1.37-1.37c-.4-.4-.92-.59-1.43-.59-.52 0-1.04.2-1.43.59L10.3 9.45l-7.72 7.72c-.78.78-.78 2.05 0 2.83L4 21.41c.39.39.9.59 1.41.59.51 0 1.02-.2 1.41-.59l7.78-7.78 2.81-2.81c.8-.78.8-2.07 0-2.86zM5.41 20L4 18.59l7.72-7.72 1.47 1.35L5.41 20z\"/>\n",
              "  </svg>\n",
              "      </button>\n",
              "      \n",
              "  <style>\n",
              "    .colab-df-container {\n",
              "      display:flex;\n",
              "      flex-wrap:wrap;\n",
              "      gap: 12px;\n",
              "    }\n",
              "\n",
              "    .colab-df-convert {\n",
              "      background-color: #E8F0FE;\n",
              "      border: none;\n",
              "      border-radius: 50%;\n",
              "      cursor: pointer;\n",
              "      display: none;\n",
              "      fill: #1967D2;\n",
              "      height: 32px;\n",
              "      padding: 0 0 0 0;\n",
              "      width: 32px;\n",
              "    }\n",
              "\n",
              "    .colab-df-convert:hover {\n",
              "      background-color: #E2EBFA;\n",
              "      box-shadow: 0px 1px 2px rgba(60, 64, 67, 0.3), 0px 1px 3px 1px rgba(60, 64, 67, 0.15);\n",
              "      fill: #174EA6;\n",
              "    }\n",
              "\n",
              "    [theme=dark] .colab-df-convert {\n",
              "      background-color: #3B4455;\n",
              "      fill: #D2E3FC;\n",
              "    }\n",
              "\n",
              "    [theme=dark] .colab-df-convert:hover {\n",
              "      background-color: #434B5C;\n",
              "      box-shadow: 0px 1px 3px 1px rgba(0, 0, 0, 0.15);\n",
              "      filter: drop-shadow(0px 1px 2px rgba(0, 0, 0, 0.3));\n",
              "      fill: #FFFFFF;\n",
              "    }\n",
              "  </style>\n",
              "\n",
              "      <script>\n",
              "        const buttonEl =\n",
              "          document.querySelector('#df-d5113679-60c5-4c30-9256-cb515ba09a70 button.colab-df-convert');\n",
              "        buttonEl.style.display =\n",
              "          google.colab.kernel.accessAllowed ? 'block' : 'none';\n",
              "\n",
              "        async function convertToInteractive(key) {\n",
              "          const element = document.querySelector('#df-d5113679-60c5-4c30-9256-cb515ba09a70');\n",
              "          const dataTable =\n",
              "            await google.colab.kernel.invokeFunction('convertToInteractive',\n",
              "                                                     [key], {});\n",
              "          if (!dataTable) return;\n",
              "\n",
              "          const docLinkHtml = 'Like what you see? Visit the ' +\n",
              "            '<a target=\"_blank\" href=https://colab.research.google.com/notebooks/data_table.ipynb>data table notebook</a>'\n",
              "            + ' to learn more about interactive tables.';\n",
              "          element.innerHTML = '';\n",
              "          dataTable['output_type'] = 'display_data';\n",
              "          await google.colab.output.renderOutput(dataTable, element);\n",
              "          const docLink = document.createElement('div');\n",
              "          docLink.innerHTML = docLinkHtml;\n",
              "          element.appendChild(docLink);\n",
              "        }\n",
              "      </script>\n",
              "    </div>\n",
              "  </div>\n",
              "  "
            ]
          },
          "metadata": {},
          "execution_count": 42
        }
      ]
    },
    {
      "cell_type": "markdown",
      "source": [
        "# Conclusion\n",
        "\n",
        "Normalization will result in lower metric scores for test set."
      ],
      "metadata": {
        "id": "Cm8Vg5DrP7Vf"
      }
    }
  ]
}